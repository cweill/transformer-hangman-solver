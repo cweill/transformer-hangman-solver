{
 "cells": [
  {
   "cell_type": "code",
   "execution_count": 1,
   "metadata": {},
   "outputs": [],
   "source": [
    "import torch\n",
    "import numpy as np\n",
    "import matplotlib.pyplot as plt\n",
    "from tqdm import tqdm\n",
    "from numba import njit\n",
    "from torch.utils.data import Dataset\n",
    "import random\n",
    "%matplotlib inline"
   ]
  },
  {
   "cell_type": "code",
   "execution_count": 2,
   "metadata": {},
   "outputs": [
    {
     "name": "stdout",
     "output_type": "stream",
     "text": [
      "224377\n"
     ]
    }
   ],
   "source": [
    "# load the data in training_dictionary.txt\n",
    "with open(\n",
    "    \"/home/ubuntu/fs-1/transformer-hangman-solver/training_dictionary.txt\", \"r\"\n",
    ") as file:\n",
    "    all_words = file.read().splitlines()\n",
    "print(len(all_words))"
   ]
  },
  {
   "cell_type": "code",
   "execution_count": 3,
   "metadata": {},
   "outputs": [
    {
     "name": "stderr",
     "output_type": "stream",
     "text": [
      "100%|█████████████████████████████████████████████████████████████████████████████████████████████████████████████████████████████████████████████████████████████████████████████████████████████████| 224377/224377 [00:00<00:00, 3723846.36it/s]"
     ]
    },
    {
     "name": "stdout",
     "output_type": "stream",
     "text": [
      "count    224377.000000\n",
      "mean          9.591540\n",
      "std           2.916634\n",
      "min           1.000000\n",
      "25%           8.000000\n",
      "50%           9.000000\n",
      "75%          11.000000\n",
      "max          24.000000\n",
      "Name: word_length, dtype: float64\n"
     ]
    },
    {
     "name": "stderr",
     "output_type": "stream",
     "text": [
      "\n"
     ]
    },
    {
     "data": {
      "text/plain": [
       "array([[<Axes: title={'center': 'word_length'}>]], dtype=object)"
      ]
     },
     "execution_count": 3,
     "metadata": {},
     "output_type": "execute_result"
    },
    {
     "data": {
      "image/png": "[encoded data removed]",
      "text/plain": [
       "<Figure size 640x480 with 1 Axes>"
      ]
     },
     "metadata": {},
     "output_type": "display_data"
    }
   ],
   "source": [
    "import pandas as pd\n",
    "\n",
    "df = pd.DataFrame(\n",
    "    {\n",
    "        \"word_length\": [len(word) for word in tqdm(all_words)],\n",
    "    }\n",
    ")\n",
    "\n",
    "print(df[\"word_length\"].describe())\n",
    "\n",
    "df.hist(column=\"word_length\", bins=df[\"word_length\"].max())"
   ]
  },
  {
   "cell_type": "code",
   "execution_count": 4,
   "metadata": {},
   "outputs": [],
   "source": [
    "max_length = 25\n",
    "\n",
    "words = [word for word in all_words if len(word) <= max_length]"
   ]
  },
  {
   "cell_type": "code",
   "execution_count": 5,
   "metadata": {},
   "outputs": [
    {
     "name": "stdout",
     "output_type": "stream",
     "text": [
      "224377\n"
     ]
    },
    {
     "data": {
      "text/plain": [
       "['reperplex',\n",
       " 'dice',\n",
       " 'hemibenthic',\n",
       " 'plumatellid',\n",
       " 'delatinize',\n",
       " 'mermithization',\n",
       " 'rixatrix',\n",
       " 'preassurance',\n",
       " 'desensitize',\n",
       " 'mele']"
      ]
     },
     "execution_count": 5,
     "metadata": {},
     "output_type": "execute_result"
    }
   ],
   "source": [
    "import random\n",
    "\n",
    "print(len(words))\n",
    "random.seed(42)\n",
    "random.shuffle(words)\n",
    "words[:10]"
   ]
  },
  {
   "cell_type": "code",
   "execution_count": 6,
   "metadata": {},
   "outputs": [
    {
     "data": {
      "text/plain": [
       "2152121"
      ]
     },
     "execution_count": 6,
     "metadata": {},
     "output_type": "execute_result"
    }
   ],
   "source": [
    "len(\"\".join(words))"
   ]
  },
  {
   "cell_type": "code",
   "execution_count": 7,
   "metadata": {},
   "outputs": [
    {
     "name": "stdout",
     "output_type": "stream",
     "text": [
      "tetraiodophenolphthalein 24\n"
     ]
    }
   ],
   "source": [
    "longest_word = max(words, key=len)\n",
    "print(longest_word, len(longest_word))"
   ]
  },
  {
   "cell_type": "code",
   "execution_count": 8,
   "metadata": {},
   "outputs": [
    {
     "name": "stdout",
     "output_type": "stream",
     "text": [
      "29\n",
      "{'.': 0, '_': 1, '-': 2, 'a': 3, 'b': 4, 'c': 5, 'd': 6, 'e': 7, 'f': 8, 'g': 9, 'h': 10, 'i': 11, 'j': 12, 'k': 13, 'l': 14, 'm': 15, 'n': 16, 'o': 17, 'p': 18, 'q': 19, 'r': 20, 's': 21, 't': 22, 'u': 23, 'v': 24, 'w': 25, 'x': 26, 'y': 27, 'z': 28}\n",
      "{0: '.', 1: '_', 2: '-', 3: 'a', 4: 'b', 5: 'c', 6: 'd', 7: 'e', 8: 'f', 9: 'g', 10: 'h', 11: 'i', 12: 'j', 13: 'k', 14: 'l', 15: 'm', 16: 'n', 17: 'o', 18: 'p', 19: 'q', 20: 'r', 21: 's', 22: 't', 23: 'u', 24: 'v', 25: 'w', 26: 'x', 27: 'y', 28: 'z'}\n"
     ]
    }
   ],
   "source": [
    "vocab = set(\"\".join(words))\n",
    "vocab = [\".\", \"_\"] + sorted(list(vocab))\n",
    "vocab_size = len(vocab)\n",
    "print(vocab_size)\n",
    "stoi = {char: i for i, char in enumerate(vocab)}\n",
    "itos = {i: char for char, i in stoi.items()}\n",
    "print(stoi)\n",
    "print(itos)"
   ]
  },
  {
   "cell_type": "code",
   "execution_count": 9,
   "metadata": {},
   "outputs": [
    {
     "name": "stdout",
     "output_type": "stream",
     "text": [
      "224377\n"
     ]
    },
    {
     "data": {
      "text/plain": [
       "['reperplex................',\n",
       " 'dice.....................',\n",
       " 'hemibenthic..............',\n",
       " 'plumatellid..............',\n",
       " 'delatinize...............',\n",
       " 'mermithization...........',\n",
       " 'rixatrix.................',\n",
       " 'preassurance.............',\n",
       " 'desensitize..............',\n",
       " 'mele.....................',\n",
       " 'codfisher................',\n",
       " 'metrorrhagia.............',\n",
       " 'dispiece.................',\n",
       " 'malagigi.................',\n",
       " 'undetractingly...........',\n",
       " 'vanillal.................',\n",
       " 'dowery...................',\n",
       " 'blepharal................',\n",
       " 'osnappar.................',\n",
       " 'phoronic.................',\n",
       " 'behold...................',\n",
       " 'brigand..................',\n",
       " 'lots.....................',\n",
       " 'thingamabob..............',\n",
       " 'aureation................',\n",
       " 'phosphene................',\n",
       " 'kolach...................',\n",
       " 'raja.....................',\n",
       " 'rhipiphorid..............',\n",
       " 'unagitatedly.............']"
      ]
     },
     "execution_count": 9,
     "metadata": {},
     "output_type": "execute_result"
    }
   ],
   "source": [
    "# create a dataset where each character is masked with an underscore\n",
    "block_size = max_length\n",
    "dataset = []\n",
    "# Truncate word to block_size or fill them with '.' if it's too short. Use '_' for the single masked character. There must only be one '_' per word.\n",
    "truncated_words = []\n",
    "for word in words:\n",
    "    # Pad shorter words with '.' to match block_size\n",
    "    if len(word) < block_size:\n",
    "        word = word + \".\" * (block_size - len(word))\n",
    "\n",
    "    # Use sliding window to generate subwords\n",
    "    for i in range(len(word) - block_size + 1):\n",
    "        subword = word[i : i + block_size]\n",
    "        truncated_words.append(subword)\n",
    "\n",
    "print(len(truncated_words))\n",
    "truncated_words[:30]"
   ]
  },
  {
   "cell_type": "code",
   "execution_count": 10,
   "metadata": {},
   "outputs": [
    {
     "name": "stdout",
     "output_type": "stream",
     "text": [
      "[('_pp', 'app'), ('a__', 'app'), ('___', 'app')]\n",
      "[('_pp.', 'app.'), ('a__.', 'app.'), ('___.', 'app.')]\n",
      "[('x_z', 'xyz'), ('_yz', 'xyz'), ('__z', 'xyz'), ('xy_', 'xyz'), ('x__', 'xyz'), ('_y_', 'xyz'), ('___', 'xyz')]\n",
      "[('x_z..', 'xyz..'), ('_yz..', 'xyz..'), ('__z..', 'xyz..'), ('xy_..', 'xyz..'), ('x__..', 'xyz..'), ('_y_..', 'xyz..'), ('___..', 'xyz..')]\n"
     ]
    }
   ],
   "source": [
    "def masked_words(word: str):\n",
    "    if not word:\n",
    "        return []\n",
    "\n",
    "    result = []\n",
    "\n",
    "    # Get unique characters in the word\n",
    "    unique_chars = list(set(word) - {\".\"})\n",
    "\n",
    "    # Generate all possible combinations of which characters to mask\n",
    "    # For n unique characters, we have 2^n possibilities\n",
    "    for i in range(1, 2 ** len(unique_chars)):  # Start from 1 to exclude no masks\n",
    "        chars_to_mask = set()\n",
    "\n",
    "        # Determine which characters to mask based on bit pattern\n",
    "        for j in range(len(unique_chars)):\n",
    "            if i & (1 << j):\n",
    "                chars_to_mask.add(unique_chars[j])\n",
    "\n",
    "        # Create the masked string\n",
    "        masked = \"\"\n",
    "        for char in word:\n",
    "            if char in chars_to_mask:\n",
    "                masked += \"_\"\n",
    "            else:\n",
    "                masked += char\n",
    "\n",
    "        # Create a tuple for each masked character type\n",
    "        # for char in chars_to_mask:\n",
    "        result.append((masked, word))\n",
    "\n",
    "    return result\n",
    "\n",
    "\n",
    "print(masked_words(\"app\"))\n",
    "print(masked_words(\"app.\"))\n",
    "print(masked_words(\"xyz\"))\n",
    "print(masked_words(\"xyz..\"))"
   ]
  },
  {
   "cell_type": "code",
   "execution_count": 13,
   "metadata": {},
   "outputs": [
    {
     "name": "stdout",
     "output_type": "stream",
     "text": [
      "94041916\n",
      "[('re_er_lex................', 'reperplex................'), ('r_p_rpl_x................', 'reperplex................'), ('r___r_l_x................', 'reperplex................'), ('reperple_................', 'reperplex................'), ('re_er_le_................', 'reperplex................'), ('r_p_rpl__................', 'reperplex................'), ('r___r_l__................', 'reperplex................'), ('reperp_ex................', 'reperplex................'), ('re_er__ex................', 'reperplex................'), ('r_p_rp__x................', 'reperplex................')]\n",
      "1406556\n",
      "[('pyth_gorism..............', 'pythagorism..............'), ('pythagori_m..............', 'pythagorism..............'), ('pyth_gori_m..............', 'pythagorism..............'), ('_ythagorism..............', 'pythagorism..............'), ('_yth_gorism..............', 'pythagorism..............'), ('_ythagori_m..............', 'pythagorism..............'), ('_yth_gori_m..............', 'pythagorism..............'), ('pytha_orism..............', 'pythagorism..............'), ('pyth__orism..............', 'pythagorism..............'), ('pytha_ori_m..............', 'pythagorism..............')]\n",
      "CPU times: user 4min 8s, sys: 8.4 s, total: 4min 17s\n",
      "Wall time: 4min 17s\n"
     ]
    }
   ],
   "source": [
    "%%time\n",
    "\n",
    "TRAIN_NUM_WORDS = 200_000\n",
    "VAL_NUM_WORDS = 3_000\n",
    "\n",
    "def gen_dataset(truncated_words: list[str]):\n",
    "    dataset = []\n",
    "    for word in truncated_words:\n",
    "        dataset.extend(masked_words(word))\n",
    "    return dataset\n",
    "\n",
    "\n",
    "# dataset = list(set(dataset))\n",
    "\n",
    "# print the first 10 elements of the dataset\n",
    "train_dataset = gen_dataset(truncated_words[:TRAIN_NUM_WORDS])\n",
    "print(len(train_dataset))\n",
    "print(train_dataset[:10])\n",
    "\n",
    "val_dataset = gen_dataset(truncated_words[-VAL_NUM_WORDS:])\n",
    "print(len(val_dataset))\n",
    "print(val_dataset[:10])"
   ]
  },
  {
   "cell_type": "code",
   "execution_count": 14,
   "metadata": {},
   "outputs": [
    {
     "name": "stdout",
     "output_type": "stream",
     "text": [
      "CPU times: user 1min 43s, sys: 374 ms, total: 1min 44s\n",
      "Wall time: 1min 43s\n"
     ]
    }
   ],
   "source": [
    "%%time\n",
    "TRAIN_NUM_EXAMPLES = 10_000_000\n",
    "\n",
    "random.seed(42)\n",
    "random.shuffle(train_dataset)\n",
    "train_dataset = train_dataset[:TRAIN_NUM_EXAMPLES]"
   ]
  },
  {
   "cell_type": "code",
   "execution_count": 15,
   "metadata": {},
   "outputs": [
    {
     "name": "stdout",
     "output_type": "stream",
     "text": [
      "([4, 1, 1, 1, 1, 1, 1, 1, 10, 1, 14, 1, 21, 0, 0, 0, 0, 0, 0, 0, 0, 0, 0, 0, 0], [4, 7, 22, 25, 7, 7, 16, 25, 10, 11, 14, 7, 21, 0, 0, 0, 0, 0, 0, 0, 0, 0, 0, 0, 0])\n",
      "([18, 27, 22, 10, 1, 9, 17, 20, 11, 21, 15, 0, 0, 0, 0, 0, 0, 0, 0, 0, 0, 0, 0, 0, 0], [18, 27, 22, 10, 3, 9, 17, 20, 11, 21, 15, 0, 0, 0, 0, 0, 0, 0, 0, 0, 0, 0, 0, 0, 0])\n",
      "CPU times: user 3min 24s, sys: 3.95 s, total: 3min 28s\n",
      "Wall time: 3min 26s\n"
     ]
    }
   ],
   "source": [
    "%%time\n",
    "# convert the words to a list of ints\n",
    "def integerize_dataset(dataset: list[tuple[str, str]]):\n",
    "    integerized_dataset = []\n",
    "    for word, label in dataset:\n",
    "        integerized_dataset.append(\n",
    "            ([stoi[char] for char in word], [stoi[char] for char in label])\n",
    "        )\n",
    "    return integerized_dataset\n",
    "\n",
    "train_integerized_dataset = integerize_dataset(train_dataset)\n",
    "print(train_integerized_dataset[0])\n",
    "\n",
    "val_integerized_dataset = integerize_dataset(val_dataset)\n",
    "print(val_integerized_dataset[0])"
   ]
  },
  {
   "cell_type": "code",
   "execution_count": 16,
   "metadata": {},
   "outputs": [
    {
     "name": "stdout",
     "output_type": "stream",
     "text": [
      "10000000\n",
      "1406556\n",
      "CPU times: user 1min 57s, sys: 3.1 s, total: 2min\n",
      "Wall time: 1min 59s\n"
     ]
    }
   ],
   "source": [
    "%%time\n",
    "# create a pytorch dataset of word and label pairs\n",
    "\n",
    "class HangmanDataset(Dataset):\n",
    "    def __init__(self, words):\n",
    "        self.features = torch.tensor([x[0] for x in words])\n",
    "        self.labels = torch.tensor([x[1] for x in words])\n",
    "\n",
    "    def __len__(self):\n",
    "        return len(self.features)\n",
    "\n",
    "    def __getitem__(self, idx):\n",
    "        return self.features[idx], self.labels[idx]\n",
    "\n",
    "\n",
    "random.shuffle(train_integerized_dataset)\n",
    "random.shuffle(val_integerized_dataset)\n",
    "\n",
    "train_dataset = HangmanDataset(train_integerized_dataset)\n",
    "val_dataset = HangmanDataset(val_integerized_dataset)\n",
    "\n",
    "print(len(train_dataset))\n",
    "# print(train_dataset[[0, 1, 2]])\n",
    "\n",
    "print(len(val_dataset))"
   ]
  },
  {
   "cell_type": "code",
   "execution_count": 18,
   "metadata": {},
   "outputs": [
    {
     "name": "stdout",
     "output_type": "stream",
     "text": [
      "Using device: cuda\n",
      "Number of parameters: 6,928,221\n"
     ]
    },
    {
     "name": "stderr",
     "output_type": "stream",
     "text": [
      "Epoch 1/1 | Train Loss: 1.4446 | Val Loss: 1.4339:   0%|▍                                                                                                                                                       | 49/19532 [00:02<15:36, 20.80it/s]"
     ]
    },
    {
     "name": "stderr",
     "output_type": "stream",
     "text": [
      "Epoch 1/1 | Train Loss: 0.2217 | Val Loss: 0.3107: 100%|█████████████████████████████████████████████████████████████████████████████████████████████████████████████████████████████████████████████████████| 19532/19532 [17:37<00:00, 18.47it/s]\n"
     ]
    }
   ],
   "source": [
    "# Create a transformer model for the hangman game\n",
    "\n",
    "import torch\n",
    "import torch.nn as nn\n",
    "import torch.optim as optim\n",
    "import math\n",
    "from tqdm import tqdm\n",
    "\n",
    "d_model = 320\n",
    "nhead = 8\n",
    "num_layers = 4\n",
    "\n",
    "device = (\n",
    "    \"cuda\"\n",
    "    if torch.cuda.is_available()\n",
    "    else (\"mps\" if torch.backends.mps.is_available() else \"cpu\")\n",
    ")\n",
    "\n",
    "print(\"Using device:\", device)\n",
    "\n",
    "\n",
    "class HangmanTransformer(nn.Module):\n",
    "    def __init__(self, vocab_size, d_model, nhead, num_layers, dropout=0):\n",
    "        super(HangmanTransformer, self).__init__()\n",
    "        self.d_model = d_model\n",
    "        self.nhead = nhead\n",
    "        self.num_layers = num_layers\n",
    "        self.dropout = dropout\n",
    "\n",
    "        # Create positional encoding matrix\n",
    "        self.embedding = nn.Embedding(vocab_size, d_model)\n",
    "\n",
    "        encoder_layer = nn.TransformerEncoderLayer(\n",
    "            d_model=d_model, nhead=nhead, batch_first=True, dropout=dropout\n",
    "        )\n",
    "        self.position_embedding_table = nn.Embedding(block_size, d_model)\n",
    "        self.transformer_encoder = nn.TransformerEncoder(encoder_layer, num_layers)\n",
    "        self.ln_f = nn.LayerNorm(d_model)\n",
    "        self.fc = nn.Linear(d_model, vocab_size)\n",
    "\n",
    "    def forward(self, src):\n",
    "        src = self.embedding(src)\n",
    "        pos_emb = self.position_embedding_table(\n",
    "            torch.arange(block_size).to(device)\n",
    "        )  # (T,C)\n",
    "        src = src + pos_emb\n",
    "        output = self.transformer_encoder(src)\n",
    "        output = self.ln_f(output)\n",
    "        logits = self.fc(output) * 0.1\n",
    "        return logits\n",
    "\n",
    "\n",
    "# create a transformer model\n",
    "model = HangmanTransformer(vocab_size, d_model, nhead, num_layers)\n",
    "print(\"Number of parameters:\", f\"{sum(p.numel() for p in model.parameters()):,}\")\n",
    "\n",
    "model.to(device)\n",
    "# create a loss function\n",
    "criterion = nn.CrossEntropyLoss()\n",
    "\n",
    "# create an optimizer\n",
    "optimizer = optim.AdamW(model.parameters(), lr=0.001)\n",
    "\n",
    "# train the model\n",
    "batch_size = 512\n",
    "num_epochs = 1\n",
    "\n",
    "lossi = []\n",
    "val_lossi = []\n",
    "val_step = []\n",
    "step = 0\n",
    "\n",
    "val_features, val_labels = val_dataset[:5000]\n",
    "val_features = val_features.to(device)\n",
    "val_labels = val_labels.to(device)\n",
    "for epoch in range(num_epochs):\n",
    "    for i in (pbar := tqdm(range(0, len(train_dataset), batch_size))):\n",
    "        # idx = torch.randint(0, len(train_dataset), (batch_size,))\n",
    "        features, labels = train_dataset[i : i + batch_size]\n",
    "        features = features.to(device)\n",
    "        labels = labels.to(device)\n",
    "        # Zero the gradients\n",
    "        optimizer.zero_grad()\n",
    "\n",
    "        # Forward pass\n",
    "        logits = model(features)\n",
    "\n",
    "        # Calculate loss\n",
    "        loss = criterion(logits.view(-1, vocab_size), labels.view(-1))\n",
    "\n",
    "        # Backward pass\n",
    "        loss.backward()\n",
    "\n",
    "        # Update weights\n",
    "        optimizer.step()\n",
    "        lossi.append(loss.item())\n",
    "\n",
    "        if step % 50 == 0:\n",
    "            model.eval()\n",
    "            with torch.no_grad():\n",
    "                val_loss = criterion(\n",
    "                    model(val_features).view(-1, vocab_size), val_labels.view(-1)\n",
    "                )\n",
    "                val_lossi.append(val_loss.item())\n",
    "                val_step.append(step)\n",
    "            model.train()\n",
    "\n",
    "        pbar.set_description(\n",
    "            f\"Epoch {epoch+1}/{num_epochs} | Train Loss: {loss.item():.4f} | Val Loss: {val_loss.item():.4f}\"\n",
    "        )\n",
    "        step += 1"
   ]
  },
  {
   "cell_type": "code",
   "execution_count": 19,
   "metadata": {},
   "outputs": [],
   "source": [
    "model_path = \"/home/ubuntu/fs-1/transformer-hangman-solver/model.pth\"\n",
    "torch.save(model, model_path)"
   ]
  },
  {
   "cell_type": "code",
   "execution_count": 20,
   "metadata": {},
   "outputs": [
    {
     "data": {
      "image/png": "[encoded data removed]",
      "text/plain": [
       "<Figure size 640x480 with 1 Axes>"
      ]
     },
     "metadata": {},
     "output_type": "display_data"
    }
   ],
   "source": [
    "plt.plot(lossi)\n",
    "plt.plot(val_step, val_lossi)\n",
    "plt.legend([\"Train Loss\", \"Val Loss\"])\n",
    "# start x axis at 1000\n",
    "plt.ylim(0.2, 0.45)\n",
    "plt.show()"
   ]
  },
  {
   "cell_type": "code",
   "execution_count": 21,
   "metadata": {},
   "outputs": [
    {
     "name": "stderr",
     "output_type": "stream",
     "text": [
      "  8%|████████████████▌                                                                                                                                                                                              | 2/25 [00:00<00:02,  8.72it/s]"
     ]
    },
    {
     "name": "stderr",
     "output_type": "stream",
     "text": [
      "100%|██████████████████████████████████████████████████████████████████████████████████████████████████████████████████████████████████████████████████████████████████████████████████████████████████████████████| 25/25 [00:02<00:00,  8.62it/s]\n"
     ]
    },
    {
     "name": "stdout",
     "output_type": "stream",
     "text": [
      "0.24289515674114226\n"
     ]
    },
    {
     "name": "stderr",
     "output_type": "stream",
     "text": [
      "100%|██████████████████████████████████████████████████████████████████████████████████████████████████████████████████████████████████████████████████████████████████████████████████████████████████████████████| 25/25 [00:02<00:00,  8.59it/s]"
     ]
    },
    {
     "name": "stdout",
     "output_type": "stream",
     "text": [
      "0.3052097249031067\n",
      "\n",
      "\n"
     ]
    },
    {
     "name": "stderr",
     "output_type": "stream",
     "text": [
      "\n"
     ]
    }
   ],
   "source": [
    "def full_eval(dataset, batch_size=1024 * 4):\n",
    "    model.eval()\n",
    "    with torch.no_grad():\n",
    "        losses = []\n",
    "        for i in (pbar := tqdm(range(0, 100000, batch_size))):\n",
    "            features, labels = dataset[i : i + batch_size]\n",
    "            features = features.to(device)\n",
    "            labels = labels.to(device)\n",
    "            logits = model(features)\n",
    "            loss = criterion(logits.view(-1, vocab_size), labels.view(-1))\n",
    "            losses.append(loss.item())\n",
    "        print(np.mean(losses))\n",
    "\n",
    "\n",
    "full_eval(train_dataset)\n",
    "full_eval(val_dataset)\n",
    "\n",
    "print(\"\\n\")"
   ]
  },
  {
   "cell_type": "code",
   "execution_count": 22,
   "metadata": {},
   "outputs": [
    {
     "name": "stdout",
     "output_type": "stream",
     "text": [
      "word reperplex................\n",
      "masked_word _________................ []\n",
      "letter_guesses ['e', 'o', 'i', 'a', 'r', 'l', 'n', 's', 't', 'u', 'c', 'm', 'p', 'd', 'b', 'h', 'y', 'g', 'f', 'k', 'v', 'w', 'z', 'x', 'q']\n",
      "masked_word _e_e___e_................ ['e']\n",
      "letter_guesses ['r', 'd', 't', 'a', 'l', 's', 'n', 'b', 'i', 'o', 'm', 'p', 'g', 'c', 'v', 'h', 'f', 'z', 'u', 'k', 'y', 'w', 'x', 'j', 'q']\n",
      "masked_word re_er__e_................ ['e', 'r']\n",
      "letter_guesses ['d', 'a', 't', 's', 'l', 'v', 'n', 'i', 'p', 'o', 'm', 'c', 'g', 'f', 'b', 'u', 'h', 'y', 'w', 'k', 'z', 'x', 'r', 'j', 'q']\n",
      "masked_word re_er_le_................ ['e', 'r', 'd', 'a', 't', 's', 'l']\n",
      "letter_guesses ['d', 's', 't', 'a', 'p', 'b', 'v', 'm', 'n', 'i', 'o', 'f', 'x', 'u', 'c', 'g', 'w', 'y', 'k', 'h', 'j', 'z', 'r', 'l', 'q']\n",
      "masked_word reperple_................ ['e', 'r', 'd', 'a', 't', 's', 'l', 'p']\n",
      "letter_guesses ['t', 'x', 'd', 's', 'n', 'y', 'a', 'w', 'm', 'h', 'g', 'k', 'c', 'i', 'f', 'b', 'v', 'o', 'u', 'l', 'r', 'z', 'e', 'q', 'j']\n",
      "masked_word reperplex................ ['e', 'r', 'd', 'a', 't', 's', 'l', 'p', 'x']\n",
      "224377\n",
      "10000000\n",
      "In sample\n"
     ]
    },
    {
     "name": "stderr",
     "output_type": "stream",
     "text": [
      "Win rate: 63.70%: 100%|████████████████████████████████████████████████████████████████████████████████████████████████████████████████████████████████████████████████████████████████████████████████████████| 3000/3000 [00:56<00:00, 53.57it/s]\n"
     ]
    },
    {
     "name": "stdout",
     "output_type": "stream",
     "text": [
      "Out of sample\n"
     ]
    },
    {
     "name": "stderr",
     "output_type": "stream",
     "text": [
      "Win rate: 63.00%: 100%|████████████████████████████████████████████████████████████████████████████████████████████████████████████████████████████████████████████████████████████████████████████████████████| 3000/3000 [00:56<00:00, 53.37it/s]\n"
     ]
    }
   ],
   "source": [
    "# inference:\n",
    "\n",
    "\n",
    "def predict(model, word, max_guesses=6, verbose=False):\n",
    "    if verbose:\n",
    "        print(\"word\", word)\n",
    "    guesses = []\n",
    "    model.eval()\n",
    "    with torch.no_grad():\n",
    "        while True:\n",
    "            # print(guesses)\n",
    "            masked_word = \"\".join(\n",
    "                [\"_\" if char != \".\" and char not in guesses else char for char in word]\n",
    "            )\n",
    "            if verbose:\n",
    "                print(\"masked_word\", masked_word, guesses)\n",
    "            if masked_word == word:\n",
    "                break\n",
    "            if len([g for g in guesses if g not in word]) >= max_guesses:\n",
    "                break\n",
    "\n",
    "            features = torch.tensor([stoi[c] for c in masked_word]).to(device)\n",
    "            # print(\"features\", features)\n",
    "            logits = model.forward(features)\n",
    "            probs = torch.softmax(logits, dim=1)\n",
    "\n",
    "            mask_indices = [i for i, c in enumerate(masked_word) if c == \"_\"]\n",
    "            # print(\"mask_indices\", mask_indices)\n",
    "            # print(\"probs\", probs[mask_indices])\n",
    "            ensemble_probs = torch.mean(probs[mask_indices], dim=0)\n",
    "            # print(\"ensemble_probs\", ensemble_probs)\n",
    "            # print(\"max\", torch.max(probs, dim=2).values)\n",
    "            # most_confident_index = torch.topk(\n",
    "            #     torch.max(probs, dim=2).values, k=len(masked_word), dim=1\n",
    "            # ).indices[0]\n",
    "            # if verbose:\n",
    "            #     print(\"most_confident_index\", most_confident_index)\n",
    "            # indices = torch.topk(probs, k=vocab_size, dim=2).indices\n",
    "            # # print(\"indices\", indices)\n",
    "            # for i in most_confident_index:\n",
    "            #     if masked_word[i] == \"_\":\n",
    "            #         letter_guesses = [itos[j.item()] for j in indices[0, i]]\n",
    "            #         break\n",
    "            letter_guesses = [\n",
    "                itos[i.item()]\n",
    "                for i in torch.topk(ensemble_probs, k=len(masked_word), dim=0).indices\n",
    "            ]\n",
    "            if verbose:\n",
    "                print(\"letter_guesses\", letter_guesses)\n",
    "            for letter_guess in letter_guesses:\n",
    "                if letter_guess not in guesses and letter_guess not in [\".\", \"_\"]:\n",
    "                    guesses.append(letter_guess)\n",
    "                    if (\n",
    "                        letter_guess in word\n",
    "                        or len([g for g in guesses if g not in word]) == max_guesses\n",
    "                    ):\n",
    "                        break\n",
    "    return masked_word, guesses\n",
    "\n",
    "\n",
    "predict(model, truncated_words[0], max_guesses=6, verbose=True)\n",
    "print(len(truncated_words))\n",
    "\n",
    "\n",
    "def compute_winrate(words: list[str]):\n",
    "    wins = 0\n",
    "    total = 0\n",
    "    for word in (pbar := tqdm(words)):\n",
    "        masked_word, guesses = predict(model, word, max_guesses=6, verbose=False)\n",
    "        if masked_word == word:\n",
    "            wins += 1\n",
    "        total += 1\n",
    "        pbar.set_description(f\"Win rate: {wins / total * 100:.2f}%\")\n",
    "\n",
    "\n",
    "print(TRAIN_NUM_EXAMPLES)\n",
    "print(\"In sample\")\n",
    "compute_winrate(truncated_words[:3000])\n",
    "print(\"Out of sample\")\n",
    "compute_winrate(truncated_words[-VAL_NUM_WORDS:])\n",
    "\n",
    "# Win Rates\n",
    "# 2 chars: 31.58% (133)\n",
    "# 3 chars: 24.10% (1249)\n",
    "# 4 chars: 23.34% (4798)\n",
    "# 5 chars: 37.19% (9522)\n",
    "# 6 chars: 34.19% (16763)\n",
    "# 7 chars: 43.69% (22675)\n",
    "# 8 chars: 60.68% (28512)\n",
    "# 9 chars: 74.61% (30882)"
   ]
  },
  {
   "cell_type": "code",
   "execution_count": 23,
   "metadata": {},
   "outputs": [
    {
     "data": {
      "text/plain": [
       "<Axes: xlabel='num_train_examples'>"
      ]
     },
     "execution_count": 23,
     "metadata": {},
     "output_type": "execute_result"
    },
    {
     "data": {
      "image/png": "[encoded data removed]",
      "text/plain": [
       "<Figure size 640x480 with 1 Axes>"
      ]
     },
     "metadata": {},
     "output_type": "display_data"
    }
   ],
   "source": [
    "windf = pd.DataFrame(\n",
    "    {\n",
    "        \"train_win_rate\": [\n",
    "            56.63,\n",
    "            60.2,\n",
    "            63.70,\n",
    "        ],\n",
    "        \"val_win_rate\": [\n",
    "            56.03,\n",
    "            58.43,\n",
    "            63.00,\n",
    "        ],\n",
    "        \"num_train_examples\": [\n",
    "            5000000,\n",
    "            10000000,\n",
    "            10000000,\n",
    "        ],\n",
    "    }\n",
    ")\n",
    "windf.plot.bar(x=\"num_train_examples\", y=[\"train_win_rate\", \"val_win_rate\"])"
   ]
  },
  {
   "cell_type": "code",
   "execution_count": 24,
   "metadata": {},
   "outputs": [
    {
     "name": "stdout",
     "output_type": "stream",
     "text": [
      "67.32690899834002\n"
     ]
    },
    {
     "data": {
      "text/html": [
       "<div>\n",
       "<style scoped>\n",
       "    .dataframe tbody tr th:only-of-type {\n",
       "        vertical-align: middle;\n",
       "    }\n",
       "\n",
       "    .dataframe tbody tr th {\n",
       "        vertical-align: top;\n",
       "    }\n",
       "\n",
       "    .dataframe thead th {\n",
       "        text-align: right;\n",
       "    }\n",
       "</style>\n",
       "<table border=\"1\" class=\"dataframe\">\n",
       "  <thead>\n",
       "    <tr style=\"text-align: right;\">\n",
       "      <th></th>\n",
       "      <th>word_length</th>\n",
       "      <th>win_rate</th>\n",
       "      <th>num_words</th>\n",
       "    </tr>\n",
       "  </thead>\n",
       "  <tbody>\n",
       "    <tr>\n",
       "      <th>0</th>\n",
       "      <td>2</td>\n",
       "      <td>31.58</td>\n",
       "      <td>133</td>\n",
       "    </tr>\n",
       "    <tr>\n",
       "      <th>1</th>\n",
       "      <td>3</td>\n",
       "      <td>24.10</td>\n",
       "      <td>1249</td>\n",
       "    </tr>\n",
       "    <tr>\n",
       "      <th>2</th>\n",
       "      <td>4</td>\n",
       "      <td>23.34</td>\n",
       "      <td>4798</td>\n",
       "    </tr>\n",
       "    <tr>\n",
       "      <th>3</th>\n",
       "      <td>5</td>\n",
       "      <td>37.19</td>\n",
       "      <td>9522</td>\n",
       "    </tr>\n",
       "    <tr>\n",
       "      <th>4</th>\n",
       "      <td>6</td>\n",
       "      <td>34.19</td>\n",
       "      <td>16763</td>\n",
       "    </tr>\n",
       "    <tr>\n",
       "      <th>5</th>\n",
       "      <td>7</td>\n",
       "      <td>43.69</td>\n",
       "      <td>22675</td>\n",
       "    </tr>\n",
       "    <tr>\n",
       "      <th>6</th>\n",
       "      <td>8</td>\n",
       "      <td>60.68</td>\n",
       "      <td>28512</td>\n",
       "    </tr>\n",
       "    <tr>\n",
       "      <th>7</th>\n",
       "      <td>9</td>\n",
       "      <td>74.61</td>\n",
       "      <td>30882</td>\n",
       "    </tr>\n",
       "    <tr>\n",
       "      <th>8</th>\n",
       "      <td>10</td>\n",
       "      <td>83.43</td>\n",
       "      <td>29520</td>\n",
       "    </tr>\n",
       "    <tr>\n",
       "      <th>9</th>\n",
       "      <td>11</td>\n",
       "      <td>89.70</td>\n",
       "      <td>24895</td>\n",
       "    </tr>\n",
       "    <tr>\n",
       "      <th>10</th>\n",
       "      <td>12</td>\n",
       "      <td>96.93</td>\n",
       "      <td>19608</td>\n",
       "    </tr>\n",
       "  </tbody>\n",
       "</table>\n",
       "</div>"
      ],
      "text/plain": [
       "    word_length  win_rate  num_words\n",
       "0             2     31.58        133\n",
       "1             3     24.10       1249\n",
       "2             4     23.34       4798\n",
       "3             5     37.19       9522\n",
       "4             6     34.19      16763\n",
       "5             7     43.69      22675\n",
       "6             8     60.68      28512\n",
       "7             9     74.61      30882\n",
       "8            10     83.43      29520\n",
       "9            11     89.70      24895\n",
       "10           12     96.93      19608"
      ]
     },
     "execution_count": 24,
     "metadata": {},
     "output_type": "execute_result"
    },
    {
     "data": {
      "image/png": "[encoded data removed]",
      "text/plain": [
       "<Figure size 640x480 with 1 Axes>"
      ]
     },
     "metadata": {},
     "output_type": "display_data"
    }
   ],
   "source": [
    "windf = pd.DataFrame(\n",
    "    {\n",
    "        \"word_length\": [2, 3, 4, 5, 6, 7, 8, 9, 10, 11, 12],\n",
    "        \"win_rate\": [\n",
    "            31.58,\n",
    "            24.10,\n",
    "            23.34,\n",
    "            37.19,\n",
    "            34.19,\n",
    "            43.69,\n",
    "            60.68,\n",
    "            74.61,\n",
    "            83.43,\n",
    "            89.70,\n",
    "            96.93,\n",
    "        ],\n",
    "        \"num_words\": [\n",
    "            133,\n",
    "            1249,\n",
    "            4798,\n",
    "            9522,\n",
    "            16763,\n",
    "            22675,\n",
    "            28512,\n",
    "            30882,\n",
    "            29520,\n",
    "            24895,\n",
    "            19608,\n",
    "        ],\n",
    "    }\n",
    ")\n",
    "print(windf[\"win_rate\"].mul(windf[\"num_words\"]).sum() / windf[\"num_words\"].sum())\n",
    "windf.plot.bar(x=\"word_length\", y=\"win_rate\")\n",
    "windf"
   ]
  }
 ],
 "metadata": {
  "kernelspec": {
   "display_name": "Python 3 (ipykernel)",
   "language": "python",
   "name": "python3"
  },
  "language_info": {
   "codemirror_mode": {
    "name": "ipython",
    "version": 3
   },
   "file_extension": ".py",
   "mimetype": "text/x-python",
   "name": "python",
   "nbconvert_exporter": "python",
   "pygments_lexer": "ipython3",
   "version": "3.12.11"
  }
 },
 "nbformat": 4,
 "nbformat_minor": 2
}
