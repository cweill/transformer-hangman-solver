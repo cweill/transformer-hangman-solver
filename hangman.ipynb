{
 "cells": [
  {
   "cell_type": "code",
   "execution_count": 2,
   "metadata": {},
   "outputs": [],
   "source": [
    "import torch\n",
    "import numpy as np\n",
    "import matplotlib.pyplot as plt\n",
    "%matplotlib inline"
   ]
  },
  {
   "cell_type": "code",
   "execution_count": 796,
   "metadata": {},
   "outputs": [],
   "source": [
    "# load the data in training_dictionary.txt\n",
    "with open(\"training_dictionary.txt\", \"r\") as file:\n",
    "    all_words = file.read().splitlines()"
   ]
  },
  {
   "cell_type": "code",
   "execution_count": 800,
   "metadata": {},
   "outputs": [
    {
     "name": "stderr",
     "output_type": "stream",
     "text": [
      "100%|██████████| 224377/224377 [00:00<00:00, 4448640.02it/s]"
     ]
    },
    {
     "name": "stdout",
     "output_type": "stream",
     "text": [
      "count    224377.000000\n",
      "mean          9.591540\n",
      "std           2.916634\n",
      "min           1.000000\n",
      "25%           8.000000\n",
      "50%           9.000000\n",
      "75%          11.000000\n",
      "max          24.000000\n",
      "Name: word_length, dtype: float64\n"
     ]
    },
    {
     "name": "stderr",
     "output_type": "stream",
     "text": [
      "\n"
     ]
    },
    {
     "data": {
      "text/plain": [
       "array([[<Axes: title={'center': 'word_length'}>]], dtype=object)"
      ]
     },
     "execution_count": 800,
     "metadata": {},
     "output_type": "execute_result"
    },
    {
     "data": {
      "image/png": "[encoded data removed]",
      "text/plain": [
       "<Figure size 640x480 with 1 Axes>"
      ]
     },
     "metadata": {},
     "output_type": "display_data"
    }
   ],
   "source": [
    "import pandas as pd\n",
    "\n",
    "df = pd.DataFrame(\n",
    "    {\n",
    "        \"word_length\": [len(word) for word in tqdm(all_words)],\n",
    "    }\n",
    ")\n",
    "\n",
    "print(df[\"word_length\"].describe())\n",
    "\n",
    "df.hist(column=\"word_length\", bins=df[\"word_length\"].max())"
   ]
  },
  {
   "cell_type": "code",
   "execution_count": 863,
   "metadata": {},
   "outputs": [],
   "source": [
    "max_length = 12\n",
    "\n",
    "words = [word for word in all_words if len(word) == max_length]"
   ]
  },
  {
   "cell_type": "code",
   "execution_count": 864,
   "metadata": {},
   "outputs": [
    {
     "name": "stdout",
     "output_type": "stream",
     "text": [
      "19608\n"
     ]
    },
    {
     "data": {
      "text/plain": [
       "['intermammary',\n",
       " 'constabulary',\n",
       " 'petrophilous',\n",
       " 'phaenogamian',\n",
       " 'rekindlement',\n",
       " 'rollickingly',\n",
       " 'demutization',\n",
       " 'nonstampable',\n",
       " 'mesaticephal',\n",
       " 'chakravartin']"
      ]
     },
     "execution_count": 864,
     "metadata": {},
     "output_type": "execute_result"
    }
   ],
   "source": [
    "print(len(words))\n",
    "words[:10]"
   ]
  },
  {
   "cell_type": "code",
   "execution_count": 865,
   "metadata": {},
   "outputs": [
    {
     "data": {
      "text/plain": [
       "235296"
      ]
     },
     "execution_count": 865,
     "metadata": {},
     "output_type": "execute_result"
    }
   ],
   "source": [
    "len(\"\".join(words))"
   ]
  },
  {
   "cell_type": "code",
   "execution_count": 866,
   "metadata": {},
   "outputs": [
    {
     "name": "stdout",
     "output_type": "stream",
     "text": [
      "intermammary 12\n"
     ]
    }
   ],
   "source": [
    "longest_word = max(words, key=len)\n",
    "print(longest_word, len(longest_word))"
   ]
  },
  {
   "cell_type": "code",
   "execution_count": 867,
   "metadata": {},
   "outputs": [
    {
     "name": "stdout",
     "output_type": "stream",
     "text": [
      "27\n",
      "{'_': 0, 'a': 1, 'b': 2, 'c': 3, 'd': 4, 'e': 5, 'f': 6, 'g': 7, 'h': 8, 'i': 9, 'j': 10, 'k': 11, 'l': 12, 'm': 13, 'n': 14, 'o': 15, 'p': 16, 'q': 17, 'r': 18, 's': 19, 't': 20, 'u': 21, 'v': 22, 'w': 23, 'x': 24, 'y': 25, 'z': 26}\n",
      "{0: '_', 1: 'a', 2: 'b', 3: 'c', 4: 'd', 5: 'e', 6: 'f', 7: 'g', 8: 'h', 9: 'i', 10: 'j', 11: 'k', 12: 'l', 13: 'm', 14: 'n', 15: 'o', 16: 'p', 17: 'q', 18: 'r', 19: 's', 20: 't', 21: 'u', 22: 'v', 23: 'w', 24: 'x', 25: 'y', 26: 'z'}\n"
     ]
    }
   ],
   "source": [
    "vocab = set(\"\".join(words))\n",
    "vocab = [\"_\"] + sorted(list(vocab))\n",
    "vocab_size = len(vocab)\n",
    "print(vocab_size)\n",
    "stoi = {char: i for i, char in enumerate(vocab)}\n",
    "itos = {i: char for char, i in stoi.items()}\n",
    "print(stoi)\n",
    "print(itos)"
   ]
  },
  {
   "cell_type": "code",
   "execution_count": 868,
   "metadata": {},
   "outputs": [
    {
     "name": "stdout",
     "output_type": "stream",
     "text": [
      "19608\n"
     ]
    },
    {
     "data": {
      "text/plain": [
       "['intermammary',\n",
       " 'constabulary',\n",
       " 'petrophilous',\n",
       " 'phaenogamian',\n",
       " 'rekindlement',\n",
       " 'rollickingly',\n",
       " 'demutization',\n",
       " 'nonstampable',\n",
       " 'mesaticephal',\n",
       " 'chakravartin']"
      ]
     },
     "execution_count": 868,
     "metadata": {},
     "output_type": "execute_result"
    }
   ],
   "source": [
    "# create a dataset where each character is masked with an underscore\n",
    "block_size = max_length\n",
    "dataset = []\n",
    "# Truncate word to block_size or fill them with '.' if it's too short. Use '_' for the single masked character. There must only be one '_' per word.\n",
    "truncated_words = []\n",
    "for word in words:\n",
    "    # Pad shorter words with '.' to match block_size\n",
    "    # if len(word) < block_size:\n",
    "    #     word = word + \".\" * (block_size - len(word))\n",
    "\n",
    "    # Use sliding window to generate subwords\n",
    "    for i in range(len(word) - block_size + 1):\n",
    "        subword = word[i : i + block_size]\n",
    "        truncated_words.append(subword)\n",
    "\n",
    "print(len(truncated_words))\n",
    "truncated_words[:10]"
   ]
  },
  {
   "cell_type": "code",
   "execution_count": 869,
   "metadata": {},
   "outputs": [
    {
     "name": "stdout",
     "output_type": "stream",
     "text": [
      "[('_pp', 'app'), ('a__', 'app'), ('___', 'app')]\n",
      "[('xy_', 'xyz'), ('x_z', 'xyz'), ('x__', 'xyz'), ('_yz', 'xyz'), ('_y_', 'xyz'), ('__z', 'xyz'), ('___', 'xyz')]\n"
     ]
    }
   ],
   "source": [
    "def masked_words(word):\n",
    "    if not word:\n",
    "        return []\n",
    "\n",
    "    result = []\n",
    "\n",
    "    # Get unique characters in the word\n",
    "    unique_chars = list(set(word))\n",
    "\n",
    "    # Generate all possible combinations of which characters to mask\n",
    "    # For n unique characters, we have 2^n possibilities\n",
    "    for i in range(1, 2 ** len(unique_chars)):  # Start from 1 to exclude no masks\n",
    "        chars_to_mask = set()\n",
    "\n",
    "        # Determine which characters to mask based on bit pattern\n",
    "        for j in range(len(unique_chars)):\n",
    "            if i & (1 << j):\n",
    "                chars_to_mask.add(unique_chars[j])\n",
    "\n",
    "        # Create the masked string\n",
    "        masked = \"\"\n",
    "        for char in word:\n",
    "            if char in chars_to_mask:\n",
    "                masked += \"_\"\n",
    "            else:\n",
    "                masked += char\n",
    "\n",
    "        # Create a tuple for each masked character type\n",
    "        # for char in chars_to_mask:\n",
    "        result.append((masked, word))\n",
    "\n",
    "    return result\n",
    "\n",
    "\n",
    "print(masked_words(\"app\"))\n",
    "print(masked_words(\"xyz\"))"
   ]
  },
  {
   "cell_type": "code",
   "execution_count": null,
   "metadata": {},
   "outputs": [],
   "source": [
    "dataset = []\n",
    "for word in truncated_words:\n",
    "    dataset.extend(masked_words(word))\n",
    "\n",
    "# dataset = list(set(dataset))\n",
    "\n",
    "# print the first 10 elements of the dataset\n",
    "print(len(dataset))\n",
    "print(dataset[:10])"
   ]
  },
  {
   "cell_type": "code",
   "execution_count": null,
   "metadata": {},
   "outputs": [
    {
     "name": "stdout",
     "output_type": "stream",
     "text": [
      "([0, 17, 10, 21, 19, 10, 4, 9, 10, 2, 13], [6, 17, 10, 21, 19, 10, 4, 9, 10, 2, 13])\n"
     ]
    }
   ],
   "source": [
    "# convert the words to a list of ints\n",
    "integerized_dataset = []\n",
    "for word, label in dataset:\n",
    "    integerized_dataset.append(\n",
    "        ([stoi[char] for char in word], [stoi[char] for char in label])\n",
    "    )\n",
    "\n",
    "print(integerized_dataset[0])"
   ]
  },
  {
   "cell_type": "code",
   "execution_count": null,
   "metadata": {},
   "outputs": [
    {
     "name": "stdout",
     "output_type": "stream",
     "text": [
      "12264897\n",
      "(tensor([[17, 19,  0, 17,  0, 13, 10,  0,  6, 15,  6],\n",
      "        [18,  0,  0,  0,  0,  0, 15,  3,  0,  2, 14],\n",
      "        [ 0,  0,  0,  0, 14,  0,  0,  0,  0,  0,  0]]), tensor([[17, 19, 16, 17, 26, 13, 10,  5,  6, 15,  6],\n",
      "        [18, 22, 10,  4, 12,  6, 15,  3,  6,  2, 14],\n",
      "        [ 4,  9, 19, 16, 14,  2, 17,  9, 16, 19,  6]]))\n",
      "0\n"
     ]
    }
   ],
   "source": [
    "# create a pytorch dataset of word and label pairs\n",
    "from torch.utils.data import Dataset\n",
    "import random\n",
    "\n",
    "\n",
    "class HangmanDataset(Dataset):\n",
    "    def __init__(self, words):\n",
    "        self.features = torch.tensor([x[0] for x in words])\n",
    "        self.labels = torch.tensor([x[1] for x in words])\n",
    "\n",
    "    def __len__(self):\n",
    "        return len(self.features)\n",
    "\n",
    "    def __getitem__(self, idx):\n",
    "        return self.features[idx], self.labels[idx]\n",
    "\n",
    "\n",
    "split_idx = int(len(integerized_dataset) * 1)\n",
    "shuffled_integerized_dataset = list(integerized_dataset)\n",
    "random.shuffle(shuffled_integerized_dataset)\n",
    "train_split = shuffled_integerized_dataset[:split_idx]\n",
    "val_split = shuffled_integerized_dataset[split_idx:]\n",
    "\n",
    "train_dataset = HangmanDataset(train_split)\n",
    "val_dataset = HangmanDataset(val_split)\n",
    "\n",
    "print(len(train_dataset))\n",
    "print(train_dataset[[0, 1, 2]])\n",
    "\n",
    "print(len(val_dataset))"
   ]
  },
  {
   "cell_type": "code",
   "execution_count": 858,
   "metadata": {},
   "outputs": [
    {
     "name": "stderr",
     "output_type": "stream",
     "text": [
      "Epoch 1/1 | Loss: 0.5686:  65%|██████▍   | 15566/23955 [09:25<05:04, 27.51it/s]\n"
     ]
    },
    {
     "ename": "KeyboardInterrupt",
     "evalue": "",
     "output_type": "error",
     "traceback": [
      "\u001b[31m---------------------------------------------------------------------------\u001b[39m",
      "\u001b[31mKeyboardInterrupt\u001b[39m                         Traceback (most recent call last)",
      "\u001b[36mCell\u001b[39m\u001b[36m \u001b[39m\u001b[32mIn[858]\u001b[39m\u001b[32m, line 79\u001b[39m\n\u001b[32m     76\u001b[39m loss = criterion(logits.view(-\u001b[32m1\u001b[39m, vocab_size), labels.view(-\u001b[32m1\u001b[39m))\n\u001b[32m     78\u001b[39m \u001b[38;5;66;03m# Backward pass\u001b[39;00m\n\u001b[32m---> \u001b[39m\u001b[32m79\u001b[39m \u001b[43mloss\u001b[49m\u001b[43m.\u001b[49m\u001b[43mbackward\u001b[49m\u001b[43m(\u001b[49m\u001b[43m)\u001b[49m\n\u001b[32m     81\u001b[39m \u001b[38;5;66;03m# Update weights\u001b[39;00m\n\u001b[32m     82\u001b[39m optimizer.step()\n",
      "\u001b[36mFile \u001b[39m\u001b[32m~/wsq-prep/.venv/lib/python3.12/site-packages/torch/_tensor.py:522\u001b[39m, in \u001b[36mTensor.backward\u001b[39m\u001b[34m(self, gradient, retain_graph, create_graph, inputs)\u001b[39m\n\u001b[32m    512\u001b[39m \u001b[38;5;28;01mif\u001b[39;00m has_torch_function_unary(\u001b[38;5;28mself\u001b[39m):\n\u001b[32m    513\u001b[39m     \u001b[38;5;28;01mreturn\u001b[39;00m handle_torch_function(\n\u001b[32m    514\u001b[39m         Tensor.backward,\n\u001b[32m    515\u001b[39m         (\u001b[38;5;28mself\u001b[39m,),\n\u001b[32m   (...)\u001b[39m\u001b[32m    520\u001b[39m         inputs=inputs,\n\u001b[32m    521\u001b[39m     )\n\u001b[32m--> \u001b[39m\u001b[32m522\u001b[39m \u001b[43mtorch\u001b[49m\u001b[43m.\u001b[49m\u001b[43mautograd\u001b[49m\u001b[43m.\u001b[49m\u001b[43mbackward\u001b[49m\u001b[43m(\u001b[49m\n\u001b[32m    523\u001b[39m \u001b[43m    \u001b[49m\u001b[38;5;28;43mself\u001b[39;49m\u001b[43m,\u001b[49m\u001b[43m \u001b[49m\u001b[43mgradient\u001b[49m\u001b[43m,\u001b[49m\u001b[43m \u001b[49m\u001b[43mretain_graph\u001b[49m\u001b[43m,\u001b[49m\u001b[43m \u001b[49m\u001b[43mcreate_graph\u001b[49m\u001b[43m,\u001b[49m\u001b[43m \u001b[49m\u001b[43minputs\u001b[49m\u001b[43m=\u001b[49m\u001b[43minputs\u001b[49m\n\u001b[32m    524\u001b[39m \u001b[43m\u001b[49m\u001b[43m)\u001b[49m\n",
      "\u001b[36mFile \u001b[39m\u001b[32m~/wsq-prep/.venv/lib/python3.12/site-packages/torch/autograd/__init__.py:266\u001b[39m, in \u001b[36mbackward\u001b[39m\u001b[34m(tensors, grad_tensors, retain_graph, create_graph, grad_variables, inputs)\u001b[39m\n\u001b[32m    261\u001b[39m     retain_graph = create_graph\n\u001b[32m    263\u001b[39m \u001b[38;5;66;03m# The reason we repeat the same comment below is that\u001b[39;00m\n\u001b[32m    264\u001b[39m \u001b[38;5;66;03m# some Python versions print out the first line of a multi-line function\u001b[39;00m\n\u001b[32m    265\u001b[39m \u001b[38;5;66;03m# calls in the traceback and some print out the last line\u001b[39;00m\n\u001b[32m--> \u001b[39m\u001b[32m266\u001b[39m \u001b[43mVariable\u001b[49m\u001b[43m.\u001b[49m\u001b[43m_execution_engine\u001b[49m\u001b[43m.\u001b[49m\u001b[43mrun_backward\u001b[49m\u001b[43m(\u001b[49m\u001b[43m  \u001b[49m\u001b[38;5;66;43;03m# Calls into the C++ engine to run the backward pass\u001b[39;49;00m\n\u001b[32m    267\u001b[39m \u001b[43m    \u001b[49m\u001b[43mtensors\u001b[49m\u001b[43m,\u001b[49m\n\u001b[32m    268\u001b[39m \u001b[43m    \u001b[49m\u001b[43mgrad_tensors_\u001b[49m\u001b[43m,\u001b[49m\n\u001b[32m    269\u001b[39m \u001b[43m    \u001b[49m\u001b[43mretain_graph\u001b[49m\u001b[43m,\u001b[49m\n\u001b[32m    270\u001b[39m \u001b[43m    \u001b[49m\u001b[43mcreate_graph\u001b[49m\u001b[43m,\u001b[49m\n\u001b[32m    271\u001b[39m \u001b[43m    \u001b[49m\u001b[43minputs\u001b[49m\u001b[43m,\u001b[49m\n\u001b[32m    272\u001b[39m \u001b[43m    \u001b[49m\u001b[43mallow_unreachable\u001b[49m\u001b[43m=\u001b[49m\u001b[38;5;28;43;01mTrue\u001b[39;49;00m\u001b[43m,\u001b[49m\n\u001b[32m    273\u001b[39m \u001b[43m    \u001b[49m\u001b[43maccumulate_grad\u001b[49m\u001b[43m=\u001b[49m\u001b[38;5;28;43;01mTrue\u001b[39;49;00m\u001b[43m,\u001b[49m\n\u001b[32m    274\u001b[39m \u001b[43m\u001b[49m\u001b[43m)\u001b[49m\n",
      "\u001b[31mKeyboardInterrupt\u001b[39m: "
     ]
    }
   ],
   "source": [
    "# Create a transformer model for the hangman game\n",
    "\n",
    "import torch\n",
    "import torch.nn as nn\n",
    "import torch.optim as optim\n",
    "import math\n",
    "from tqdm import tqdm\n",
    "\n",
    "d_model = 256\n",
    "nhead = 8\n",
    "num_layers = 3\n",
    "\n",
    "device = \"mps\" if torch.backends.mps.is_available() else \"cpu\"\n",
    "\n",
    "\n",
    "class HangmanTransformer(nn.Module):\n",
    "    def __init__(self, vocab_size, d_model, nhead, num_layers, dropout=0):\n",
    "        super(HangmanTransformer, self).__init__()\n",
    "        self.d_model = d_model\n",
    "        self.nhead = nhead\n",
    "        self.num_layers = num_layers\n",
    "        self.dropout = dropout\n",
    "\n",
    "        # Create positional encoding matrix\n",
    "        self.embedding = nn.Embedding(vocab_size, d_model)\n",
    "\n",
    "        encoder_layer = nn.TransformerEncoderLayer(\n",
    "            d_model=d_model, nhead=nhead, batch_first=True, dropout=dropout\n",
    "        )\n",
    "        self.position_embedding_table = nn.Embedding(block_size, d_model)\n",
    "        self.transformer_encoder = nn.TransformerEncoder(encoder_layer, num_layers)\n",
    "        self.ln_f = nn.LayerNorm(d_model)\n",
    "        self.fc = nn.Linear(d_model, vocab_size)\n",
    "\n",
    "    def forward(self, src):\n",
    "        src = self.embedding(src)\n",
    "        pos_emb = self.position_embedding_table(\n",
    "            torch.arange(block_size).to(device)\n",
    "        )  # (T,C)\n",
    "        src = src + pos_emb\n",
    "        output = self.transformer_encoder(src)\n",
    "        output = self.ln_f(output)\n",
    "        logits = self.fc(output)\n",
    "        return logits\n",
    "\n",
    "\n",
    "# create a transformer model\n",
    "model = HangmanTransformer(vocab_size, d_model, nhead, num_layers)\n",
    "\n",
    "model.to(device)\n",
    "# create a loss function\n",
    "criterion = nn.CrossEntropyLoss()\n",
    "\n",
    "# create an optimizer\n",
    "optimizer = optim.AdamW(model.parameters(), lr=0.001)\n",
    "\n",
    "# train the model\n",
    "batch_size = 512\n",
    "num_epochs = 1\n",
    "\n",
    "lossi = []\n",
    "\n",
    "for epoch in range(num_epochs):\n",
    "    for i in (pbar := tqdm(range(0, len(train_dataset), batch_size))):\n",
    "        # idx = torch.randint(0, len(train_dataset), (batch_size,))\n",
    "        features, labels = train_dataset[i : i + batch_size]\n",
    "        features = features.to(device)\n",
    "        labels = labels.to(device)\n",
    "        # Zero the gradients\n",
    "        optimizer.zero_grad()\n",
    "\n",
    "        # Forward pass\n",
    "        logits = model(features)\n",
    "\n",
    "        # Calculate loss\n",
    "        loss = criterion(logits.view(-1, vocab_size), labels.view(-1))\n",
    "\n",
    "        # Backward pass\n",
    "        loss.backward()\n",
    "\n",
    "        # Update weights\n",
    "        optimizer.step()\n",
    "        pbar.set_description(f\"Epoch {epoch+1}/{num_epochs} | Loss: {loss.item():.4f}\")\n",
    "        lossi.append(loss.item())"
   ]
  },
  {
   "cell_type": "code",
   "execution_count": null,
   "metadata": {},
   "outputs": [
    {
     "data": {
      "image/png": "[encoded data removed]",
      "text/plain": [
       "<Figure size 640x480 with 1 Axes>"
      ]
     },
     "metadata": {},
     "output_type": "display_data"
    }
   ],
   "source": [
    "plt.plot(lossi)\n",
    "plt.show()"
   ]
  },
  {
   "cell_type": "code",
   "execution_count": 860,
   "metadata": {},
   "outputs": [
    {
     "name": "stderr",
     "output_type": "stream",
     "text": [
      "100%|██████████| 1/1 [00:13<00:00, 13.83s/it]"
     ]
    },
    {
     "name": "stdout",
     "output_type": "stream",
     "text": [
      "0.5725834965705872\n"
     ]
    },
    {
     "name": "stderr",
     "output_type": "stream",
     "text": [
      "\n"
     ]
    }
   ],
   "source": [
    "model.eval()\n",
    "val_dataset = train_dataset[:20000]\n",
    "with torch.no_grad():\n",
    "    losses = []\n",
    "    for i in (pbar := tqdm(range(0, len(val_dataset), batch_size))):\n",
    "        features, labels = val_dataset[i : i + batch_size]\n",
    "        features = features.to(device)\n",
    "        labels = labels.to(device)\n",
    "        logits = model(features)\n",
    "        loss = criterion(logits.view(-1, vocab_size), labels.view(-1))\n",
    "        losses.append(loss.item())\n",
    "    print(np.mean(losses))"
   ]
  },
  {
   "cell_type": "code",
   "execution_count": 861,
   "metadata": {},
   "outputs": [
    {
     "name": "stdout",
     "output_type": "stream",
     "text": [
      "word unscathedly\n",
      "masked_word ___________ []\n",
      "most_confident_index tensor([ 8, 10,  1,  6,  9,  0,  4,  2,  5,  7,  3], device='mps:0')\n",
      "letter_guesses ['i', 'o', 'e', 't', 'a', 'n', 'r', 's', 'l', 'b', 'd', 'c', 'h', 'g', 'u', 'p', 'm', 'z', 'y', 'k', 'f', 'v', 'x', 'w', 'q', 'j', '-']\n",
      "masked_word _______e___ ['i', 'o', 'e']\n",
      "most_confident_index tensor([ 7,  9, 10,  8,  4,  0,  5,  6,  3,  1,  2], device='mps:0')\n",
      "letter_guesses ['i', 'a', 'u', 'l', 'r', 'o', 'c', 't', 's', 'm', 'n', 'y', 'h', 'd', 'g', 'p', 'v', 'z', 'e', 'k', 'f', 'b', 'x', 'w', 'q', 'j', '-']\n",
      "masked_word ____a__e___ ['i', 'o', 'e', 'a']\n",
      "most_confident_index tensor([ 7,  4,  9, 10,  1,  0,  8,  3,  2,  5,  6], device='mps:0')\n",
      "letter_guesses ['i', 'u', 'o', 's', 'l', 'r', 'm', 't', 'y', 'c', 'n', 'd', 'h', 'g', 'f', 'z', 'p', 'k', 'a', 'b', 'v', 'w', 'e', 'x', 'q', 'j', '-']\n",
      "masked_word u___a__e___ ['i', 'o', 'e', 'a', 'u']\n",
      "most_confident_index tensor([ 7,  0,  4,  1, 10,  9,  8,  3,  2,  6,  5], device='mps:0')\n",
      "letter_guesses ['n', 'p', 'l', 'r', 't', 'o', 's', 'f', 'm', 'h', 'i', 'c', 'u', 'd', 'g', 'b', 'y', 'v', 'q', 'x', 'a', 'w', 'k', 'z', 'j', 'e', '-']\n",
      "masked_word un__a__e___ ['i', 'o', 'e', 'a', 'u', 'n']\n",
      "most_confident_index tensor([ 1,  7,  0,  4,  9, 10,  8,  5,  6,  3,  2], device='mps:0')\n",
      "letter_guesses ['l', 'o', 's', 'u', 'i', 'm', 't', 'c', 'r', 'h', 'f', 'w', 'y', 'k', 'n', 'e', 'b', 'g', 'p', 'd', 'x', 'z', 'a', 'v', 'j', 'q', '-']\n",
      "masked_word un__a__e_l_ ['i', 'o', 'e', 'a', 'u', 'n', 'l']\n",
      "most_confident_index tensor([ 1,  9,  7,  0,  4, 10,  8,  5,  6,  2,  3], device='mps:0')\n",
      "letter_guesses ['y', 'i', 'd', 'h', 's', 'f', 'e', 't', 'o', 'a', 'u', 'l', 'g', 'm', 'c', 'w', 'p', 'k', 'x', 'b', 'r', 'n', 'z', '-', 'v', 'j', 'q']\n",
      "masked_word un__a__e_ly ['i', 'o', 'e', 'a', 'u', 'n', 'l', 'y']\n",
      "most_confident_index tensor([ 1,  9, 10,  0,  7,  4,  8,  5,  6,  2,  3], device='mps:0')\n",
      "letter_guesses ['d', 'r', 't', 'y', 'l', 'b', 'w', 'e', 's', 'c', 'n', 'i', 'p', 'm', 'f', 'h', 'a', 'v', 'o', 'g', 'x', 'u', 'k', 'j', 'z', 'q', '-']\n",
      "masked_word un__a__edly ['i', 'o', 'e', 'a', 'u', 'n', 'l', 'y', 'd']\n",
      "most_confident_index tensor([ 1,  9, 10,  8,  7,  0,  4,  5,  6,  2,  3], device='mps:0')\n",
      "letter_guesses ['r', 't', 's', 'c', 'i', 'k', 'm', 'f', 'o', 'p', 'y', 'd', 'u', 'g', 'n', 'l', 'v', 'b', 'w', 'z', 'x', 'h', 'j', 'a', 'e', 'q', '-']\n",
      "masked_word un__at_edly ['i', 'o', 'e', 'a', 'u', 'n', 'l', 'y', 'd', 'r', 't']\n",
      "most_confident_index tensor([ 1,  7,  9, 10,  0,  8,  5,  4,  6,  3,  2], device='mps:0')\n",
      "letter_guesses ['h', 'i', 'r', 'l', 't', 'n', 's', 'y', 'g', 'p', 'd', 'k', 'z', 'm', 'c', 'b', 'v', 'u', 'w', 'x', 'o', 'j', 'e', 'f', '-', 'a', '_']\n",
      "masked_word un__athedly ['i', 'o', 'e', 'a', 'u', 'n', 'l', 'y', 'd', 'r', 't', 'h']\n",
      "most_confident_index tensor([ 1,  7,  8,  9, 10,  0,  6,  5,  4,  3,  2], device='mps:0')\n",
      "letter_guesses ['c', 'o', 'b', 'p', 'n', 'w', 'r', 't', 'l', 'm', 'e', 'u', 'f', 'i', 'v', 's', 'a', 'h', 'g', 'k', 'z', 'x', 'y', 'd', 'j', 'q', '-']\n",
      "masked_word un_cathedly ['i', 'o', 'e', 'a', 'u', 'n', 'l', 'y', 'd', 'r', 't', 'h', 'c']\n",
      "most_confident_index tensor([ 0,  1,  6,  7,  8, 10,  9,  4,  5,  3,  2], device='mps:0')\n",
      "letter_guesses ['s', 'g', 'c', 'i', 'f', 'b', 't', 'u', 'q', 'p', 'w', 'm', 'k', 'a', 'l', 'r', 'o', 'j', 'x', 'v', '-', 'd', 'y', 'n', 'e', '_', 'z']\n",
      "masked_word unscathedly ['i', 'o', 'e', 'a', 'u', 'n', 'l', 'y', 'd', 'r', 't', 'h', 'c', 's']\n"
     ]
    },
    {
     "name": "stderr",
     "output_type": "stream",
     "text": [
      "Win rate: 89.70%:  17%|█▋        | 4312/24895 [06:54<32:57, 10.41it/s]  \n"
     ]
    },
    {
     "ename": "KeyboardInterrupt",
     "evalue": "",
     "output_type": "error",
     "traceback": [
      "\u001b[31m---------------------------------------------------------------------------\u001b[39m",
      "\u001b[31mKeyboardInterrupt\u001b[39m                         Traceback (most recent call last)",
      "\u001b[36mCell\u001b[39m\u001b[36m \u001b[39m\u001b[32mIn[861]\u001b[39m\u001b[32m, line 58\u001b[39m\n\u001b[32m     56\u001b[39m total = \u001b[32m0\u001b[39m\n\u001b[32m     57\u001b[39m \u001b[38;5;28;01mfor\u001b[39;00m word \u001b[38;5;129;01min\u001b[39;00m (pbar := tqdm(truncated_words)):\n\u001b[32m---> \u001b[39m\u001b[32m58\u001b[39m     masked_word, guesses = \u001b[43mpredict\u001b[49m\u001b[43m(\u001b[49m\u001b[43mmodel\u001b[49m\u001b[43m,\u001b[49m\u001b[43m \u001b[49m\u001b[43mword\u001b[49m\u001b[43m,\u001b[49m\u001b[43m \u001b[49m\u001b[43mmax_guesses\u001b[49m\u001b[43m=\u001b[49m\u001b[32;43m6\u001b[39;49m\u001b[43m,\u001b[49m\u001b[43m \u001b[49m\u001b[43mverbose\u001b[49m\u001b[43m=\u001b[49m\u001b[38;5;28;43;01mFalse\u001b[39;49;00m\u001b[43m)\u001b[49m\n\u001b[32m     59\u001b[39m     \u001b[38;5;28;01mif\u001b[39;00m masked_word == word:\n\u001b[32m     60\u001b[39m         wins += \u001b[32m1\u001b[39m\n",
      "\u001b[36mCell\u001b[39m\u001b[36m \u001b[39m\u001b[32mIn[861]\u001b[39m\u001b[32m, line 24\u001b[39m, in \u001b[36mpredict\u001b[39m\u001b[34m(model, word, max_guesses, verbose)\u001b[39m\n\u001b[32m     22\u001b[39m features = torch.tensor([[stoi[c] \u001b[38;5;28;01mfor\u001b[39;00m c \u001b[38;5;129;01min\u001b[39;00m masked_word]]).to(device)\n\u001b[32m     23\u001b[39m \u001b[38;5;66;03m# print(\"features\", features)\u001b[39;00m\n\u001b[32m---> \u001b[39m\u001b[32m24\u001b[39m logits = \u001b[43mmodel\u001b[49m\u001b[43m.\u001b[49m\u001b[43mforward\u001b[49m\u001b[43m(\u001b[49m\u001b[43mfeatures\u001b[49m\u001b[43m)\u001b[49m\n\u001b[32m     25\u001b[39m probs = torch.softmax(logits, dim=\u001b[32m2\u001b[39m)\n\u001b[32m     26\u001b[39m \u001b[38;5;66;03m# print(\"probs\", probs)\u001b[39;00m\n\u001b[32m     27\u001b[39m \u001b[38;5;66;03m# print(\"max\", torch.max(probs, dim=2).values)\u001b[39;00m\n",
      "\u001b[36mCell\u001b[39m\u001b[36m \u001b[39m\u001b[32mIn[858]\u001b[39m\u001b[32m, line 41\u001b[39m, in \u001b[36mHangmanTransformer.forward\u001b[39m\u001b[34m(self, src)\u001b[39m\n\u001b[32m     37\u001b[39m pos_emb = \u001b[38;5;28mself\u001b[39m.position_embedding_table(\n\u001b[32m     38\u001b[39m     torch.arange(block_size).to(device)\n\u001b[32m     39\u001b[39m )  \u001b[38;5;66;03m# (T,C)\u001b[39;00m\n\u001b[32m     40\u001b[39m src = src + pos_emb\n\u001b[32m---> \u001b[39m\u001b[32m41\u001b[39m output = \u001b[38;5;28;43mself\u001b[39;49m\u001b[43m.\u001b[49m\u001b[43mtransformer_encoder\u001b[49m(src)\n\u001b[32m     42\u001b[39m output = \u001b[38;5;28mself\u001b[39m.ln_f(output)\n\u001b[32m     43\u001b[39m logits = \u001b[38;5;28mself\u001b[39m.fc(output)\n",
      "\u001b[36mFile \u001b[39m\u001b[32m~/wsq-prep/.venv/lib/python3.12/site-packages/torch/nn/modules/module.py:1675\u001b[39m, in \u001b[36mModule.__getattr__\u001b[39m\u001b[34m(self, name)\u001b[39m\n\u001b[32m   1666\u001b[39m         \u001b[38;5;28mself\u001b[39m._backward_pre_hooks = OrderedDict()\n\u001b[32m   1668\u001b[39m \u001b[38;5;66;03m# On the return type:\u001b[39;00m\n\u001b[32m   1669\u001b[39m \u001b[38;5;66;03m# We choose to return `Any` in the `__getattr__` type signature instead of a more strict `Union[Tensor, Module]`.\u001b[39;00m\n\u001b[32m   1670\u001b[39m \u001b[38;5;66;03m# This is done for better interop with various type checkers for the end users.\u001b[39;00m\n\u001b[32m   (...)\u001b[39m\u001b[32m   1673\u001b[39m \u001b[38;5;66;03m# See full discussion on the problems with returning `Union` here\u001b[39;00m\n\u001b[32m   1674\u001b[39m \u001b[38;5;66;03m# https://github.com/microsoft/pyright/issues/4213\u001b[39;00m\n\u001b[32m-> \u001b[39m\u001b[32m1675\u001b[39m \u001b[38;5;28;01mdef\u001b[39;00m\u001b[38;5;250m \u001b[39m\u001b[34m__getattr__\u001b[39m(\u001b[38;5;28mself\u001b[39m, name: \u001b[38;5;28mstr\u001b[39m) -> Any:\n\u001b[32m   1676\u001b[39m     \u001b[38;5;28;01mif\u001b[39;00m \u001b[33m'\u001b[39m\u001b[33m_parameters\u001b[39m\u001b[33m'\u001b[39m \u001b[38;5;129;01min\u001b[39;00m \u001b[38;5;28mself\u001b[39m.\u001b[34m__dict__\u001b[39m:\n\u001b[32m   1677\u001b[39m         _parameters = \u001b[38;5;28mself\u001b[39m.\u001b[34m__dict__\u001b[39m[\u001b[33m'\u001b[39m\u001b[33m_parameters\u001b[39m\u001b[33m'\u001b[39m]\n",
      "\u001b[31mKeyboardInterrupt\u001b[39m: "
     ]
    }
   ],
   "source": [
    "# inference:\n",
    "\n",
    "\n",
    "def predict(model, word, max_guesses=6, verbose=False):\n",
    "    if verbose:\n",
    "        print(\"word\", word)\n",
    "    guesses = []\n",
    "    model.eval()\n",
    "    with torch.no_grad():\n",
    "        while True:\n",
    "            # print(guesses)\n",
    "            masked_word = \"\".join(\n",
    "                [\"_\" if guess not in guesses else guess for guess in word]\n",
    "            )\n",
    "            if verbose:\n",
    "                print(\"masked_word\", masked_word, guesses)\n",
    "            if masked_word == word:\n",
    "                break\n",
    "            if len([g for g in guesses if g not in word]) >= max_guesses:\n",
    "                break\n",
    "\n",
    "            features = torch.tensor([[stoi[c] for c in masked_word]]).to(device)\n",
    "            # print(\"features\", features)\n",
    "            logits = model.forward(features)\n",
    "            probs = torch.softmax(logits, dim=2)\n",
    "            # print(\"probs\", probs)\n",
    "            # print(\"max\", torch.max(probs, dim=2).values)\n",
    "            most_confident_index = torch.topk(\n",
    "                torch.max(probs, dim=2).values, k=len(masked_word), dim=1\n",
    "            ).indices[0]\n",
    "            if verbose:\n",
    "                print(\"most_confident_index\", most_confident_index)\n",
    "            indices = torch.topk(probs, k=vocab_size - 1, dim=2).indices\n",
    "            # print(\"indices\", indices)\n",
    "            for i in most_confident_index:\n",
    "                if masked_word[i] == \"_\":\n",
    "                    letter_guesses = [itos[j.item()] for j in indices[0, i]]\n",
    "                    break\n",
    "            if verbose:\n",
    "                print(\"letter_guesses\", letter_guesses)\n",
    "            for letter_guess in letter_guesses:\n",
    "                if letter_guess not in guesses and letter_guess != \"_\":\n",
    "                    guesses.append(letter_guess)\n",
    "                    if (\n",
    "                        letter_guess in word\n",
    "                        or len([g for g in guesses if g not in word]) == max_guesses\n",
    "                    ):\n",
    "                        break\n",
    "                    # break\n",
    "    return masked_word, guesses\n",
    "\n",
    "\n",
    "predict(model, truncated_words[1], max_guesses=6, verbose=True)\n",
    "\n",
    "wins = 0\n",
    "total = 0\n",
    "for word in (pbar := tqdm(truncated_words)):\n",
    "    masked_word, guesses = predict(model, word, max_guesses=6, verbose=False)\n",
    "    if masked_word == word:\n",
    "        wins += 1\n",
    "    total += 1\n",
    "    pbar.set_description(f\"Win rate: {wins / total * 100:.2f}%\")\n",
    "\n",
    "# Win Rates\n",
    "# 2 chars: 31.58% (133)\n",
    "# 3 chars: 24.10% (1249)\n",
    "# 4 chars: 23.34% (4798)\n",
    "# 5 chars: 37.19% (9522)\n",
    "# 6 chars: 34.19% (16763)\n",
    "# 7 chars: 43.69% (22675)\n",
    "# 8 chars: 60.68% (28512)\n",
    "# 9 chars: 74.61% (30882)"
   ]
  },
  {
   "cell_type": "code",
   "execution_count": 862,
   "metadata": {},
   "outputs": [
    {
     "name": "stdout",
     "output_type": "stream",
     "text": [
      "63.89121296959437\n"
     ]
    },
    {
     "data": {
      "text/html": [
       "<div>\n",
       "<style scoped>\n",
       "    .dataframe tbody tr th:only-of-type {\n",
       "        vertical-align: middle;\n",
       "    }\n",
       "\n",
       "    .dataframe tbody tr th {\n",
       "        vertical-align: top;\n",
       "    }\n",
       "\n",
       "    .dataframe thead th {\n",
       "        text-align: right;\n",
       "    }\n",
       "</style>\n",
       "<table border=\"1\" class=\"dataframe\">\n",
       "  <thead>\n",
       "    <tr style=\"text-align: right;\">\n",
       "      <th></th>\n",
       "      <th>word_length</th>\n",
       "      <th>win_rate</th>\n",
       "      <th>num_words</th>\n",
       "    </tr>\n",
       "  </thead>\n",
       "  <tbody>\n",
       "    <tr>\n",
       "      <th>0</th>\n",
       "      <td>2</td>\n",
       "      <td>31.58</td>\n",
       "      <td>133</td>\n",
       "    </tr>\n",
       "    <tr>\n",
       "      <th>1</th>\n",
       "      <td>3</td>\n",
       "      <td>24.10</td>\n",
       "      <td>1249</td>\n",
       "    </tr>\n",
       "    <tr>\n",
       "      <th>2</th>\n",
       "      <td>4</td>\n",
       "      <td>23.34</td>\n",
       "      <td>4798</td>\n",
       "    </tr>\n",
       "    <tr>\n",
       "      <th>3</th>\n",
       "      <td>5</td>\n",
       "      <td>37.19</td>\n",
       "      <td>9522</td>\n",
       "    </tr>\n",
       "    <tr>\n",
       "      <th>4</th>\n",
       "      <td>6</td>\n",
       "      <td>34.19</td>\n",
       "      <td>16763</td>\n",
       "    </tr>\n",
       "    <tr>\n",
       "      <th>5</th>\n",
       "      <td>7</td>\n",
       "      <td>43.69</td>\n",
       "      <td>22675</td>\n",
       "    </tr>\n",
       "    <tr>\n",
       "      <th>6</th>\n",
       "      <td>8</td>\n",
       "      <td>60.68</td>\n",
       "      <td>28512</td>\n",
       "    </tr>\n",
       "    <tr>\n",
       "      <th>7</th>\n",
       "      <td>9</td>\n",
       "      <td>74.61</td>\n",
       "      <td>30882</td>\n",
       "    </tr>\n",
       "    <tr>\n",
       "      <th>8</th>\n",
       "      <td>10</td>\n",
       "      <td>83.43</td>\n",
       "      <td>29520</td>\n",
       "    </tr>\n",
       "    <tr>\n",
       "      <th>9</th>\n",
       "      <td>11</td>\n",
       "      <td>89.70</td>\n",
       "      <td>24895</td>\n",
       "    </tr>\n",
       "  </tbody>\n",
       "</table>\n",
       "</div>"
      ],
      "text/plain": [
       "   word_length  win_rate  num_words\n",
       "0            2     31.58        133\n",
       "1            3     24.10       1249\n",
       "2            4     23.34       4798\n",
       "3            5     37.19       9522\n",
       "4            6     34.19      16763\n",
       "5            7     43.69      22675\n",
       "6            8     60.68      28512\n",
       "7            9     74.61      30882\n",
       "8           10     83.43      29520\n",
       "9           11     89.70      24895"
      ]
     },
     "execution_count": 862,
     "metadata": {},
     "output_type": "execute_result"
    },
    {
     "data": {
      "image/png": "[encoded data removed]",
      "text/plain": [
       "<Figure size 640x480 with 1 Axes>"
      ]
     },
     "metadata": {},
     "output_type": "display_data"
    }
   ],
   "source": [
    "windf = pd.DataFrame(\n",
    "    {\n",
    "        \"word_length\": [2, 3, 4, 5, 6, 7, 8, 9, 10, 11],\n",
    "        \"win_rate\": [\n",
    "            31.58,\n",
    "            24.10,\n",
    "            23.34,\n",
    "            37.19,\n",
    "            34.19,\n",
    "            43.69,\n",
    "            60.68,\n",
    "            74.61,\n",
    "            83.43,\n",
    "            89.70,\n",
    "        ],\n",
    "        \"num_words\": [133, 1249, 4798, 9522, 16763, 22675, 28512, 30882, 29520, 24895],\n",
    "    }\n",
    ")\n",
    "print(windf[\"win_rate\"].mul(windf[\"num_words\"]).sum() / windf[\"num_words\"].sum())\n",
    "windf.plot.bar(x=\"word_length\", y=\"win_rate\")\n",
    "windf"
   ]
  }
 ],
 "metadata": {
  "kernelspec": {
   "display_name": ".venv",
   "language": "python",
   "name": "python3"
  },
  "language_info": {
   "codemirror_mode": {
    "name": "ipython",
    "version": 3
   },
   "file_extension": ".py",
   "mimetype": "text/x-python",
   "name": "python",
   "nbconvert_exporter": "python",
   "pygments_lexer": "ipython3",
   "version": "3.12.10"
  }
 },
 "nbformat": 4,
 "nbformat_minor": 2
}
