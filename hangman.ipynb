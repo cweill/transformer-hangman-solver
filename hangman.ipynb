{
 "cells": [
  {
   "cell_type": "code",
   "execution_count": 1,
   "metadata": {},
   "outputs": [],
   "source": [
    "import torch\n",
    "import numpy as np\n",
    "import matplotlib.pyplot as plt\n",
    "from tqdm import tqdm\n",
    "from numba import njit\n",
    "from torch.utils.data import Dataset\n",
    "import random\n",
    "%matplotlib inline"
   ]
  },
  {
   "cell_type": "code",
   "execution_count": 41,
   "metadata": {},
   "outputs": [],
   "source": [
    "TRAIN_NUM_EXAMPLES = 20_000_000\n",
    "TRAIN_NUM_WORDS = 200_000\n",
    "VAL_NUM_WORDS = 3_000"
   ]
  },
  {
   "cell_type": "code",
   "execution_count": 3,
   "metadata": {},
   "outputs": [
    {
     "name": "stdout",
     "output_type": "stream",
     "text": [
      "224377\n"
     ]
    }
   ],
   "source": [
    "# load the data in training_dictionary.txt\n",
    "import os\n",
    "current_dir = os.getcwd()\n",
    "with open(\n",
    "    f\"{current_dir}/training_dictionary.txt\", \"r\"\n",
    ") as file:\n",
    "    all_words = file.read().splitlines()\n",
    "print(len(all_words))"
   ]
  },
  {
   "cell_type": "code",
   "execution_count": 4,
   "metadata": {},
   "outputs": [
    {
     "name": "stderr",
     "output_type": "stream",
     "text": [
      "100%|██████████| 224377/224377 [00:00<00:00, 4378517.19it/s]"
     ]
    },
    {
     "name": "stdout",
     "output_type": "stream",
     "text": [
      "count    224377.000000\n",
      "mean          9.591540\n",
      "std           2.916634\n",
      "min           1.000000\n",
      "25%           8.000000\n",
      "50%           9.000000\n",
      "75%          11.000000\n",
      "max          24.000000\n",
      "Name: word_length, dtype: float64\n"
     ]
    },
    {
     "name": "stderr",
     "output_type": "stream",
     "text": [
      "\n"
     ]
    },
    {
     "data": {
      "text/plain": [
       "array([[<Axes: title={'center': 'word_length'}>]], dtype=object)"
      ]
     },
     "execution_count": 4,
     "metadata": {},
     "output_type": "execute_result"
    },
    {
     "data": {
      "image/png": "[encoded data removed]",
      "text/plain": [
       "<Figure size 640x480 with 1 Axes>"
      ]
     },
     "metadata": {},
     "output_type": "display_data"
    }
   ],
   "source": [
    "import pandas as pd\n",
    "\n",
    "df = pd.DataFrame(\n",
    "    {\n",
    "        \"word_length\": [len(word) for word in tqdm(all_words)],\n",
    "    }\n",
    ")\n",
    "\n",
    "print(df[\"word_length\"].describe())\n",
    "\n",
    "df.hist(column=\"word_length\", bins=df[\"word_length\"].max())"
   ]
  },
  {
   "cell_type": "code",
   "execution_count": 5,
   "metadata": {},
   "outputs": [],
   "source": [
    "max_length = 25\n",
    "\n",
    "words = [word for word in all_words if len(word) <= max_length]"
   ]
  },
  {
   "cell_type": "code",
   "execution_count": 6,
   "metadata": {},
   "outputs": [
    {
     "name": "stdout",
     "output_type": "stream",
     "text": [
      "224377\n"
     ]
    },
    {
     "data": {
      "text/plain": [
       "['reperplex',\n",
       " 'dice',\n",
       " 'hemibenthic',\n",
       " 'plumatellid',\n",
       " 'delatinize',\n",
       " 'mermithization',\n",
       " 'rixatrix',\n",
       " 'preassurance',\n",
       " 'desensitize',\n",
       " 'mele']"
      ]
     },
     "execution_count": 6,
     "metadata": {},
     "output_type": "execute_result"
    }
   ],
   "source": [
    "import random\n",
    "\n",
    "print(len(words))\n",
    "random.seed(42)\n",
    "random.shuffle(words)\n",
    "words[:10]"
   ]
  },
  {
   "cell_type": "code",
   "execution_count": 7,
   "metadata": {},
   "outputs": [
    {
     "data": {
      "text/plain": [
       "2152121"
      ]
     },
     "execution_count": 7,
     "metadata": {},
     "output_type": "execute_result"
    }
   ],
   "source": [
    "len(\"\".join(words))"
   ]
  },
  {
   "cell_type": "code",
   "execution_count": 8,
   "metadata": {},
   "outputs": [
    {
     "name": "stdout",
     "output_type": "stream",
     "text": [
      "tetraiodophenolphthalein 24\n"
     ]
    }
   ],
   "source": [
    "longest_word = max(words, key=len)\n",
    "print(longest_word, len(longest_word))"
   ]
  },
  {
   "cell_type": "code",
   "execution_count": 9,
   "metadata": {},
   "outputs": [
    {
     "name": "stdout",
     "output_type": "stream",
     "text": [
      "29\n",
      "{'.': 0, '_': 1, '-': 2, 'a': 3, 'b': 4, 'c': 5, 'd': 6, 'e': 7, 'f': 8, 'g': 9, 'h': 10, 'i': 11, 'j': 12, 'k': 13, 'l': 14, 'm': 15, 'n': 16, 'o': 17, 'p': 18, 'q': 19, 'r': 20, 's': 21, 't': 22, 'u': 23, 'v': 24, 'w': 25, 'x': 26, 'y': 27, 'z': 28}\n",
      "{0: '.', 1: '_', 2: '-', 3: 'a', 4: 'b', 5: 'c', 6: 'd', 7: 'e', 8: 'f', 9: 'g', 10: 'h', 11: 'i', 12: 'j', 13: 'k', 14: 'l', 15: 'm', 16: 'n', 17: 'o', 18: 'p', 19: 'q', 20: 'r', 21: 's', 22: 't', 23: 'u', 24: 'v', 25: 'w', 26: 'x', 27: 'y', 28: 'z'}\n"
     ]
    }
   ],
   "source": [
    "vocab = set(\"\".join(words))\n",
    "vocab = [\".\", \"_\"] + sorted(list(vocab))\n",
    "vocab_size = len(vocab)\n",
    "print(vocab_size)\n",
    "stoi = {char: i for i, char in enumerate(vocab)}\n",
    "itos = {i: char for char, i in stoi.items()}\n",
    "print(stoi)\n",
    "print(itos)"
   ]
  },
  {
   "cell_type": "code",
   "execution_count": 10,
   "metadata": {},
   "outputs": [],
   "source": [
    "# create a dataset where each character is masked with an underscore\n",
    "block_size = max_length"
   ]
  },
  {
   "cell_type": "code",
   "execution_count": 11,
   "metadata": {},
   "outputs": [
    {
     "name": "stdout",
     "output_type": "stream",
     "text": [
      "224377\n"
     ]
    },
    {
     "data": {
      "text/plain": [
       "['reperplex................',\n",
       " 'dice.....................',\n",
       " 'hemibenthic..............',\n",
       " 'plumatellid..............',\n",
       " 'delatinize...............',\n",
       " 'mermithization...........',\n",
       " 'rixatrix.................',\n",
       " 'preassurance.............',\n",
       " 'desensitize..............',\n",
       " 'mele.....................',\n",
       " 'codfisher................',\n",
       " 'metrorrhagia.............',\n",
       " 'dispiece.................',\n",
       " 'malagigi.................',\n",
       " 'undetractingly...........',\n",
       " 'vanillal.................',\n",
       " 'dowery...................',\n",
       " 'blepharal................',\n",
       " 'osnappar.................',\n",
       " 'phoronic.................',\n",
       " 'behold...................',\n",
       " 'brigand..................',\n",
       " 'lots.....................',\n",
       " 'thingamabob..............',\n",
       " 'aureation................',\n",
       " 'phosphene................',\n",
       " 'kolach...................',\n",
       " 'raja.....................',\n",
       " 'rhipiphorid..............',\n",
       " 'unagitatedly.............']"
      ]
     },
     "execution_count": 11,
     "metadata": {},
     "output_type": "execute_result"
    }
   ],
   "source": [
    "dataset = []\n",
    "# Truncate word to block_size or fill them with '.' if it's too short. Use '_' for the single masked character. There must only be one '_' per word.\n",
    "truncated_words = []\n",
    "for word in words:\n",
    "    # Pad shorter words with '.' to match block_size\n",
    "    if len(word) < block_size:\n",
    "        word = word + \".\" * (block_size - len(word))\n",
    "\n",
    "    # Use sliding window to generate subwords\n",
    "    for i in range(len(word) - block_size + 1):\n",
    "        subword = word[i : i + block_size]\n",
    "        truncated_words.append(subword)\n",
    "\n",
    "print(len(truncated_words))\n",
    "truncated_words[:30]"
   ]
  },
  {
   "cell_type": "code",
   "execution_count": 10,
   "metadata": {},
   "outputs": [
    {
     "name": "stdout",
     "output_type": "stream",
     "text": [
      "[('_pp', 'app'), ('a__', 'app'), ('___', 'app')]\n",
      "[('_pp.', 'app.'), ('a__.', 'app.'), ('___.', 'app.')]\n",
      "[('_yz', 'xyz'), ('x_z', 'xyz'), ('__z', 'xyz'), ('xy_', 'xyz'), ('_y_', 'xyz'), ('x__', 'xyz'), ('___', 'xyz')]\n",
      "[('_yz..', 'xyz..'), ('x_z..', 'xyz..'), ('__z..', 'xyz..'), ('xy_..', 'xyz..'), ('_y_..', 'xyz..'), ('x__..', 'xyz..'), ('___..', 'xyz..')]\n"
     ]
    }
   ],
   "source": [
    "def masked_words(word: str):\n",
    "    if not word:\n",
    "        return []\n",
    "\n",
    "    result = []\n",
    "\n",
    "    # Get unique characters in the word\n",
    "    unique_chars = list(set(word) - {\".\"})\n",
    "\n",
    "    # Generate all possible combinations of which characters to mask\n",
    "    # For n unique characters, we have 2^n possibilities\n",
    "    for i in range(1, 2 ** len(unique_chars)):  # Start from 1 to exclude no masks\n",
    "        chars_to_mask = set()\n",
    "\n",
    "        # Determine which characters to mask based on bit pattern\n",
    "        for j in range(len(unique_chars)):\n",
    "            if i & (1 << j):\n",
    "                chars_to_mask.add(unique_chars[j])\n",
    "\n",
    "        # Create the masked string\n",
    "        masked = \"\"\n",
    "        for char in word:\n",
    "            if char in chars_to_mask:\n",
    "                masked += \"_\"\n",
    "            else:\n",
    "                masked += char\n",
    "\n",
    "        # Create a tuple for each masked character type\n",
    "        # for char in chars_to_mask:\n",
    "        result.append((masked, word))\n",
    "\n",
    "    return result\n",
    "\n",
    "\n",
    "print(masked_words(\"app\"))\n",
    "print(masked_words(\"app.\"))\n",
    "print(masked_words(\"xyz\"))\n",
    "print(masked_words(\"xyz..\"))"
   ]
  },
  {
   "cell_type": "code",
   "execution_count": 11,
   "metadata": {},
   "outputs": [
    {
     "name": "stdout",
     "output_type": "stream",
     "text": [
      "94041916\n",
      "[('r_p_rpl_x................', 'reperplex................'), ('reperp_ex................', 'reperplex................'), ('r_p_rp__x................', 'reperplex................'), ('_epe_plex................', 'reperplex................'), ('__p__pl_x................', 'reperplex................'), ('_epe_p_ex................', 'reperplex................'), ('__p__p__x................', 'reperplex................'), ('re_er_lex................', 'reperplex................'), ('r___r_l_x................', 'reperplex................'), ('re_er__ex................', 'reperplex................')]\n",
      "1406556\n",
      "[('pyth_gorism..............', 'pythagorism..............'), ('pythag_rism..............', 'pythagorism..............'), ('pyth_g_rism..............', 'pythagorism..............'), ('pythagori_m..............', 'pythagorism..............'), ('pyth_gori_m..............', 'pythagorism..............'), ('pythag_ri_m..............', 'pythagorism..............'), ('pyth_g_ri_m..............', 'pythagorism..............'), ('pythagoris_..............', 'pythagorism..............'), ('pyth_goris_..............', 'pythagorism..............'), ('pythag_ris_..............', 'pythagorism..............')]\n",
      "CPU times: user 2min 42s, sys: 5.5 s, total: 2min 47s\n",
      "Wall time: 2min 47s\n"
     ]
    }
   ],
   "source": [
    "%%time\n",
    "\n",
    "def gen_dataset(truncated_words: list[str]):\n",
    "    dataset = []\n",
    "    for word in truncated_words:\n",
    "        dataset.extend(masked_words(word))\n",
    "    return dataset\n",
    "\n",
    "\n",
    "# dataset = list(set(dataset))\n",
    "\n",
    "# print the first 10 elements of the dataset\n",
    "train_dataset = gen_dataset(truncated_words[:TRAIN_NUM_WORDS])\n",
    "print(len(train_dataset))\n",
    "print(train_dataset[:10])\n",
    "\n",
    "val_dataset = gen_dataset(truncated_words[-VAL_NUM_WORDS:])\n",
    "print(len(val_dataset))\n",
    "print(val_dataset[:10])"
   ]
  },
  {
   "cell_type": "code",
   "execution_count": 12,
   "metadata": {},
   "outputs": [
    {
     "name": "stdout",
     "output_type": "stream",
     "text": [
      "CPU times: user 1min 6s, sys: 123 ms, total: 1min 6s\n",
      "Wall time: 1min 6s\n"
     ]
    }
   ],
   "source": [
    "%%time\n",
    "\n",
    "random.seed(42)\n",
    "random.shuffle(train_dataset)\n",
    "train_dataset = train_dataset[:TRAIN_NUM_EXAMPLES]"
   ]
  },
  {
   "cell_type": "code",
   "execution_count": 13,
   "metadata": {},
   "outputs": [
    {
     "name": "stdout",
     "output_type": "stream",
     "text": [
      "([1, 7, 22, 1, 7, 7, 16, 1, 1, 11, 1, 7, 1, 0, 0, 0, 0, 0, 0, 0, 0, 0, 0, 0, 0], [4, 7, 22, 25, 7, 7, 16, 25, 10, 11, 14, 7, 21, 0, 0, 0, 0, 0, 0, 0, 0, 0, 0, 0, 0])\n",
      "([18, 27, 22, 10, 1, 9, 17, 20, 11, 21, 15, 0, 0, 0, 0, 0, 0, 0, 0, 0, 0, 0, 0, 0, 0], [18, 27, 22, 10, 3, 9, 17, 20, 11, 21, 15, 0, 0, 0, 0, 0, 0, 0, 0, 0, 0, 0, 0, 0, 0])\n",
      "CPU times: user 2min 52s, sys: 4.51 s, total: 2min 57s\n",
      "Wall time: 2min 56s\n"
     ]
    }
   ],
   "source": [
    "%%time\n",
    "# convert the words to a list of ints\n",
    "def integerize_dataset(dataset: list[tuple[str, str]]):\n",
    "    integerized_dataset = []\n",
    "    for word, label in dataset:\n",
    "        integerized_dataset.append(\n",
    "            ([stoi[char] for char in word], [stoi[char] for char in label])\n",
    "        )\n",
    "    return integerized_dataset\n",
    "\n",
    "train_integerized_dataset = integerize_dataset(train_dataset)\n",
    "print(train_integerized_dataset[0])\n",
    "\n",
    "val_integerized_dataset = integerize_dataset(val_dataset)\n",
    "print(val_integerized_dataset[0])"
   ]
  },
  {
   "cell_type": "code",
   "execution_count": 14,
   "metadata": {},
   "outputs": [
    {
     "name": "stdout",
     "output_type": "stream",
     "text": [
      "CPU times: user 10.2 s, sys: 1 ms, total: 10.2 s\n",
      "Wall time: 10.2 s\n"
     ]
    }
   ],
   "source": [
    "%%time\n",
    "\n",
    "random.shuffle(train_integerized_dataset)\n",
    "random.shuffle(val_integerized_dataset)"
   ]
  },
  {
   "cell_type": "code",
   "execution_count": 12,
   "metadata": {},
   "outputs": [
    {
     "name": "stdout",
     "output_type": "stream",
     "text": [
      "CPU times: user 10 μs, sys: 7 μs, total: 17 μs\n",
      "Wall time: 25.5 μs\n"
     ]
    }
   ],
   "source": [
    "%%time\n",
    "import pickle\n",
    "# save datasets to disk\n",
    "train_dataset_path = f\"{current_dir}/train_dataset.pkl\"\n",
    "val_dataset_path = f\"{current_dir}/val_dataset.pkl\"\n"
   ]
  },
  {
   "cell_type": "code",
   "execution_count": 13,
   "metadata": {},
   "outputs": [],
   "source": [
    "\n",
    "# print(f\"Saving train dataset to {train_dataset_path}\")\n",
    "# with open(train_dataset_path, \"wb\") as f:\n",
    "#     pickle.dump(train_integerized_dataset, f)\n",
    "\n",
    "# print(f\"Saving val dataset to {val_dataset_path}\")\n",
    "# with open(val_dataset_path, \"wb\") as f:\n",
    "#     pickle.dump(val_integerized_dataset, f)\n",
    "\n",
    "\n",
    "\n",
    "# # torch.save(train_integerized_dataset, train_dataset_path)\n",
    "# # torch.save(val_integerized_dataset, val_dataset_path)\n",
    "\n",
    "# # # load datasets from disk\n",
    "# # train_dataset = torch.load(train_dataset_path)\n",
    "# # val_dataset = torch.load(val_dataset_path)"
   ]
  },
  {
   "cell_type": "code",
   "execution_count": 14,
   "metadata": {},
   "outputs": [
    {
     "name": "stdout",
     "output_type": "stream",
     "text": [
      "CPU times: user 38.4 s, sys: 6.42 s, total: 44.8 s\n",
      "Wall time: 44.6 s\n"
     ]
    }
   ],
   "source": [
    "%%time\n",
    "with open(train_dataset_path, \"rb\") as f:\n",
    "    train_integerized_dataset = pickle.load(f)\n",
    "\n",
    "with open(val_dataset_path, \"rb\") as f:\n",
    "    val_integerized_dataset = pickle.load(f)\n"
   ]
  },
  {
   "cell_type": "code",
   "execution_count": 15,
   "metadata": {},
   "outputs": [
    {
     "name": "stdout",
     "output_type": "stream",
     "text": [
      "20000000\n",
      "1406556\n",
      "CPU times: user 1min 44s, sys: 3.24 s, total: 1min 47s\n",
      "Wall time: 1min 46s\n"
     ]
    }
   ],
   "source": [
    "%%time\n",
    "# create a pytorch dataset of word and label pairs\n",
    "\n",
    "class HangmanDataset(Dataset):\n",
    "    def __init__(self, words):\n",
    "        self.features = torch.tensor([x[0] for x in words])\n",
    "        self.labels = torch.tensor([x[1] for x in words])\n",
    "\n",
    "    def __len__(self):\n",
    "        return len(self.features)\n",
    "\n",
    "    def __getitem__(self, idx):\n",
    "        return self.features[idx], self.labels[idx]\n",
    "\n",
    "\n",
    "train_dataset = HangmanDataset(train_integerized_dataset)\n",
    "val_dataset = HangmanDataset(val_integerized_dataset)\n",
    "\n",
    "print(len(train_dataset))\n",
    "# print(train_dataset[[0, 1, 2]])\n",
    "\n",
    "print(len(val_dataset))"
   ]
  },
  {
   "cell_type": "code",
   "execution_count": 33,
   "metadata": {},
   "outputs": [],
   "source": [
    "from dataclasses import dataclass\n",
    "import torch\n",
    "import torch.nn as nn\n",
    "import torch.optim as optim\n",
    "import torch.nn.functional as F\n",
    "import math\n",
    "from tqdm import tqdm\n",
    "import time\n",
    "\n",
    "@dataclass\n",
    "class GPTConfig:\n",
    "    block_size: int = 1024  # Max sequence length\n",
    "    vocab_size: int = (\n",
    "        50257  # number of tokens: 50,000 BPE merges + 256 bytes tokens + 1 <|endoftext|> token\n",
    "    )\n",
    "    n_layer: int = 12  # number of layers\n",
    "    n_head: int = 12  # number of attention heads\n",
    "    n_embd: int = 768  # embedding dimension\n",
    "\n",
    "\n",
    "class CausalSelfAttention(nn.Module):\n",
    "    def __init__(self, config: GPTConfig):\n",
    "        super().__init__()\n",
    "        assert config.n_embd % config.n_head == 0\n",
    "\n",
    "        # key, query, value projections for all heads, but in a batch\n",
    "        self.c_attn = nn.Linear(config.n_embd, 3 * config.n_embd)\n",
    "        # output projection\n",
    "        self.c_proj = nn.Linear(config.n_embd, config.n_embd)\n",
    "        self.c_proj.NANOGPT_SCALE_INIT = 1\n",
    "\n",
    "        # regularization\n",
    "        self.n_head = config.n_head\n",
    "        self.n_embd = config.n_embd\n",
    "\n",
    "        # not really a 'bias', more of a mask, but following the OpenAI/HF naming though\n",
    "        self.register_buffer(\n",
    "            \"bias\",\n",
    "            torch.tril(torch.ones(config.block_size, config.block_size)).view(\n",
    "                1, 1, config.block_size, config.block_size\n",
    "            ),\n",
    "        )\n",
    "\n",
    "    def forward(self, x):\n",
    "        B, T, C = x.size()\n",
    "\n",
    "        # calculate query, key, values for all heads in batch and move head forward to be the batch dim\n",
    "        # nh is \"number of heads\", hs is \"head size\", and C (number of channels) is the embedding dimension\n",
    "        qkv = self.c_attn(x)\n",
    "        q, k, v = qkv.split(self.n_embd, dim=2)\n",
    "        k = k.view(B, T, self.n_head, C // self.n_head).transpose(\n",
    "            1, 2\n",
    "        )  # (B, nh, T, hs)\n",
    "        q = q.view(B, T, self.n_head, C // self.n_head).transpose(\n",
    "            1, 2\n",
    "        )  # (B, nh, T, hs)\n",
    "        v = v.view(B, T, self.n_head, C // self.n_head).transpose(\n",
    "            1, 2\n",
    "        )  # (B, nh, T, hs)\n",
    "\n",
    "        # causal self-attention; Self-attend: (B, nh, T, hs) x (B, nh, hs, T) -> (B, nh, T, T)\n",
    "        # att = (q @ k.transpose(-2, -1)) * (1 / math.sqrt(k.size(-1)))\n",
    "        # att = att.masked_fill(self.bias[:, :, :T, :T] == 0, float(\"-inf\"))\n",
    "        # att = F.softmax(att, dim=-1)\n",
    "        # y = att @ v  # (B, nh, T, T) x (B, nh, T, hs) -> (B, nh, T, hs)\n",
    "\n",
    "        y = F.scaled_dot_product_attention(q, k, v, is_causal=False)\n",
    "\n",
    "        y = (\n",
    "            y.transpose(1, 2).contiguous().view(B, T, C)\n",
    "        )  # re-assemble all head outputs side by side\n",
    "\n",
    "        # output projection\n",
    "        y = self.c_proj(y)\n",
    "        return y\n",
    "\n",
    "\n",
    "class MLP(nn.Module):\n",
    "    def __init__(self, config: GPTConfig):\n",
    "        super().__init__()\n",
    "        self.c_fc = nn.Linear(config.n_embd, 4 * config.n_embd)\n",
    "        self.gelu = nn.GELU(approximate=\"tanh\")\n",
    "        self.c_proj = nn.Linear(4 * config.n_embd, config.n_embd)\n",
    "        self.c_proj.NANOGPT_SCALE_INIT = 1\n",
    "\n",
    "    def forward(self, x):\n",
    "        x = self.c_fc(x)\n",
    "        x = self.gelu(x)\n",
    "        x = self.c_proj(x)\n",
    "        return x\n",
    "\n",
    "\n",
    "class Block(nn.Module):\n",
    "    def __init__(self, config: GPTConfig):\n",
    "        super().__init__()\n",
    "        self.ln_1 = nn.LayerNorm(config.n_embd)\n",
    "        self.attn = CausalSelfAttention(config)\n",
    "        self.ln_2 = nn.LayerNorm(config.n_embd)\n",
    "        self.mlp = MLP(config)\n",
    "\n",
    "    def forward(self, x):\n",
    "        x = x + self.attn(self.ln_1(x))\n",
    "        x = x + self.mlp(self.ln_2(x))\n",
    "        return x\n",
    "\n",
    "\n",
    "class GPT(nn.Module):\n",
    "\n",
    "    def __init__(self, config: GPTConfig):\n",
    "        super().__init__()\n",
    "        self.config = config\n",
    "\n",
    "        self.transformer = nn.ModuleDict(\n",
    "            dict(\n",
    "                wte=nn.Embedding(config.vocab_size, config.n_embd),\n",
    "                wpe=nn.Embedding(config.block_size, config.n_embd),\n",
    "                h=nn.ModuleList([Block(config) for _ in range(config.n_layer)]),\n",
    "                ln_f=nn.LayerNorm(config.n_embd),\n",
    "            )\n",
    "        )\n",
    "        self.lm_head = nn.Linear(config.n_embd, config.vocab_size, bias=False)\n",
    "\n",
    "        # weight sharing scheme\n",
    "        self.transformer.wte.weight = self.lm_head.weight\n",
    "\n",
    "        # init params\n",
    "        self.apply(self._init_weights)\n",
    "\n",
    "    def _init_weights(self, module):\n",
    "        if isinstance(module, nn.Linear):\n",
    "            std = 0.02  # roughly equivalent to 1/sqrt(d_model)\n",
    "            if hasattr(module, \"NANOGPT_SCALE_INIT\"):\n",
    "                std *= (2 * self.config.n_layer) ** -0.05\n",
    "            torch.nn.init.normal_(\n",
    "                module.weight,\n",
    "                mean=0.0,\n",
    "                std=std,\n",
    "            )\n",
    "            if module.bias is not None:\n",
    "                torch.nn.init.zeros_(module.bias)\n",
    "        elif isinstance(module, nn.Embedding):\n",
    "            torch.nn.init.normal_(\n",
    "                module.weight,\n",
    "                mean=0.0,\n",
    "                std=0.02,  # roughly equivalent to 1/sqrt(d_model)\n",
    "            )\n",
    "\n",
    "    def forward(self, idx, targets=None):\n",
    "        # idx and targets are both (B, T) tensor of integers token indices\n",
    "        B, T = idx.size()\n",
    "        assert (\n",
    "            T <= self.config.block_size\n",
    "        ), f\"Cannot forward sequence of length {T}, block size is only {self.config.block_size}\"\n",
    "\n",
    "        pos = torch.arange(0, T, dtype=torch.long, device=idx.device)\n",
    "        pos_emb = self.transformer.wpe(pos)  # position embeddings of shape (T, n_embed)\n",
    "        tok_emb = self.transformer.wte(idx)  # token embeddings of shape (B, T, n_embed)\n",
    "        x = tok_emb + pos_emb\n",
    "        # forward the blocks of the transformer\n",
    "        for block in self.transformer.h:\n",
    "            x = block(x)\n",
    "        # forward the final layer norm and the classifier\n",
    "        x = self.transformer.ln_f(x)  # (B, T, n_embed)\n",
    "        logits = self.lm_head(x)  # (B, T, vocab_size)\n",
    "\n",
    "        loss = None\n",
    "        if targets is not None:\n",
    "            loss = F.cross_entropy(logits.view(-1, logits.size(-1)), targets.view(-1))\n",
    "        return logits, loss\n"
   ]
  },
  {
   "cell_type": "code",
   "execution_count": 43,
   "metadata": {},
   "outputs": [
    {
     "name": "stdout",
     "output_type": "stream",
     "text": [
      "Using device: cuda\n",
      "Number of parameters: 3,173,376\n"
     ]
    },
    {
     "name": "stderr",
     "output_type": "stream",
     "text": [
      "Epoch 1/1 | Train Loss: 0.2749 | Val Loss: 0.3358 | 28.68ms/batch | 7141555.68 tok/s: 100%|██████████| 2442/2442 [02:39<00:00, 15.36it/s]\n"
     ]
    }
   ],
   "source": [
    "# Create a transformer model for the hangman game\n",
    "\n",
    "\n",
    "d_model = 256\n",
    "nhead = 8\n",
    "num_layers = 4\n",
    "\n",
    "device = (\n",
    "    \"cuda\"\n",
    "    if torch.cuda.is_available()\n",
    "    else (\"mps\" if torch.backends.mps.is_available() else \"cpu\")\n",
    ")\n",
    "\n",
    "print(\"Using device:\", device)\n",
    "\n",
    "torch.set_float32_matmul_precision(\"high\")\n",
    "\n",
    "opt_vocab_size = vocab_size\n",
    "opt_block_size = block_size\n",
    "\n",
    "# create a transformer model\n",
    "model = GPT(GPTConfig(\n",
    "    block_size=opt_block_size,\n",
    "    vocab_size=opt_vocab_size,\n",
    "    n_layer=num_layers,\n",
    "    n_head=nhead,\n",
    "    n_embd=d_model,\n",
    "))\n",
    "print(\"Number of parameters:\", f\"{sum(p.numel() for p in model.parameters()):,}\")\n",
    "\n",
    "model.to(device)\n",
    "model = torch.compile(model)\n",
    "# create a loss function\n",
    "criterion = nn.CrossEntropyLoss()\n",
    "\n",
    "# create an optimizer\n",
    "optimizer = optim.AdamW(model.parameters(), lr=3e-4, weight_decay=0.0, betas=(0.9, 0.95))\n",
    "\n",
    "# train the model\n",
    "batch_size = 8192\n",
    "num_epochs = 1\n",
    "\n",
    "# cosine_scheduler = optim.lr_scheduler.CosineAnnealingLR(optimizer, T_max=(len(train_dataset) // batch_size) * num_epochs)\n",
    "\n",
    "lossi = []\n",
    "val_lossi = []\n",
    "val_step = []\n",
    "step = 0\n",
    "\n",
    "val_features, val_labels = val_dataset[:10000]\n",
    "val_features = val_features.to(device)\n",
    "val_labels = val_labels.to(device)\n",
    "for epoch in range(num_epochs):\n",
    "    for i in (pbar := tqdm(range(0, len(train_dataset), batch_size))):\n",
    "        t0 = time.time()\n",
    "        # idx = torch.randint(0, len(train_dataset), (batch_size,))\n",
    "        features, labels = train_dataset[i : i + batch_size]\n",
    "        features = features.to(device)\n",
    "        labels = labels.to(device)\n",
    "        # Zero the gradients\n",
    "        optimizer.zero_grad()\n",
    "\n",
    "        # Forward pass\n",
    "        with torch.autocast(device_type=device, dtype=torch.bfloat16):\n",
    "            logits, loss = model(features, labels)\n",
    "\n",
    "\n",
    "        # Backward pass\n",
    "        loss.backward()\n",
    "\n",
    "        # Update weights\n",
    "        optimizer.step()\n",
    "        # cosine_scheduler.step()\n",
    "        torch.cuda.synchronize()\n",
    "\n",
    "        t1 = time.time()\n",
    "        dt = (t1 - t0) * 1000  # ms\n",
    "        lossi.append(loss.item())\n",
    "\n",
    "        if step % 20 == 0:\n",
    "            model.eval()\n",
    "            with torch.no_grad():\n",
    "                _, val_loss = model(val_features, val_labels)\n",
    "                val_lossi.append(val_loss.item())\n",
    "                val_step.append(step)\n",
    "            model.train()\n",
    "\n",
    "        tokens_per_second = (batch_size * block_size) / (t1 - t0)\n",
    "        pbar.set_description(\n",
    "            f\"Epoch {epoch+1}/{num_epochs} | Train Loss: {loss.item():.4f} | Val Loss: {val_loss.item():.4f} | {dt:.2f}ms/batch | {tokens_per_second:.2f} tok/s\"\n",
    "        )\n",
    "        step += 1"
   ]
  },
  {
   "cell_type": "code",
   "execution_count": 44,
   "metadata": {},
   "outputs": [],
   "source": [
    "model_path = f\"{current_dir}/model.pth\"\n",
    "torch.save(model.state_dict(), model_path)"
   ]
  },
  {
   "cell_type": "code",
   "execution_count": 45,
   "metadata": {},
   "outputs": [],
   "source": [
    "# bkp_model = model"
   ]
  },
  {
   "cell_type": "code",
   "execution_count": 46,
   "metadata": {},
   "outputs": [],
   "source": [
    "# model = GPT(GPTConfig(\n",
    "#     block_size=opt_block_size,\n",
    "#     vocab_size=opt_vocab_size,\n",
    "#     n_layer=num_layers,\n",
    "#     n_head=nhead,\n",
    "#     n_embd=d_model,\n",
    "# ))\n",
    "# model.load_state_dict(torch.load(model_path))\n",
    "# model.to(device)\n",
    "# model.eval()\n"
   ]
  },
  {
   "cell_type": "code",
   "execution_count": 47,
   "metadata": {},
   "outputs": [
    {
     "data": {
      "image/png": "[encoded data removed]",
      "text/plain": [
       "<Figure size 640x480 with 1 Axes>"
      ]
     },
     "metadata": {},
     "output_type": "display_data"
    }
   ],
   "source": [
    "plt.plot(lossi)\n",
    "plt.plot(val_step, val_lossi)\n",
    "plt.legend([\"Train Loss\", \"Val Loss\"])\n",
    "# start x axis at 1000\n",
    "plt.ylim(0.2, 0.45)\n",
    "plt.show()"
   ]
  },
  {
   "cell_type": "code",
   "execution_count": 48,
   "metadata": {},
   "outputs": [
    {
     "name": "stderr",
     "output_type": "stream",
     "text": [
      "100%|██████████| 25/25 [00:00<00:00, 70.55it/s]\n"
     ]
    },
    {
     "name": "stdout",
     "output_type": "stream",
     "text": [
      "0.27932058811187743\n"
     ]
    },
    {
     "name": "stderr",
     "output_type": "stream",
     "text": [
      "100%|██████████| 25/25 [00:00<00:00, 70.62it/s]"
     ]
    },
    {
     "name": "stdout",
     "output_type": "stream",
     "text": [
      "0.33796868085861204\n",
      "\n",
      "\n"
     ]
    },
    {
     "name": "stderr",
     "output_type": "stream",
     "text": [
      "\n"
     ]
    }
   ],
   "source": [
    "def full_eval(dataset, batch_size=1024 * 4):\n",
    "    model.eval()\n",
    "    with torch.no_grad():\n",
    "        losses = []\n",
    "        for i in (pbar := tqdm(range(0, 100000, batch_size))):\n",
    "            features, labels = dataset[i : i + batch_size]\n",
    "            features = features.to(device)\n",
    "            labels = labels.to(device)\n",
    "            logits, loss = model(features, labels)\n",
    "            losses.append(loss.item())\n",
    "        print(np.mean(losses))\n",
    "\n",
    "full_eval(train_dataset)\n",
    "full_eval(val_dataset)\n",
    "\n",
    "print(\"\\n\")"
   ]
  },
  {
   "cell_type": "code",
   "execution_count": 49,
   "metadata": {},
   "outputs": [
    {
     "name": "stdout",
     "output_type": "stream",
     "text": [
      "word reperplex................\n",
      "masked_word _________................ []\n",
      "letter_guesses [('e', '10.99%'), ('a', '9.59%'), ('i', '8.96%'), ('o', '7.48%'), ('t', '7.23%'), ('n', '6.86%'), ('r', '6.35%'), ('l', '5.91%'), ('s', '5.85%'), ('c', '4.31%')]\n",
      "masked_word _e_e___e_................ ['e']\n",
      "letter_guesses [('r', '16.34%'), ('d', '13.10%'), ('t', '12.21%'), ('n', '6.70%'), ('l', '6.32%'), ('i', '5.65%'), ('a', '5.04%'), ('s', '4.57%'), ('m', '4.01%'), ('h', '3.80%')]\n",
      "masked_word re_er__e_................ ['e', 'r']\n",
      "letter_guesses [('t', '17.09%'), ('d', '15.57%'), ('v', '8.17%'), ('a', '7.42%'), ('l', '6.77%'), ('s', '6.66%'), ('n', '5.53%'), ('i', '5.33%'), ('p', '4.95%'), ('o', '4.13%')]\n",
      "masked_word re_er_le_................ ['e', 'r', 't', 'd', 'v', 'a', 'l']\n",
      "letter_guesses [('p', '16.64%'), ('s', '7.76%'), ('c', '4.51%'), ('b', '4.29%'), ('f', '2.98%'), ('m', '2.70%')]\n",
      "masked_word reperple_................ ['e', 'r', 't', 'd', 'v', 'a', 'l', 'p']\n",
      "letter_guesses [('x', '46.85%'), ('s', '3.38%'), ('y', '1.64%'), ('w', '1.43%'), ('n', '0.57%'), ('g', '0.50%'), ('k', '0.45%')]\n",
      "masked_word reperplex................ ['e', 'r', 't', 'd', 'v', 'a', 'l', 'p', 'x']\n",
      "224377\n",
      "20000000\n",
      "In sample\n"
     ]
    },
    {
     "name": "stderr",
     "output_type": "stream",
     "text": [
      "Win rate: 60.40%: 100%|██████████| 3000/3000 [00:33<00:00, 90.00it/s] \n"
     ]
    },
    {
     "name": "stdout",
     "output_type": "stream",
     "text": [
      "Out of sample\n"
     ]
    },
    {
     "name": "stderr",
     "output_type": "stream",
     "text": [
      "Win rate: 61.43%: 100%|██████████| 3000/3000 [00:31<00:00, 94.61it/s] \n"
     ]
    }
   ],
   "source": [
    "# inference:\n",
    "\n",
    "\n",
    "def predict(model, word, max_guesses=6, verbose=False):\n",
    "    if verbose:\n",
    "        print(\"word\", word)\n",
    "    guesses = []\n",
    "    model.eval()\n",
    "    # model.to(device)\n",
    "    with torch.no_grad():\n",
    "        while True:\n",
    "            # print(guesses)\n",
    "            masked_word = \"\".join(\n",
    "                [\"_\" if char != \".\" and char not in guesses else char for char in word]\n",
    "            )\n",
    "            if verbose:\n",
    "                print(\"masked_word\", masked_word, guesses)\n",
    "            if masked_word == word:\n",
    "                break\n",
    "            if len([g for g in guesses if g not in word]) >= max_guesses:\n",
    "                break\n",
    "\n",
    "            integerized_word = [stoi[c] for c in masked_word]\n",
    "            features = torch.tensor([integerized_word])\n",
    "            features = features.to(device)\n",
    "            logits, _ = model(features)\n",
    "            probs = torch.softmax(logits[0], dim=-1)\n",
    "\n",
    "            mask_indices = [i for i, c in enumerate(masked_word) if c == \"_\"]\n",
    "            ensemble_probs = torch.mean(probs[mask_indices], dim=0)\n",
    "            topk_probs, topk_indices = torch.topk(ensemble_probs, k=10, dim=-1)\n",
    "            letter_guesses = [\n",
    "                (itos[i.item()], f\"{p.item() * 100:.2f}%\")\n",
    "                for i, p in zip(topk_indices, topk_probs)\n",
    "            ]\n",
    "            letter_guesses = [\n",
    "                (letter_guess, prob)\n",
    "                for letter_guess, prob in letter_guesses\n",
    "                if letter_guess not in guesses and letter_guess not in [\".\", \"_\"]\n",
    "            ]\n",
    "            # letter_guesses.sort(key=lambda x: x[1], reverse=True)\n",
    "            if verbose:\n",
    "                print(\"letter_guesses\", letter_guesses)\n",
    "            for letter_guess, _ in letter_guesses:\n",
    "                guesses.append(letter_guess)\n",
    "                if (\n",
    "                    letter_guess in word\n",
    "                    or len([g for g in guesses if g not in word]) == max_guesses\n",
    "                ):\n",
    "                    break\n",
    "    return masked_word, guesses\n",
    "\n",
    "\n",
    "predict(model, truncated_words[0], max_guesses=6, verbose=True)\n",
    "print(len(truncated_words))\n",
    "\n",
    "\n",
    "def compute_winrate(words: list[str]):\n",
    "    wins = 0\n",
    "    total = 0\n",
    "    for word in (pbar := tqdm(words)):\n",
    "        masked_word, guesses = predict(model, word, max_guesses=6, verbose=False)\n",
    "        if masked_word == word:\n",
    "            wins += 1\n",
    "        total += 1\n",
    "        pbar.set_description(f\"Win rate: {wins / total * 100:.2f}%\")\n",
    "\n",
    "\n",
    "print(TRAIN_NUM_EXAMPLES)\n",
    "print(\"In sample\")\n",
    "compute_winrate(truncated_words[:3000])\n",
    "print(\"Out of sample\")\n",
    "compute_winrate(truncated_words[-VAL_NUM_WORDS:])"
   ]
  }
 ],
 "metadata": {
  "kernelspec": {
   "display_name": ".venv",
   "language": "python",
   "name": "python3"
  },
  "language_info": {
   "codemirror_mode": {
    "name": "ipython",
    "version": 3
   },
   "file_extension": ".py",
   "mimetype": "text/x-python",
   "name": "python",
   "nbconvert_exporter": "python",
   "pygments_lexer": "ipython3",
   "version": "3.12.11"
  }
 },
 "nbformat": 4,
 "nbformat_minor": 2
}
