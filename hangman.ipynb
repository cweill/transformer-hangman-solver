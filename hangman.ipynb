{
 "cells": [
  {
   "cell_type": "code",
   "execution_count": 1,
   "metadata": {},
   "outputs": [],
   "source": [
    "%load_ext autoreload\n",
    "%autoreload 2\n"
   ]
  },
  {
   "cell_type": "code",
   "execution_count": 2,
   "metadata": {},
   "outputs": [],
   "source": [
    "import os\n",
    "import torch\n",
    "import numpy as np\n",
    "import matplotlib.pyplot as plt\n",
    "from tqdm import tqdm\n",
    "from torch.utils.data import Dataset\n",
    "import random\n",
    "import pickle\n",
    "import inspect\n",
    "\n",
    "%matplotlib inline"
   ]
  },
  {
   "cell_type": "code",
   "execution_count": 3,
   "metadata": {},
   "outputs": [],
   "source": [
    "TRAIN_NUM_EXAMPLES = 20_000_000\n",
    "TRAIN_NUM_WORDS = 200_000\n",
    "VAL_NUM_WORDS = 3_000\n",
    "LOAD_DATA_FROM_CACHE = True  # Set to False to recompute the data and save to disk\n",
    "\n",
    "current_dir = os.getcwd()\n",
    "train_dataset_path = f\"{current_dir}/train_dataset.pkl\"\n",
    "val_dataset_path = f\"{current_dir}/val_dataset.pkl\""
   ]
  },
  {
   "cell_type": "code",
   "execution_count": 4,
   "metadata": {},
   "outputs": [
    {
     "name": "stdout",
     "output_type": "stream",
     "text": [
      "224377\n"
     ]
    }
   ],
   "source": [
    "# load the data in training_dictionary.txt\n",
    "with open(f\"{current_dir}/training_dictionary.txt\", \"r\") as file:\n",
    "    all_words = file.read().splitlines()\n",
    "print(len(all_words))"
   ]
  },
  {
   "cell_type": "code",
   "execution_count": 5,
   "metadata": {},
   "outputs": [
    {
     "name": "stderr",
     "output_type": "stream",
     "text": [
      "100%|██████████| 224377/224377 [00:00<00:00, 4743139.84it/s]"
     ]
    },
    {
     "name": "stdout",
     "output_type": "stream",
     "text": [
      "count    224377.000000\n",
      "mean          9.591540\n",
      "std           2.916634\n",
      "min           1.000000\n",
      "25%           8.000000\n",
      "50%           9.000000\n",
      "75%          11.000000\n",
      "max          24.000000\n",
      "Name: word_length, dtype: float64\n"
     ]
    },
    {
     "name": "stderr",
     "output_type": "stream",
     "text": [
      "\n"
     ]
    },
    {
     "data": {
      "text/plain": [
       "array([[<Axes: title={'center': 'word_length'}>]], dtype=object)"
      ]
     },
     "execution_count": 5,
     "metadata": {},
     "output_type": "execute_result"
    },
    {
     "data": {
      "image/png": "[encoded data removed]",
      "text/plain": [
       "<Figure size 640x480 with 1 Axes>"
      ]
     },
     "metadata": {},
     "output_type": "display_data"
    }
   ],
   "source": [
    "import pandas as pd\n",
    "\n",
    "df = pd.DataFrame(\n",
    "    {\n",
    "        \"word_length\": [len(word) for word in tqdm(all_words)],\n",
    "    }\n",
    ")\n",
    "\n",
    "print(df[\"word_length\"].describe())\n",
    "\n",
    "df.hist(column=\"word_length\", bins=df[\"word_length\"].max())"
   ]
  },
  {
   "cell_type": "code",
   "execution_count": 6,
   "metadata": {},
   "outputs": [],
   "source": [
    "max_length = 25\n",
    "\n",
    "words = [word for word in all_words if len(word) <= max_length]"
   ]
  },
  {
   "cell_type": "code",
   "execution_count": 7,
   "metadata": {},
   "outputs": [
    {
     "name": "stdout",
     "output_type": "stream",
     "text": [
      "224377\n"
     ]
    },
    {
     "data": {
      "text/plain": [
       "['reperplex',\n",
       " 'dice',\n",
       " 'hemibenthic',\n",
       " 'plumatellid',\n",
       " 'delatinize',\n",
       " 'mermithization',\n",
       " 'rixatrix',\n",
       " 'preassurance',\n",
       " 'desensitize',\n",
       " 'mele']"
      ]
     },
     "execution_count": 7,
     "metadata": {},
     "output_type": "execute_result"
    }
   ],
   "source": [
    "import random\n",
    "\n",
    "print(len(words))\n",
    "random.seed(42)\n",
    "random.shuffle(words)\n",
    "words[:10]"
   ]
  },
  {
   "cell_type": "code",
   "execution_count": 8,
   "metadata": {},
   "outputs": [
    {
     "data": {
      "text/plain": [
       "2152121"
      ]
     },
     "execution_count": 8,
     "metadata": {},
     "output_type": "execute_result"
    }
   ],
   "source": [
    "len(\"\".join(words))"
   ]
  },
  {
   "cell_type": "code",
   "execution_count": 9,
   "metadata": {},
   "outputs": [
    {
     "name": "stdout",
     "output_type": "stream",
     "text": [
      "tetraiodophenolphthalein 24\n"
     ]
    }
   ],
   "source": [
    "longest_word = max(words, key=len)\n",
    "print(longest_word, len(longest_word))"
   ]
  },
  {
   "cell_type": "code",
   "execution_count": 10,
   "metadata": {},
   "outputs": [
    {
     "name": "stdout",
     "output_type": "stream",
     "text": [
      "29\n",
      "{'.': 0, '_': 1, '-': 2, 'a': 3, 'b': 4, 'c': 5, 'd': 6, 'e': 7, 'f': 8, 'g': 9, 'h': 10, 'i': 11, 'j': 12, 'k': 13, 'l': 14, 'm': 15, 'n': 16, 'o': 17, 'p': 18, 'q': 19, 'r': 20, 's': 21, 't': 22, 'u': 23, 'v': 24, 'w': 25, 'x': 26, 'y': 27, 'z': 28}\n",
      "{0: '.', 1: '_', 2: '-', 3: 'a', 4: 'b', 5: 'c', 6: 'd', 7: 'e', 8: 'f', 9: 'g', 10: 'h', 11: 'i', 12: 'j', 13: 'k', 14: 'l', 15: 'm', 16: 'n', 17: 'o', 18: 'p', 19: 'q', 20: 'r', 21: 's', 22: 't', 23: 'u', 24: 'v', 25: 'w', 26: 'x', 27: 'y', 28: 'z'}\n"
     ]
    }
   ],
   "source": [
    "vocab = set(\"\".join(words))\n",
    "vocab = [\".\", \"_\"] + sorted(list(vocab))\n",
    "vocab_size = len(vocab)\n",
    "print(vocab_size)\n",
    "stoi = {char: i for i, char in enumerate(vocab)}\n",
    "itos = {i: char for char, i in stoi.items()}\n",
    "print(stoi)\n",
    "print(itos)"
   ]
  },
  {
   "cell_type": "code",
   "execution_count": 11,
   "metadata": {},
   "outputs": [],
   "source": [
    "# create a dataset where each character is masked with an underscore\n",
    "block_size = max_length"
   ]
  },
  {
   "cell_type": "code",
   "execution_count": 12,
   "metadata": {},
   "outputs": [
    {
     "name": "stdout",
     "output_type": "stream",
     "text": [
      "224377\n"
     ]
    },
    {
     "data": {
      "text/plain": [
       "['reperplex................',\n",
       " 'dice.....................',\n",
       " 'hemibenthic..............',\n",
       " 'plumatellid..............',\n",
       " 'delatinize...............',\n",
       " 'mermithization...........',\n",
       " 'rixatrix.................',\n",
       " 'preassurance.............',\n",
       " 'desensitize..............',\n",
       " 'mele.....................',\n",
       " 'codfisher................',\n",
       " 'metrorrhagia.............',\n",
       " 'dispiece.................',\n",
       " 'malagigi.................',\n",
       " 'undetractingly...........',\n",
       " 'vanillal.................',\n",
       " 'dowery...................',\n",
       " 'blepharal................',\n",
       " 'osnappar.................',\n",
       " 'phoronic.................',\n",
       " 'behold...................',\n",
       " 'brigand..................',\n",
       " 'lots.....................',\n",
       " 'thingamabob..............',\n",
       " 'aureation................',\n",
       " 'phosphene................',\n",
       " 'kolach...................',\n",
       " 'raja.....................',\n",
       " 'rhipiphorid..............',\n",
       " 'unagitatedly.............']"
      ]
     },
     "execution_count": 12,
     "metadata": {},
     "output_type": "execute_result"
    }
   ],
   "source": [
    "dataset = []\n",
    "# Truncate word to block_size or fill them with '.' if it's too short. Use '_' for the single masked character. There must only be one '_' per word.\n",
    "truncated_words = []\n",
    "for word in words:\n",
    "    # Pad shorter words with '.' to match block_size\n",
    "    if len(word) < block_size:\n",
    "        word = word + \".\" * (block_size - len(word))\n",
    "\n",
    "    # Use sliding window to generate subwords\n",
    "    for i in range(len(word) - block_size + 1):\n",
    "        subword = word[i : i + block_size]\n",
    "        truncated_words.append(subword)\n",
    "\n",
    "print(len(truncated_words))\n",
    "truncated_words[:30]"
   ]
  },
  {
   "cell_type": "code",
   "execution_count": 13,
   "metadata": {},
   "outputs": [
    {
     "name": "stdout",
     "output_type": "stream",
     "text": [
      "[('_pp', 'app'), ('a__', 'app'), ('___', 'app')]\n",
      "[('_pp.', 'app.'), ('a__.', 'app.'), ('___.', 'app.')]\n",
      "[('xy_', 'xyz'), ('x_z', 'xyz'), ('x__', 'xyz'), ('_yz', 'xyz'), ('_y_', 'xyz'), ('__z', 'xyz'), ('___', 'xyz')]\n",
      "[('xy_..', 'xyz..'), ('x_z..', 'xyz..'), ('x__..', 'xyz..'), ('_yz..', 'xyz..'), ('_y_..', 'xyz..'), ('__z..', 'xyz..'), ('___..', 'xyz..')]\n"
     ]
    }
   ],
   "source": [
    "def masked_words(word: str):\n",
    "    if not word:\n",
    "        return []\n",
    "\n",
    "    result = []\n",
    "\n",
    "    # Get unique characters in the word\n",
    "    unique_chars = list(set(word) - {\".\"})\n",
    "\n",
    "    # Generate all possible combinations of which characters to mask\n",
    "    # For n unique characters, we have 2^n possibilities\n",
    "    for i in range(1, 2 ** len(unique_chars)):  # Start from 1 to exclude no masks\n",
    "        chars_to_mask = set()\n",
    "\n",
    "        # Determine which characters to mask based on bit pattern\n",
    "        for j in range(len(unique_chars)):\n",
    "            if i & (1 << j):\n",
    "                chars_to_mask.add(unique_chars[j])\n",
    "\n",
    "        # Create the masked string\n",
    "        masked = \"\"\n",
    "        for char in word:\n",
    "            if char in chars_to_mask:\n",
    "                masked += \"_\"\n",
    "            else:\n",
    "                masked += char\n",
    "\n",
    "        # Create a tuple for each masked character type\n",
    "        # for char in chars_to_mask:\n",
    "        result.append((masked, word))\n",
    "\n",
    "    return result\n",
    "\n",
    "\n",
    "print(masked_words(\"app\"))\n",
    "print(masked_words(\"app.\"))\n",
    "print(masked_words(\"xyz\"))\n",
    "print(masked_words(\"xyz..\"))"
   ]
  },
  {
   "cell_type": "code",
   "execution_count": 14,
   "metadata": {},
   "outputs": [
    {
     "name": "stdout",
     "output_type": "stream",
     "text": [
      "CPU times: user 9 μs, sys: 0 ns, total: 9 μs\n",
      "Wall time: 12.6 μs\n"
     ]
    }
   ],
   "source": [
    "%%time\n",
    "\n",
    "def gen_dataset(truncated_words: list[str]):\n",
    "    dataset = []\n",
    "    for word in truncated_words:\n",
    "        dataset.extend(masked_words(word))\n",
    "    return dataset\n",
    "\n",
    "\n",
    "# dataset = list(set(dataset))\n",
    "\n",
    "if not LOAD_DATA_FROM_CACHE:\n",
    "    # print the first 10 elements of the dataset\n",
    "    train_dataset = gen_dataset(truncated_words[:TRAIN_NUM_WORDS])\n",
    "    print(len(train_dataset))\n",
    "    print(train_dataset[:10])\n",
    "\n",
    "    val_dataset = gen_dataset(truncated_words[-VAL_NUM_WORDS:])\n",
    "    print(len(val_dataset))\n",
    "    print(val_dataset[:10])"
   ]
  },
  {
   "cell_type": "code",
   "execution_count": 15,
   "metadata": {},
   "outputs": [
    {
     "name": "stdout",
     "output_type": "stream",
     "text": [
      "CPU times: user 16 μs, sys: 11 μs, total: 27 μs\n",
      "Wall time: 30.5 μs\n"
     ]
    }
   ],
   "source": [
    "%%time\n",
    "\n",
    "random.seed(42)\n",
    "if not LOAD_DATA_FROM_CACHE:\n",
    "  random.shuffle(train_dataset)\n",
    "  train_dataset = train_dataset[:TRAIN_NUM_EXAMPLES]"
   ]
  },
  {
   "cell_type": "code",
   "execution_count": 16,
   "metadata": {},
   "outputs": [
    {
     "name": "stdout",
     "output_type": "stream",
     "text": [
      "CPU times: user 6 μs, sys: 4 μs, total: 10 μs\n",
      "Wall time: 14.3 μs\n"
     ]
    }
   ],
   "source": [
    "%%time\n",
    "# convert the words to a list of ints\n",
    "def integerize_dataset(dataset: list[tuple[str, str]]):\n",
    "    integerized_dataset = []\n",
    "    for word, label in dataset:\n",
    "        integerized_dataset.append(\n",
    "            ([stoi[char] for char in word], [stoi[char] for char in label])\n",
    "        )\n",
    "    return integerized_dataset\n",
    "\n",
    "if not LOAD_DATA_FROM_CACHE:\n",
    "    train_integerized_dataset = integerize_dataset(train_dataset)\n",
    "    print(train_integerized_dataset[0])\n",
    "\n",
    "    val_integerized_dataset = integerize_dataset(val_dataset)\n",
    "    print(val_integerized_dataset[0])"
   ]
  },
  {
   "cell_type": "code",
   "execution_count": 17,
   "metadata": {},
   "outputs": [
    {
     "name": "stdout",
     "output_type": "stream",
     "text": [
      "CPU times: user 6 μs, sys: 0 ns, total: 6 μs\n",
      "Wall time: 10.5 μs\n"
     ]
    }
   ],
   "source": [
    "%%time\n",
    "\n",
    "if not LOAD_DATA_FROM_CACHE:\n",
    "  random.shuffle(train_integerized_dataset)\n",
    "  random.shuffle(val_integerized_dataset)"
   ]
  },
  {
   "cell_type": "code",
   "execution_count": 18,
   "metadata": {},
   "outputs": [
    {
     "name": "stdout",
     "output_type": "stream",
     "text": [
      "Loading train dataset from /home/ubuntu/transformer-hangman-solver/train_dataset.pkl\n",
      "Loading val dataset from /home/ubuntu/transformer-hangman-solver/val_dataset.pkl\n",
      "CPU times: user 24.4 s, sys: 7.67 s, total: 32 s\n",
      "Wall time: 30.7 s\n"
     ]
    }
   ],
   "source": [
    "%%time\n",
    "if LOAD_DATA_FROM_CACHE:\n",
    "    print(f\"Loading train dataset from {train_dataset_path}\")\n",
    "    with open(train_dataset_path, \"rb\") as f:\n",
    "        train_integerized_dataset = pickle.load(f)\n",
    "\n",
    "    print(f\"Loading val dataset from {val_dataset_path}\")\n",
    "    with open(val_dataset_path, \"rb\") as f:\n",
    "        val_integerized_dataset = pickle.load(f)\n",
    "else:\n",
    "    print(f\"Saving train dataset to {train_dataset_path}\")\n",
    "    with open(train_dataset_path, \"wb\") as f:\n",
    "        pickle.dump(train_integerized_dataset, f)\n",
    "\n",
    "    print(f\"Saving val dataset to {val_dataset_path}\")\n",
    "    with open(val_dataset_path, \"wb\") as f:\n",
    "        pickle.dump(val_integerized_dataset, f)"
   ]
  },
  {
   "cell_type": "code",
   "execution_count": 19,
   "metadata": {},
   "outputs": [
    {
     "name": "stdout",
     "output_type": "stream",
     "text": [
      "20000000\n",
      "1406556\n",
      "CPU times: user 1min 18s, sys: 2.68 s, total: 1min 21s\n",
      "Wall time: 1min 21s\n"
     ]
    }
   ],
   "source": [
    "%%time\n",
    "# create a pytorch dataset of word and label pairs\n",
    "\n",
    "class HangmanDataset(Dataset):\n",
    "    def __init__(self, words):\n",
    "        self.features = torch.tensor([x[0] for x in words])\n",
    "        self.labels = torch.tensor([x[1] for x in words])\n",
    "\n",
    "    def __len__(self):\n",
    "        return len(self.features)\n",
    "\n",
    "    def __getitem__(self, idx):\n",
    "        return self.features[idx], self.labels[idx]\n",
    "\n",
    "\n",
    "train_dataset = HangmanDataset(train_integerized_dataset)\n",
    "val_dataset = HangmanDataset(val_integerized_dataset)\n",
    "\n",
    "print(len(train_dataset))\n",
    "print(len(val_dataset))"
   ]
  },
  {
   "cell_type": "code",
   "execution_count": 39,
   "metadata": {},
   "outputs": [],
   "source": [
    "from dataclasses import dataclass\n",
    "import torch\n",
    "import torch.nn as nn\n",
    "import torch.optim as optim\n",
    "import torch.nn.functional as F\n",
    "import math\n",
    "from tqdm import tqdm\n",
    "import time\n",
    "\n",
    "\n",
    "@dataclass\n",
    "class GPTConfig:\n",
    "    block_size: int = 1024  # Max sequence length\n",
    "    vocab_size: int = (\n",
    "        50257  # number of tokens: 50,000 BPE merges + 256 bytes tokens + 1 <|endoftext|> token\n",
    "    )\n",
    "    n_layer: int = 12  # number of layers\n",
    "    n_head: int = 12  # number of attention heads\n",
    "    n_embd: int = 768  # embedding dimension\n",
    "\n",
    "\n",
    "class CausalSelfAttention(nn.Module):\n",
    "    def __init__(self, config: GPTConfig):\n",
    "        super().__init__()\n",
    "        assert config.n_embd % config.n_head == 0\n",
    "\n",
    "        # key, query, value projections for all heads, but in a batch\n",
    "        self.c_attn = nn.Linear(config.n_embd, 3 * config.n_embd)\n",
    "        # output projection\n",
    "        self.c_proj = nn.Linear(config.n_embd, config.n_embd)\n",
    "        self.c_proj.NANOGPT_SCALE_INIT = 1\n",
    "\n",
    "        # regularization\n",
    "        self.n_head = config.n_head\n",
    "        self.n_embd = config.n_embd\n",
    "\n",
    "        # not really a 'bias', more of a mask, but following the OpenAI/HF naming though\n",
    "        self.register_buffer(\n",
    "            \"bias\",\n",
    "            torch.tril(torch.ones(config.block_size, config.block_size)).view(\n",
    "                1, 1, config.block_size, config.block_size\n",
    "            ),\n",
    "        )\n",
    "\n",
    "    def forward(self, x):\n",
    "        B, T, C = x.size()\n",
    "\n",
    "        # calculate query, key, values for all heads in batch and move head forward to be the batch dim\n",
    "        # nh is \"number of heads\", hs is \"head size\", and C (number of channels) is the embedding dimension\n",
    "        qkv = self.c_attn(x)\n",
    "        q, k, v = qkv.split(self.n_embd, dim=2)\n",
    "        k = k.view(B, T, self.n_head, C // self.n_head).transpose(\n",
    "            1, 2\n",
    "        )  # (B, nh, T, hs)\n",
    "        q = q.view(B, T, self.n_head, C // self.n_head).transpose(\n",
    "            1, 2\n",
    "        )  # (B, nh, T, hs)\n",
    "        v = v.view(B, T, self.n_head, C // self.n_head).transpose(\n",
    "            1, 2\n",
    "        )  # (B, nh, T, hs)\n",
    "\n",
    "        # causal self-attention; Self-attend: (B, nh, T, hs) x (B, nh, hs, T) -> (B, nh, T, T)\n",
    "        # att = (q @ k.transpose(-2, -1)) * (1 / math.sqrt(k.size(-1)))\n",
    "        # att = att.masked_fill(self.bias[:, :, :T, :T] == 0, float(\"-inf\"))\n",
    "        # att = F.softmax(att, dim=-1)\n",
    "        # y = att @ v  # (B, nh, T, T) x (B, nh, T, hs) -> (B, nh, T, hs)\n",
    "\n",
    "        y = F.scaled_dot_product_attention(q, k, v, is_causal=False)\n",
    "\n",
    "        y = (\n",
    "            y.transpose(1, 2).contiguous().view(B, T, C)\n",
    "        )  # re-assemble all head outputs side by side\n",
    "\n",
    "        # output projection\n",
    "        y = self.c_proj(y)\n",
    "        return y\n",
    "\n",
    "\n",
    "class ReLUSquared(nn.ReLU):\n",
    "    def forward(self, x):\n",
    "        return super().forward(x) ** 2\n",
    "\n",
    "\n",
    "class MLP(nn.Module):\n",
    "    def __init__(self, config: GPTConfig):\n",
    "        super().__init__()\n",
    "        self.c_fc = nn.Linear(config.n_embd, 4 * config.n_embd)\n",
    "        # self.gelu = nn.GELU(approximate=\"tanh\")\n",
    "        self.relu_sq = ReLUSquared()\n",
    "        self.c_proj = nn.Linear(4 * config.n_embd, config.n_embd)\n",
    "        self.c_proj.NANOGPT_SCALE_INIT = 1\n",
    "\n",
    "    def forward(self, x):\n",
    "        x = self.c_fc(x)\n",
    "        # x = self.gelu(x)\n",
    "        x = self.relu_sq(x)\n",
    "        x = self.c_proj(x)\n",
    "        return x\n",
    "\n",
    "\n",
    "class Block(nn.Module):\n",
    "    def __init__(self, config: GPTConfig):\n",
    "        super().__init__()\n",
    "        self.ln_1 = nn.LayerNorm(config.n_embd)\n",
    "        self.attn = CausalSelfAttention(config)\n",
    "        # self.attn = MultiHeadLatentAttention(config)\n",
    "        self.ln_2 = nn.LayerNorm(config.n_embd)\n",
    "        self.mlp = MLP(config)\n",
    "\n",
    "    def forward(self, x):\n",
    "        x = x + self.attn(self.ln_1(x))\n",
    "        x = x + self.mlp(self.ln_2(x))\n",
    "        return x\n",
    "\n",
    "\n",
    "class GPT(nn.Module):\n",
    "\n",
    "    def __init__(self, config: GPTConfig):\n",
    "        super().__init__()\n",
    "        self.config = config\n",
    "\n",
    "        self.transformer = nn.ModuleDict(\n",
    "            dict(\n",
    "                wte=nn.Embedding(config.vocab_size, config.n_embd),\n",
    "                wpe=nn.Embedding(config.block_size, config.n_embd),\n",
    "                h=nn.ModuleList([Block(config) for _ in range(config.n_layer)]),\n",
    "                ln_f=nn.LayerNorm(config.n_embd),\n",
    "            )\n",
    "        )\n",
    "        self.lm_head = nn.Linear(config.n_embd, config.vocab_size, bias=False)\n",
    "\n",
    "        # weight sharing scheme\n",
    "        self.transformer.wte.weight = self.lm_head.weight\n",
    "\n",
    "        # init params\n",
    "        self.apply(self._init_weights)\n",
    "\n",
    "    def _init_weights(self, module):\n",
    "        if isinstance(module, nn.Linear):\n",
    "            std = 0.02  # roughly equivalent to 1/sqrt(d_model)\n",
    "            if hasattr(module, \"NANOGPT_SCALE_INIT\"):\n",
    "                std *= (2 * self.config.n_layer) ** -0.05\n",
    "            torch.nn.init.normal_(\n",
    "                module.weight,\n",
    "                mean=0.0,\n",
    "                std=std,\n",
    "            )\n",
    "            if module.bias is not None:\n",
    "                torch.nn.init.zeros_(module.bias)\n",
    "        elif isinstance(module, nn.Embedding):\n",
    "            torch.nn.init.normal_(\n",
    "                module.weight,\n",
    "                mean=0.0,\n",
    "                std=0.02,  # roughly equivalent to 1/sqrt(d_model)\n",
    "            )\n",
    "\n",
    "    def forward(self, idx, targets=None):\n",
    "        # idx and targets are both (B, T) tensor of integers token indices\n",
    "        B, T = idx.size()\n",
    "        assert (\n",
    "            T <= self.config.block_size\n",
    "        ), f\"Cannot forward sequence of length {T}, block size is only {self.config.block_size}\"\n",
    "\n",
    "        pos = torch.arange(0, T, dtype=torch.long, device=idx.device)\n",
    "        pos_emb = self.transformer.wpe(pos)  # position embeddings of shape (T, n_embed)\n",
    "        tok_emb = self.transformer.wte(idx)  # token embeddings of shape (B, T, n_embed)\n",
    "        x = tok_emb + pos_emb\n",
    "        # forward the blocks of the transformer\n",
    "        for block in self.transformer.h:\n",
    "            x = block(x)\n",
    "        # forward the final layer norm and the classifier\n",
    "        x = self.transformer.ln_f(x)  # (B, T, n_embed)\n",
    "        logits = self.lm_head(x)  # (B, T, vocab_size)\n",
    "\n",
    "        letter_indices = idx != stoi[\".\"]\n",
    "\n",
    "        loss = None\n",
    "        if targets is not None:\n",
    "            loss = F.cross_entropy(\n",
    "                logits[letter_indices].view(-1, logits[letter_indices].size(-1)),\n",
    "                targets[letter_indices].view(-1),\n",
    "            )\n",
    "        return logits, loss\n",
    "\n",
    "    def configure_optimizers(self, weight_decay, learning_rate, device_type):\n",
    "        # start with all of the candidate parameters (that require grad)\n",
    "        param_dict = {pn: p for pn, p in self.named_parameters()}\n",
    "        param_dict = {pn: p for pn, p in param_dict.items() if p.requires_grad}\n",
    "        # create optim groups. Any parameter that is 2D will be weight decayed, otherwise no.\n",
    "        # i.e. all weight tensors in matmuls + embeddings decay, all biases and layernorms don't.\n",
    "        decay_params = [p for p in param_dict.values() if p.dim() >= 2]\n",
    "        nodecay_params = [p for p in param_dict.values() if p.dim() < 2]\n",
    "        optim_groups = [\n",
    "            {\"params\": decay_params, \"weight_decay\": weight_decay},\n",
    "            {\"params\": nodecay_params, \"weight_decay\": 0.0},\n",
    "        ]\n",
    "        num_decay_params = sum(p.numel() for p in decay_params)\n",
    "        num_nodecay_params = sum(p.numel() for p in nodecay_params)\n",
    "        print(\n",
    "            f\"num decayed parameter tensors: {len(decay_params)}, with {num_decay_params:,} parameters\"\n",
    "        )\n",
    "        print(\n",
    "            f\"num non-decayed parameter tensors: {len(nodecay_params)}, with {num_nodecay_params:,} parameters\"\n",
    "        )\n",
    "        # Create AdamW optimizer and use the fused version if it is available and on an CUDA device\n",
    "        fused_available = \"fused\" in inspect.signature(torch.optim.AdamW).parameters\n",
    "        use_fused = fused_available and device_type == \"cuda\"\n",
    "        print(f\"using fused AdamW: {use_fused}\")\n",
    "        optimizer = torch.optim.AdamW(\n",
    "            optim_groups, lr=learning_rate, fused=use_fused, betas=(0.9, 0.95), eps=1e-8\n",
    "        )\n",
    "        return optimizer"
   ]
  },
  {
   "cell_type": "code",
   "execution_count": 41,
   "metadata": {},
   "outputs": [
    {
     "name": "stdout",
     "output_type": "stream",
     "text": [
      "Using device: cuda\n",
      "Number of parameters: 25,285,632\n",
      "num decayed parameter tensors: 34, with 25,231,360 parameters\n",
      "num non-decayed parameter tensors: 66, with 54,272 parameters\n",
      "using fused AdamW: True\n"
     ]
    },
    {
     "name": "stderr",
     "output_type": "stream",
     "text": [
      "  0%|          | 0/4883 [00:00<?, ?it/s]/home/ubuntu/transformer-hangman-solver/.venv/lib/python3.12/site-packages/torch/_dynamo/variables/functions.py:1263: UserWarning: Dynamo does not know how to trace the builtin `<unknown module>.Tensor.view.` This function is either a Python builtin (e.g. _warnings.warn) or a third-party C/C++ Python extension (perhaps created with pybind).\n",
      "If it is a Python builtin, please file an issue on GitHub so the PyTorch team can add support for it and see the next case for a workaround.\n",
      "If it is a third-party C/C++ Python extension, please either wrap it into a PyTorch-understood custom operator (see https://pytorch.org/tutorials/advanced/custom_ops_landing_page.html for more details) or, if it is traceable, use `torch.compiler.allow_in_graph`.\n",
      "  torch._dynamo.utils.warn_once(explanation + \"\\n\" + \"\\n\".join(hints))\n",
      "Epoch 1/1 | Step    7 | Train Loss: 2.8850 | Val Loss: 3.3468 | Val Acc: 0.0919 | LR: 4.2000e-04 | Norm: 2.9115 | 135.75ms/batch | 754330.15 tok/s:   0%|          | 7/4883 [00:27<1:37:02,  1.19s/it]  W0706 23:31:58.049000 47611 torch/_dynamo/convert_frame.py:964] [10/8] torch._dynamo hit config.recompile_limit (8)\n",
      "W0706 23:31:58.049000 47611 torch/_dynamo/convert_frame.py:964] [10/8]    function: 'torch_dynamo_resume_in_forward_at_180' (/tmp/ipykernel_47611/535937909.py:180)\n",
      "W0706 23:31:58.049000 47611 torch/_dynamo/convert_frame.py:964] [10/8]    last reason: 10/0: Cache line invalidated because L['___stack1'] got deallocated\n",
      "W0706 23:31:58.049000 47611 torch/_dynamo/convert_frame.py:964] [10/8] To log all recompilation reasons, use TORCH_LOGS=\"recompiles\".\n",
      "W0706 23:31:58.049000 47611 torch/_dynamo/convert_frame.py:964] [10/8] To diagnose recompilation issues, see https://pytorch.org/docs/main/torch.compiler_troubleshooting.html.\n",
      "Epoch 1/1 | Step 4883 | Train Loss: 0.3176 | Val Loss: 0.5853 | Val Acc: 0.6711 | LR: 6.0000e-05 | Norm: 0.2453 | 7879.91ms/batch | 12995.07 tok/s: 100%|██████████| 4883/4883 [11:26<00:00,  7.11it/s]\n"
     ]
    }
   ],
   "source": [
    "import deepseek.model as deepseek_model\n",
    "from deepseek.model import Transformer as DeepSeekTransformer\n",
    "\n",
    "# Create a transformer model for the hangman game\n",
    "\n",
    "d_model = 512\n",
    "nhead = 8\n",
    "num_layers = 8\n",
    "\n",
    "batch_size = 4096\n",
    "num_epochs = 1\n",
    "\n",
    "max_lr = 6e-4\n",
    "min_lr = max_lr * 0.1\n",
    "warmup_steps = 10\n",
    "max_steps = len(train_dataset) // batch_size * num_epochs\n",
    "\n",
    "device = (\n",
    "    \"cuda\"\n",
    "    if torch.cuda.is_available()\n",
    "    else (\"mps\" if torch.backends.mps.is_available() else \"cpu\")\n",
    ")\n",
    "\n",
    "print(\"Using device:\", device)\n",
    "\n",
    "torch.set_float32_matmul_precision(\"high\")\n",
    "\n",
    "opt_vocab_size = 64  # vocab_size\n",
    "opt_block_size = 64  # block_size\n",
    "\n",
    "# create a GPT model\n",
    "\n",
    "model = GPT(\n",
    "    GPTConfig(\n",
    "        block_size=opt_block_size,\n",
    "        vocab_size=opt_vocab_size,\n",
    "        n_layer=num_layers,\n",
    "        n_head=nhead,\n",
    "        n_embd=d_model,\n",
    "    )\n",
    ")\n",
    "# model_args = deepseek_model.ModelArgs(\n",
    "#     max_batch_size=batch_size,\n",
    "#     max_seq_len=64,\n",
    "#     dtype=\"fp8\",\n",
    "#     vocab_size=64,\n",
    "#     dim=d_model,\n",
    "#     inter_dim=d_model * 2,\n",
    "#     moe_inter_dim=d_model,\n",
    "#     n_layers=4,\n",
    "#     n_heads=nhead,\n",
    "#     original_seq_len=block_size,\n",
    "#     n_routed_experts=2,\n",
    "#     n_shared_experts=2,\n",
    "#     n_activated_experts=2,\n",
    "#     padding_token_id=stoi[\".\"],\n",
    "# )\n",
    "# model = DeepSeekTransformer(model_args)\n",
    "print(\"Number of parameters:\", f\"{sum(p.numel() for p in model.parameters()):,}\")\n",
    "\n",
    "model.to(device)\n",
    "model = torch.compile(model)\n",
    "# create a loss function\n",
    "criterion = nn.CrossEntropyLoss()\n",
    "\n",
    "# create an optimizer\n",
    "# optimizer = optim.AdamW(model.parameters(), lr=3e-4, betas=(0.9, 0.95), eps=1e-8, weight_decay=0.0, fused=True)\n",
    "optimizer = model.configure_optimizers(\n",
    "    weight_decay=0.1, learning_rate=6e-4, device_type=device\n",
    ")\n",
    "\n",
    "# train the model\n",
    "\n",
    "\n",
    "def get_lr(it):\n",
    "    # 1) linear warmup for warmup_steps\n",
    "    if it < warmup_steps:\n",
    "        return max_lr * (it + 1) / warmup_steps\n",
    "    # 2) if it > lr_decay_steps, return min_lr\n",
    "    if it > max_steps:\n",
    "        return min_lr\n",
    "    # 3) in between, use cosine decay down to min_lr\n",
    "    decay_ratio = (it - warmup_steps) / (max_steps - warmup_steps)\n",
    "    assert 0 <= decay_ratio <= 1\n",
    "    coeff = 0.5 * (\n",
    "        1.0 + math.cos(math.pi * decay_ratio)\n",
    "    )  # coeff starts at 1 and goes to 0\n",
    "    return min_lr + coeff * (max_lr - min_lr)\n",
    "\n",
    "\n",
    "lossi = []\n",
    "val_lossi = []\n",
    "val_acci = []\n",
    "val_step = []\n",
    "\n",
    "val_features, val_labels = val_dataset[:batch_size]\n",
    "val_features = val_features.to(device)\n",
    "val_labels = val_labels.to(device)\n",
    "step = 0\n",
    "for epoch in range(num_epochs):\n",
    "    for i in (pbar := tqdm(range(0, len(train_dataset), batch_size))):\n",
    "        t0 = time.time()\n",
    "        # idx = torch.randint(0, len(train_dataset), (batch_size,))\n",
    "        features, labels = train_dataset[i : i + batch_size]\n",
    "        features = features.to(device)\n",
    "        labels = labels.to(device)\n",
    "        # Zero the gradients\n",
    "        optimizer.zero_grad()\n",
    "\n",
    "        # Forward pass\n",
    "        with torch.autocast(device_type=device, dtype=torch.bfloat16):\n",
    "            # print(\"inputs\", features.shape, labels.shape)\n",
    "            logits, loss = model(features, labels)\n",
    "\n",
    "        # Backward pass\n",
    "        loss.backward()\n",
    "\n",
    "        norm = torch.nn.utils.clip_grad_norm_(model.parameters(), 1.0)\n",
    "\n",
    "        # detemine the learning rate for this step\n",
    "        lr = get_lr(step)\n",
    "        for param_group in optimizer.param_groups:\n",
    "            param_group[\"lr\"] = lr\n",
    "\n",
    "        # Update weights\n",
    "        optimizer.step()\n",
    "        torch.cuda.synchronize()\n",
    "\n",
    "        t1 = time.time()\n",
    "        dt = (t1 - t0) * 1000  # ms\n",
    "        lossi.append(loss.item())\n",
    "\n",
    "        if step % 20 == 0:\n",
    "            model.eval()\n",
    "            with torch.no_grad():\n",
    "                val_step.append(step)\n",
    "                val_logits, val_loss = model(val_features, val_labels)\n",
    "                val_lossi.append(val_loss.item())\n",
    "                # calculate the accuracy of predicting the correct hidden letters\n",
    "                hidden_letter_indices = val_features == stoi[\"_\"]\n",
    "                val_preds = torch.argmax(torch.softmax(val_logits, dim=-1), dim=-1)\n",
    "                val_acc = (\n",
    "                    (\n",
    "                        val_preds[hidden_letter_indices]\n",
    "                        == val_labels[hidden_letter_indices]\n",
    "                    )\n",
    "                    .float()\n",
    "                    .mean()\n",
    "                )\n",
    "                val_acci.append(val_acc.item())\n",
    "            model.train()\n",
    "\n",
    "        tokens_per_second = (batch_size * block_size) / (t1 - t0)\n",
    "        step += 1\n",
    "        pbar.set_description(\n",
    "            f\"Epoch {epoch+1}/{num_epochs} | Step {step:4d} | Train Loss: {loss.item():.4f} | Val Loss: {val_loss.item():.4f} | Val Acc: {val_acc:.4f} | LR: {lr:.4e} | Norm: {norm:.4f} | {dt:.2f}ms/batch | {tokens_per_second:.2f} tok/s\"\n",
    "        )\n",
    "        # if step >= 2:\n",
    "        #     break"
   ]
  },
  {
   "cell_type": "code",
   "execution_count": 42,
   "metadata": {},
   "outputs": [],
   "source": [
    "model_path = f\"{current_dir}/model.pth\"\n",
    "torch.save(model.state_dict(), model_path)"
   ]
  },
  {
   "cell_type": "code",
   "execution_count": 43,
   "metadata": {},
   "outputs": [],
   "source": [
    "# # clear gpu mem\n",
    "# model.clear_caches()\n",
    "# del model\n",
    "# import gc\n",
    "\n",
    "# gc.collect()\n",
    "# torch.cuda.empty_cache()"
   ]
  },
  {
   "cell_type": "code",
   "execution_count": 46,
   "metadata": {},
   "outputs": [
    {
     "data": {
      "image/png": "[encoded data removed]",
      "text/plain": [
       "<Figure size 640x480 with 1 Axes>"
      ]
     },
     "metadata": {},
     "output_type": "display_data"
    }
   ],
   "source": [
    "plt.plot(val_acci)\n",
    "plt.plot(val_acci, color=\"orange\")\n",
    "plt.ylim(0.4, 0.7)\n",
    "# show horizontal line every 0.01\n",
    "for i in range(40, 70, 1):\n",
    "    plt.axhline(i / 100, color=\"lightgray\", linestyle=\"-\")\n",
    "plt.show()"
   ]
  },
  {
   "cell_type": "code",
   "execution_count": 47,
   "metadata": {},
   "outputs": [
    {
     "data": {
      "image/png": "[encoded data removed]",
      "text/plain": [
       "<Figure size 640x480 with 1 Axes>"
      ]
     },
     "metadata": {},
     "output_type": "display_data"
    }
   ],
   "source": [
    "plt.plot(lossi)\n",
    "plt.plot(val_step, val_lossi)\n",
    "plt.legend([\"Train Loss\", \"Val Loss\"])\n",
    "plt.ylim(0.2, 0.7)\n",
    "plt.show()"
   ]
  },
  {
   "cell_type": "code",
   "execution_count": 48,
   "metadata": {},
   "outputs": [
    {
     "name": "stderr",
     "output_type": "stream",
     "text": [
      "  0%|          | 0/25 [00:00<?, ?it/s]"
     ]
    },
    {
     "name": "stderr",
     "output_type": "stream",
     "text": [
      "100%|██████████| 25/25 [00:01<00:00, 19.04it/s]\n"
     ]
    },
    {
     "name": "stdout",
     "output_type": "stream",
     "text": [
      "0.3187391710281372\n"
     ]
    },
    {
     "name": "stderr",
     "output_type": "stream",
     "text": [
      "100%|██████████| 25/25 [00:01<00:00, 18.93it/s]"
     ]
    },
    {
     "name": "stdout",
     "output_type": "stream",
     "text": [
      "0.5792014694213867\n",
      "\n",
      "\n"
     ]
    },
    {
     "name": "stderr",
     "output_type": "stream",
     "text": [
      "\n"
     ]
    }
   ],
   "source": [
    "def full_eval(dataset, batch_size=1024 * 4):\n",
    "    model.eval()\n",
    "    with torch.no_grad():\n",
    "        losses = []\n",
    "        for i in (pbar := tqdm(range(0, 100000, batch_size))):\n",
    "            features, labels = dataset[i : i + batch_size]\n",
    "            features = features.to(device)\n",
    "            labels = labels.to(device)\n",
    "            logits, loss = model(features, labels)\n",
    "            losses.append(loss.item())\n",
    "        print(np.mean(losses))\n",
    "\n",
    "\n",
    "full_eval(train_dataset)\n",
    "full_eval(val_dataset)\n",
    "\n",
    "print(\"\\n\")"
   ]
  },
  {
   "cell_type": "code",
   "execution_count": 53,
   "metadata": {},
   "outputs": [
    {
     "name": "stdout",
     "output_type": "stream",
     "text": [
      "yellowware | 6 incorrect guesses allowed\n",
      "__________ | correct guesses: [] ; incorrect guesses: []\n",
      "Next guess probabilities: 'e': 10.93%, 'i': 8.93%, 'a': 8.32%, 'o': 7.97%, 'r': 7.34%, 'n': 6.80%, 't': 6.69%, 's': 6.46%, 'l': 5.63%, 'c': 4.38%, 'u': 3.84%, 'p': 3.34%, 'm': 3.24%, 'd': 3.05%, 'h': 2.96%, 'y': 2.19%, 'g': 2.05%, 'b': 1.72%, 'f': 1.02%, 'v': 0.77%, 'k': 0.66%, 'w': 0.62%, 'z': 0.47%, 'x': 0.32%, 'q': 0.19%, 'j': 0.11%, '-': 0.00% \n",
      "\n",
      "_e_______e | correct guesses: ['e'] ; incorrect guesses: []\n",
      "Next guess probabilities: 'i': 11.56%, 'r': 9.66%, 't': 9.16%, 'a': 8.98%, 'l': 7.35%, 'o': 6.57%, 'n': 6.04%, 's': 5.38%, 'd': 4.86%, 'c': 4.14%, 'm': 4.13%, 'p': 3.98%, 'b': 3.07%, 'u': 2.97%, 'h': 2.69%, 'g': 2.05%, 'v': 1.95%, 'z': 1.88%, 'f': 1.07%, 'y': 0.72%, 'k': 0.71%, 'w': 0.41%, 'x': 0.33%, 'q': 0.16%, 'j': 0.14%, '-': 0.00% \n",
      "\n",
      "_e______re | correct guesses: ['e', 'r'] ; incorrect guesses: ['i']\n",
      "Next guess probabilities: 'o': 12.26%, 's': 8.26%, 't': 8.13%, 'p': 8.05%, 'u': 7.27%, 'h': 6.64%, 'l': 6.15%, 'm': 5.72%, 'a': 5.38%, 'n': 5.32%, 'c': 4.81%, 'd': 4.17%, 'g': 2.02%, 'v': 1.38%, 'b': 1.13%, 'f': 1.11%, 'y': 1.07%, 'x': 1.02%, 'z': 0.24%, 'w': 0.19%, 'q': 0.14%, 'k': 0.12%, 'j': 0.12%, '-': 0.00% \n",
      "\n",
      "_e__o___re | correct guesses: ['e', 'r', 'o'] ; incorrect guesses: ['i']\n",
      "Next guess probabilities: 'n': 9.62%, 'p': 9.55%, 'h': 9.35%, 'l': 8.77%, 's': 7.89%, 't': 7.51%, 'a': 7.27%, 'm': 4.59%, 'c': 3.91%, 'd': 3.90%, 'y': 3.51%, 'u': 3.44%, 'g': 1.65%, 'b': 1.57%, 'f': 0.82%, 'v': 0.69%, 'x': 0.47%, 'w': 0.47%, 'z': 0.32%, 'k': 0.15%, 'j': 0.08%, 'q': 0.04%, '-': 0.00% \n",
      "\n",
      "_ello___re | correct guesses: ['e', 'r', 'o', 'l'] ; incorrect guesses: ['i', 'n', 'p', 'h']\n",
      "Next guess probabilities: 'w': 21.23%, 'y': 14.50%, 'a': 10.05%, 's': 8.69%, 't': 3.47%, 'f': 2.72%, 'c': 2.67%, 'm': 2.24%, 'b': 1.73%, 'u': 1.38%, 'k': 0.66%, 'g': 0.60%, 'd': 0.27%, 'v': 0.21%, 'j': 0.06%, 'z': 0.06%, 'x': 0.01%, 'q': 0.00%, '-': 0.00% \n",
      "\n",
      "_elloww_re | correct guesses: ['e', 'r', 'o', 'l', 'w'] ; incorrect guesses: ['i', 'n', 'p', 'h']\n",
      "Next guess probabilities: 'a': 47.96%, 'y': 42.48%, 'f': 5.73%, 'b': 1.02%, 'm': 0.22%, 's': 0.13%, 'g': 0.11%, 't': 0.04%, 'c': 0.03%, 'v': 0.01%, 'j': 0.01%, 'k': 0.01%, 'd': 0.01%, 'u': 0.00%, 'z': 0.00%, 'x': 0.00%, 'q': 0.00%, '-': 0.00% \n",
      "\n",
      "_ellowware | correct guesses: ['e', 'r', 'o', 'l', 'w', 'a'] ; incorrect guesses: ['i', 'n', 'p', 'h']\n",
      "Next guess probabilities: 'y': 87.01%, 'f': 8.84%, 'b': 2.97%, 'm': 0.25%, 's': 0.23%, 'g': 0.13%, 'c': 0.11%, 't': 0.04%, 'v': 0.02%, 'j': 0.02%, 'd': 0.01%, 'k': 0.00%, 'z': 0.00%, 'u': 0.00%, 'x': 0.00%, 'q': 0.00%, '-': 0.00% \n",
      "\n",
      "yellowware | correct guesses: ['e', 'r', 'o', 'l', 'w', 'a', 'y'] ; incorrect guesses: ['i', 'n', 'p', 'h']\n",
      "SUCCESS!\n",
      "\n",
      "\n",
      "====================================================================================================\n",
      "Computing win rates:\n",
      "In sample\n"
     ]
    },
    {
     "name": "stderr",
     "output_type": "stream",
     "text": [
      "Win rate: 72.53%: 100%|██████████| 3000/3000 [00:56<00:00, 53.24it/s]\n"
     ]
    },
    {
     "name": "stdout",
     "output_type": "stream",
     "text": [
      "Out of sample\n"
     ]
    },
    {
     "name": "stderr",
     "output_type": "stream",
     "text": [
      "Win rate: 68.97%: 100%|██████████| 3000/3000 [00:54<00:00, 54.98it/s]\n"
     ]
    }
   ],
   "source": [
    "# inference:\n",
    "\n",
    "\n",
    "def predict(model, word, max_guesses=6, verbose=False):\n",
    "    if verbose:\n",
    "        print(\n",
    "            f\"{''.join(c for c in word if c != '.')} | {max_guesses} incorrect guesses allowed\"\n",
    "        )\n",
    "    guesses = []\n",
    "    model.eval()\n",
    "    # model.to(device)\n",
    "    i = 0\n",
    "    with torch.no_grad():\n",
    "        while True:\n",
    "            i += 1\n",
    "            # print(guesses)\n",
    "            masked_word = \"\".join(\n",
    "                [\"_\" if char != \".\" and char not in guesses else char for char in word]\n",
    "            )\n",
    "            if verbose:\n",
    "                print(\n",
    "                    f\"{''.join(c for c in masked_word if c != '.')} | correct guesses: {[c for c in guesses if c in word]} ; incorrect guesses: {[c for c in guesses if c not in word]}\"\n",
    "                )\n",
    "            if masked_word == word:\n",
    "                break\n",
    "            if len([g for g in guesses if g not in word]) >= max_guesses:\n",
    "                break\n",
    "\n",
    "            integerized_word = [stoi[c] for c in masked_word]\n",
    "            features = torch.tensor([integerized_word])\n",
    "            features = features.to(device)\n",
    "            logits, _ = model(features)\n",
    "            probs = torch.softmax(logits[0], dim=-1)\n",
    "\n",
    "            mask_indices = [i for i, c in enumerate(masked_word) if c == \"_\"]\n",
    "            ensemble_probs = torch.mean(probs[mask_indices], dim=0)\n",
    "            topk_probs, topk_indices = torch.topk(\n",
    "                ensemble_probs, k=opt_vocab_size, dim=-1\n",
    "            )\n",
    "            letter_guesses = [\n",
    "                (itos[int(idx.item())], f\"{p.item() * 100:.2f}%\")\n",
    "                for idx, p in zip(topk_indices, topk_probs)\n",
    "                if int(idx.item()) in itos\n",
    "            ]\n",
    "            letter_guesses = [\n",
    "                (letter_guess, prob)\n",
    "                for letter_guess, prob in letter_guesses\n",
    "                if letter_guess not in guesses and letter_guess not in [\".\", \"_\"]\n",
    "            ]\n",
    "            # print(sum([p.item() for p in topk_probs]))\n",
    "            # letter_guesses.sort(key=lambda x: x[1], reverse=True)\n",
    "            if verbose:\n",
    "                print(\n",
    "                    \"Next guess probabilities:\",\n",
    "                    \", \".join(\n",
    "                        [\n",
    "                            f\"'{letter_guess}': {prob}\"\n",
    "                            for letter_guess, prob in letter_guesses\n",
    "                        ]\n",
    "                    ),\n",
    "                    \"\\n\",\n",
    "                )\n",
    "            for letter_guess, _ in letter_guesses:\n",
    "                guesses.append(letter_guess)\n",
    "                if (\n",
    "                    letter_guess in word\n",
    "                    or len([g for g in guesses if g not in word]) == max_guesses\n",
    "                ):\n",
    "                    break\n",
    "\n",
    "    if verbose:\n",
    "        if masked_word == word:\n",
    "            print(\"SUCCESS!\")\n",
    "        else:\n",
    "            print(\"FAILED!\")\n",
    "    return masked_word, guesses\n",
    "\n",
    "\n",
    "predict(model, truncated_words[-VAL_NUM_WORDS * 2], max_guesses=6, verbose=True)\n",
    "\n",
    "\n",
    "def compute_winrate(words: list[str]):\n",
    "    wins = 0\n",
    "    total = 0\n",
    "    for word in (pbar := tqdm(words)):\n",
    "        masked_word, guesses = predict(model, word, max_guesses=6, verbose=False)\n",
    "        if masked_word == word:\n",
    "            wins += 1\n",
    "        total += 1\n",
    "        pbar.set_description(f\"Win rate: {wins / total * 100:.2f}%\")\n",
    "\n",
    "\n",
    "print(\"\\n\")\n",
    "print(\"=\" * 100)\n",
    "print(\"Computing win rates:\")\n",
    "print(\"In sample\")\n",
    "compute_winrate(truncated_words[:3000])\n",
    "print(\"Out of sample\")\n",
    "compute_winrate(truncated_words[-VAL_NUM_WORDS * 2 : -VAL_NUM_WORDS])"
   ]
  }
 ],
 "metadata": {
  "kernelspec": {
   "display_name": ".venv",
   "language": "python",
   "name": "python3"
  },
  "language_info": {
   "codemirror_mode": {
    "name": "ipython",
    "version": 3
   },
   "file_extension": ".py",
   "mimetype": "text/x-python",
   "name": "python",
   "nbconvert_exporter": "python",
   "pygments_lexer": "ipython3",
   "version": "3.12.11"
  }
 },
 "nbformat": 4,
 "nbformat_minor": 2
}
