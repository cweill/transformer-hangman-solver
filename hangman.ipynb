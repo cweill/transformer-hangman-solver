{
 "cells": [
  {
   "cell_type": "code",
   "execution_count": 87,
   "metadata": {},
   "outputs": [],
   "source": [
    "import torch\n",
    "import numpy as np\n",
    "import matplotlib.pyplot as plt\n",
    "%matplotlib inline"
   ]
  },
  {
   "cell_type": "code",
   "execution_count": 2,
   "metadata": {},
   "outputs": [],
   "source": [
    "# load the data in training_dictionary.txt\n",
    "with open(\"training_dictionary.txt\", \"r\") as file:\n",
    "    words = file.read().splitlines()"
   ]
  },
  {
   "cell_type": "code",
   "execution_count": 6,
   "metadata": {},
   "outputs": [
    {
     "name": "stdout",
     "output_type": "stream",
     "text": [
      "117188\n"
     ]
    },
    {
     "data": {
      "text/plain": [
       "['intermammary',\n",
       " 'suprarationalism',\n",
       " 'overdeliberation',\n",
       " 'colliquativeness',\n",
       " 'stemona',\n",
       " 'uricaemic',\n",
       " 'epitrichial',\n",
       " 'poniard',\n",
       " 'undye',\n",
       " 'unscathedly']"
      ]
     },
     "execution_count": 6,
     "metadata": {},
     "output_type": "execute_result"
    }
   ],
   "source": [
    "print(len(words))\n",
    "words[:10]"
   ]
  },
  {
   "cell_type": "code",
   "execution_count": 7,
   "metadata": {},
   "outputs": [
    {
     "data": {
      "text/plain": [
       "1123780"
      ]
     },
     "execution_count": 7,
     "metadata": {},
     "output_type": "execute_result"
    }
   ],
   "source": [
    "len(\"\".join(words))"
   ]
  },
  {
   "cell_type": "code",
   "execution_count": 38,
   "metadata": {},
   "outputs": [
    {
     "name": "stdout",
     "output_type": "stream",
     "text": [
      "thyroparathyroidectomize 24\n"
     ]
    }
   ],
   "source": [
    "longest_word = max(words, key=len)\n",
    "print(longest_word, len(longest_word))"
   ]
  },
  {
   "cell_type": "code",
   "execution_count": 43,
   "metadata": {},
   "outputs": [
    {
     "name": "stdout",
     "output_type": "stream",
     "text": [
      "29\n",
      "{'.': 0, '_': 1, '-': 2, 'a': 3, 'b': 4, 'c': 5, 'd': 6, 'e': 7, 'f': 8, 'g': 9, 'h': 10, 'i': 11, 'j': 12, 'k': 13, 'l': 14, 'm': 15, 'n': 16, 'o': 17, 'p': 18, 'q': 19, 'r': 20, 's': 21, 't': 22, 'u': 23, 'v': 24, 'w': 25, 'x': 26, 'y': 27, 'z': 28}\n",
      "{0: '.', 1: '_', 2: '-', 3: 'a', 4: 'b', 5: 'c', 6: 'd', 7: 'e', 8: 'f', 9: 'g', 10: 'h', 11: 'i', 12: 'j', 13: 'k', 14: 'l', 15: 'm', 16: 'n', 17: 'o', 18: 'p', 19: 'q', 20: 'r', 21: 's', 22: 't', 23: 'u', 24: 'v', 25: 'w', 26: 'x', 27: 'y', 28: 'z'}\n"
     ]
    }
   ],
   "source": [
    "vocab = set(\"\".join(words))\n",
    "vocab = [\".\", \"_\"] + list(vocab)\n",
    "vocab_size = len(vocab)\n",
    "print(vocab_size)\n",
    "stoi = {char: i for i, char in enumerate(vocab)}\n",
    "itos = {i: char for char, i in stoi.items()}\n",
    "print(stoi)\n",
    "print(itos)"
   ]
  },
  {
   "cell_type": "code",
   "execution_count": 54,
   "metadata": {},
   "outputs": [
    {
     "name": "stdout",
     "output_type": "stream",
     "text": [
      "361605\n"
     ]
    },
    {
     "data": {
      "text/plain": [
       "['intermam',\n",
       " 'ntermamm',\n",
       " 'termamma',\n",
       " 'ermammar',\n",
       " 'rmammary',\n",
       " 'suprarat',\n",
       " 'uprarati',\n",
       " 'praratio',\n",
       " 'raration',\n",
       " 'arationa',\n",
       " 'rational',\n",
       " 'ationali',\n",
       " 'tionalis',\n",
       " 'ionalism',\n",
       " 'overdeli',\n",
       " 'verdelib',\n",
       " 'erdelibe',\n",
       " 'rdeliber',\n",
       " 'delibera',\n",
       " 'eliberat',\n",
       " 'liberati',\n",
       " 'iberatio',\n",
       " 'beration',\n",
       " 'colliqua',\n",
       " 'olliquat',\n",
       " 'lliquati',\n",
       " 'liquativ',\n",
       " 'iquative',\n",
       " 'quativen',\n",
       " 'uativene',\n",
       " 'ativenes',\n",
       " 'tiveness',\n",
       " 'stemona.',\n",
       " 'uricaemi',\n",
       " 'ricaemic',\n",
       " 'epitrich',\n",
       " 'pitrichi',\n",
       " 'itrichia',\n",
       " 'trichial',\n",
       " 'poniard.',\n",
       " 'undye...',\n",
       " 'unscathe',\n",
       " 'nscathed',\n",
       " 'scathedl',\n",
       " 'cathedly',\n",
       " 'calcaneo',\n",
       " 'alcaneof',\n",
       " 'lcaneofi',\n",
       " 'caneofib',\n",
       " 'aneofibu',\n",
       " 'neofibul',\n",
       " 'eofibula',\n",
       " 'ofibular',\n",
       " 'realiena',\n",
       " 'ealienat',\n",
       " 'alienate',\n",
       " 'hypoid..',\n",
       " 'constabu',\n",
       " 'onstabul',\n",
       " 'nstabula',\n",
       " 'stabular',\n",
       " 'tabulary',\n",
       " 'retrorec',\n",
       " 'etrorece',\n",
       " 'trorecep',\n",
       " 'rorecept',\n",
       " 'orecepti',\n",
       " 'receptio',\n",
       " 'eception',\n",
       " 'kraal...',\n",
       " 'chemurgi',\n",
       " 'hemurgic',\n",
       " 'petrophi',\n",
       " 'etrophil',\n",
       " 'trophilo',\n",
       " 'rophilou',\n",
       " 'ophilous',\n",
       " 'meroblas',\n",
       " 'eroblast',\n",
       " 'roblasti',\n",
       " 'oblastic',\n",
       " 'blastica',\n",
       " 'lastical',\n",
       " 'asticall',\n",
       " 'stically',\n",
       " 'outdispa',\n",
       " 'utdispat',\n",
       " 'tdispatc',\n",
       " 'dispatch',\n",
       " 'regradat',\n",
       " 'egradati',\n",
       " 'gradatio',\n",
       " 'radation',\n",
       " 'turbodyn',\n",
       " 'urbodyna',\n",
       " 'rbodynam',\n",
       " 'bodynamo',\n",
       " 'spikines',\n",
       " 'pikiness',\n",
       " 'undammed']"
      ]
     },
     "execution_count": 54,
     "metadata": {},
     "output_type": "execute_result"
    }
   ],
   "source": [
    "# create a dataset where each character is masked with an underscore\n",
    "block_size = 8\n",
    "dataset = []\n",
    "# Truncate word to block_size or fill them with '.' if it's too short. Use '_' for the single masked character. There must only be one '_' per word.\n",
    "truncated_words = []\n",
    "for word in words:\n",
    "    # Pad shorter words with '.' to match block_size\n",
    "    if len(word) < block_size:\n",
    "        word = word + \".\" * (block_size - len(word))\n",
    "\n",
    "    # Use sliding window to generate subwords\n",
    "    for i in range(len(word) - block_size + 1):\n",
    "        subword = word[i : i + block_size]\n",
    "        truncated_words.append(subword)\n",
    "\n",
    "print(len(truncated_words))\n",
    "truncated_words[:100]"
   ]
  },
  {
   "cell_type": "code",
   "execution_count": 63,
   "metadata": {},
   "outputs": [
    {
     "name": "stdout",
     "output_type": "stream",
     "text": [
      "[('_ntermam', 'i'), ('i_termam', 'n'), ('in_ermam', 't'), ('int_rmam', 'e'), ('inte_mam', 'r'), ('inter_am', 'm'), ('interm_m', 'a'), ('interma_', 'm'), ('_termamm', 'n'), ('n_ermamm', 't')]\n"
     ]
    }
   ],
   "source": [
    "dataset = []\n",
    "for word in truncated_words:\n",
    "    for i in range(len(word)):\n",
    "        if word[i] == \".\":\n",
    "            continue\n",
    "        dataset.append((word[:i] + \"_\" + word[i + 1 :], word[i]))\n",
    "\n",
    "# print the first 10 elements of the dataset\n",
    "print(dataset[:10])"
   ]
  },
  {
   "cell_type": "code",
   "execution_count": 66,
   "metadata": {},
   "outputs": [
    {
     "name": "stdout",
     "output_type": "stream",
     "text": [
      "[([1, 16, 22, 7, 20, 15, 3, 15], 11)]\n"
     ]
    }
   ],
   "source": [
    "# convert the words to a list of ints\n",
    "integerized_dataset = []\n",
    "for word, label in dataset:\n",
    "    integerized_dataset.append(([stoi[char] for char in word], stoi[label]))\n",
    "\n",
    "print(integerized_dataset[:1])"
   ]
  },
  {
   "cell_type": "code",
   "execution_count": 77,
   "metadata": {},
   "outputs": [
    {
     "name": "stdout",
     "output_type": "stream",
     "text": [
      "(tensor([[16, 17,  1, 10, 27, 16,  5, 10],\n",
      "        [ 4,  7, 14,  1,  3, 20, 11,  3],\n",
      "        [ 5, 11, 24, 11,  5,  3, 14,  1]]), tensor([20, 14, 14]))\n",
      "(tensor([[ 5, 17,  1, 15, 17, 22, 10,  7],\n",
      "        [16, 22,  1, 20, 22,  3, 11, 16],\n",
      "        [21, 18, 20, 11,  1, 13, 14,  7]]), tensor([21,  7, 16]))\n"
     ]
    }
   ],
   "source": [
    "# create a pytorch dataset of word and label pairs\n",
    "from torch.utils.data import Dataset\n",
    "import random\n",
    "\n",
    "\n",
    "class HangmanDataset(Dataset):\n",
    "    def __init__(self, words):\n",
    "        self.features = torch.tensor([x[0] for x in words])\n",
    "        self.labels = torch.tensor([x[1] for x in words])\n",
    "\n",
    "    def __len__(self):\n",
    "        return len(self.features)\n",
    "\n",
    "    def __getitem__(self, idx):\n",
    "        return self.features[idx], self.labels[idx]\n",
    "\n",
    "\n",
    "split_idx = int(len(integerized_dataset) * 0.9)\n",
    "shuffled_integerized_dataset = list(integerized_dataset)\n",
    "random.shuffle(shuffled_integerized_dataset)\n",
    "train_split = shuffled_integerized_dataset[:split_idx]\n",
    "val_split = shuffled_integerized_dataset[split_idx:]\n",
    "\n",
    "train_dataset = HangmanDataset(train_split)\n",
    "val_dataset = HangmanDataset(val_split)\n",
    "\n",
    "print(train_dataset[[0, 1, 2]])\n",
    "print(val_dataset[[0, 1, 2]])"
   ]
  },
  {
   "cell_type": "code",
   "execution_count": 97,
   "metadata": {},
   "outputs": [
    {
     "name": "stdout",
     "output_type": "stream",
     "text": [
      "Epoch 1/10\n"
     ]
    },
    {
     "name": "stderr",
     "output_type": "stream",
     "text": [
      "Loss: 1.6661:   2%|▏         | 49/2492 [00:08<07:11,  5.66it/s]\n"
     ]
    },
    {
     "name": "stdout",
     "output_type": "stream",
     "text": [
      "Epoch 2/10\n"
     ]
    },
    {
     "name": "stderr",
     "output_type": "stream",
     "text": [
      "Loss: 1.3384:   2%|▏         | 49/2492 [00:08<07:02,  5.78it/s]\n"
     ]
    },
    {
     "name": "stdout",
     "output_type": "stream",
     "text": [
      "Epoch 3/10\n"
     ]
    },
    {
     "name": "stderr",
     "output_type": "stream",
     "text": [
      "Loss: 1.1762:   2%|▏         | 49/2492 [00:08<07:04,  5.76it/s]\n"
     ]
    },
    {
     "name": "stdout",
     "output_type": "stream",
     "text": [
      "Epoch 4/10\n"
     ]
    },
    {
     "name": "stderr",
     "output_type": "stream",
     "text": [
      "Loss: 1.0032:   2%|▏         | 49/2492 [00:08<07:20,  5.54it/s]\n"
     ]
    },
    {
     "name": "stdout",
     "output_type": "stream",
     "text": [
      "Epoch 5/10\n"
     ]
    },
    {
     "name": "stderr",
     "output_type": "stream",
     "text": [
      "Loss: 1.0977:   2%|▏         | 49/2492 [00:08<07:07,  5.72it/s]\n"
     ]
    },
    {
     "name": "stdout",
     "output_type": "stream",
     "text": [
      "Epoch 6/10\n"
     ]
    },
    {
     "name": "stderr",
     "output_type": "stream",
     "text": [
      "Loss: 0.8882:   2%|▏         | 49/2492 [00:08<07:09,  5.69it/s]\n"
     ]
    },
    {
     "name": "stdout",
     "output_type": "stream",
     "text": [
      "Epoch 7/10\n"
     ]
    },
    {
     "name": "stderr",
     "output_type": "stream",
     "text": [
      "Loss: 0.7336:   2%|▏         | 49/2492 [00:08<07:15,  5.61it/s]\n"
     ]
    },
    {
     "name": "stdout",
     "output_type": "stream",
     "text": [
      "Epoch 8/10\n"
     ]
    },
    {
     "name": "stderr",
     "output_type": "stream",
     "text": [
      "Loss: 0.7930:   2%|▏         | 49/2492 [00:08<07:24,  5.50it/s]\n"
     ]
    },
    {
     "name": "stdout",
     "output_type": "stream",
     "text": [
      "Epoch 9/10\n"
     ]
    },
    {
     "name": "stderr",
     "output_type": "stream",
     "text": [
      "Loss: 1.1737:   2%|▏         | 49/2492 [00:08<07:19,  5.55it/s]\n"
     ]
    },
    {
     "name": "stdout",
     "output_type": "stream",
     "text": [
      "Epoch 10/10\n"
     ]
    },
    {
     "name": "stderr",
     "output_type": "stream",
     "text": [
      "Loss: 0.5245:   2%|▏         | 49/2492 [00:09<07:36,  5.36it/s]\n"
     ]
    },
    {
     "data": {
      "image/png": "[encoded data removed]",
      "text/plain": [
       "<Figure size 640x480 with 1 Axes>"
      ]
     },
     "metadata": {},
     "output_type": "display_data"
    }
   ],
   "source": [
    "# Create a transformer model for the hangman game\n",
    "\n",
    "import torch\n",
    "import torch.nn as nn\n",
    "import torch.optim as optim\n",
    "import math\n",
    "from tqdm import tqdm\n",
    "\n",
    "d_model = 128\n",
    "nhead = 1\n",
    "num_layers = 1\n",
    "\n",
    "\n",
    "class HangmanTransformer(nn.Module):\n",
    "    def __init__(self, vocab_size, d_model, nhead, num_layers, dropout=0.1):\n",
    "        super(HangmanTransformer, self).__init__()\n",
    "        self.d_model = d_model\n",
    "        self.nhead = nhead\n",
    "        self.num_layers = num_layers\n",
    "        self.dropout = dropout\n",
    "\n",
    "        # Create positional encoding matrix\n",
    "        self.embedding = nn.Embedding(vocab_size, d_model)\n",
    "\n",
    "        # Create positional encoding class\n",
    "        class PositionalEncoding(nn.Module):\n",
    "            def __init__(self, d_model, dropout=0.1, max_len=5000):\n",
    "                super().__init__()\n",
    "                self.dropout = nn.Dropout(p=dropout)\n",
    "\n",
    "                # Create positional encoding matrix\n",
    "                pe = torch.zeros(max_len, d_model)\n",
    "                position = torch.arange(0, max_len, dtype=torch.float).unsqueeze(1)\n",
    "                div_term = torch.exp(\n",
    "                    torch.arange(0, d_model, 2).float() * (-math.log(10000.0) / d_model)\n",
    "                )\n",
    "                pe[:, 0::2] = torch.sin(position * div_term)\n",
    "                pe[:, 1::2] = torch.cos(position * div_term)\n",
    "                pe = pe.unsqueeze(0)\n",
    "                self.register_buffer(\"pe\", pe)\n",
    "\n",
    "            def forward(self, x):\n",
    "                x = x + self.pe[:, : x.size(1)]\n",
    "                return self.dropout(x)\n",
    "\n",
    "        encoder_layer = nn.TransformerEncoderLayer(d_model=d_model, nhead=nhead)\n",
    "        self.pos_encoder = PositionalEncoding(d_model, dropout)\n",
    "        self.transformer_encoder = nn.TransformerEncoder(encoder_layer, num_layers)\n",
    "        self.fc = nn.Linear(d_model, vocab_size)\n",
    "\n",
    "    def forward(self, src):\n",
    "        src = self.embedding(src) * math.sqrt(self.d_model)\n",
    "        src = self.pos_encoder(src)\n",
    "        output = self.transformer_encoder(src)\n",
    "        logits = self.fc(output)\n",
    "        return logits\n",
    "\n",
    "\n",
    "# create a transformer model\n",
    "model = HangmanTransformer(vocab_size, d_model, nhead, num_layers)\n",
    "\n",
    "# create a loss function\n",
    "criterion = nn.CrossEntropyLoss()\n",
    "\n",
    "# create an optimizer\n",
    "optimizer = optim.Adam(model.parameters(), lr=0.001)\n",
    "\n",
    "# train the model\n",
    "batch_size = 1024\n",
    "num_epochs = 10\n",
    "\n",
    "lossi = []\n",
    "\n",
    "for epoch in range(num_epochs):\n",
    "    print(f\"Epoch {epoch+1}/{num_epochs}\")\n",
    "    for i in (pbar := tqdm(range(0, len(train_dataset), batch_size))):\n",
    "        features, labels = train_dataset[i : i + batch_size]\n",
    "        # Zero the gradients\n",
    "        optimizer.zero_grad()\n",
    "\n",
    "        # Forward pass\n",
    "        logits = model(features)\n",
    "\n",
    "        # Calculate loss\n",
    "        loss = criterion(\n",
    "            logits, torch.nn.functional.one_hot(labels, num_classes=vocab_size)\n",
    "        )\n",
    "\n",
    "        # Backward pass\n",
    "        loss.backward()\n",
    "\n",
    "        # Update weights\n",
    "        optimizer.step()\n",
    "        if i % 100 == 0:\n",
    "            pbar.set_description(f\"Loss: {loss.item():.4f}\")\n",
    "        lossi.append(loss.item())\n",
    "        if i > 50000:\n",
    "            break\n",
    "\n",
    "plt.plot(lossi)\n",
    "plt.show()"
   ]
  },
  {
   "cell_type": "code",
   "execution_count": 98,
   "metadata": {},
   "outputs": [
    {
     "name": "stderr",
     "output_type": "stream",
     "text": [
      "  0%|          | 0/277 [00:00<?, ?it/s]"
     ]
    }
   ],
   "source": [
    "model.eval()\n",
    "with torch.no_grad():\n",
    "    for i in (pbar := tqdm(range(0, len(val_dataset), batch_size))):\n",
    "        features, labels = val_dataset[i : i + batch_size]\n",
    "        logits = model(features)\n",
    "        loss = criterion(\n",
    "            logits, torch.nn.functional.one_hot(labels, num_classes=vocab_size)\n",
    "        )\n",
    "    print(loss)"
   ]
  }
 ],
 "metadata": {
  "kernelspec": {
   "display_name": ".venv",
   "language": "python",
   "name": "python3"
  },
  "language_info": {
   "codemirror_mode": {
    "name": "ipython",
    "version": 3
   },
   "file_extension": ".py",
   "mimetype": "text/x-python",
   "name": "python",
   "nbconvert_exporter": "python",
   "pygments_lexer": "ipython3",
   "version": "3.12.10"
  }
 },
 "nbformat": 4,
 "nbformat_minor": 2
}
