{
 "cells": [
  {
   "cell_type": "code",
   "execution_count": 2,
   "metadata": {},
   "outputs": [],
   "source": [
    "import torch\n",
    "import numpy as np\n",
    "import matplotlib.pyplot as plt\n",
    "%matplotlib inline"
   ]
  },
  {
   "cell_type": "code",
   "execution_count": 219,
   "metadata": {},
   "outputs": [],
   "source": [
    "# load the data in training_dictionary.txt\n",
    "with open(\"training_dictionary.txt\", \"r\") as file:\n",
    "    words = file.read().splitlines()"
   ]
  },
  {
   "cell_type": "code",
   "execution_count": 220,
   "metadata": {},
   "outputs": [],
   "source": [
    "# Filter down to words less than 3 characters\n",
    "max_length = 4\n",
    "words = [word for word in words if len(word) == max_length]"
   ]
  },
  {
   "cell_type": "code",
   "execution_count": 221,
   "metadata": {},
   "outputs": [
    {
     "name": "stdout",
     "output_type": "stream",
     "text": [
      "4798\n"
     ]
    },
    {
     "data": {
      "text/plain": [
       "['roit',\n",
       " 'pari',\n",
       " 'zips',\n",
       " 'lena',\n",
       " 'meed',\n",
       " 'tuza',\n",
       " 'ibid',\n",
       " 'erne',\n",
       " 'hupa',\n",
       " 'acme']"
      ]
     },
     "execution_count": 221,
     "metadata": {},
     "output_type": "execute_result"
    }
   ],
   "source": [
    "print(len(words))\n",
    "words[:10]"
   ]
  },
  {
   "cell_type": "code",
   "execution_count": 222,
   "metadata": {},
   "outputs": [
    {
     "data": {
      "text/plain": [
       "19192"
      ]
     },
     "execution_count": 222,
     "metadata": {},
     "output_type": "execute_result"
    }
   ],
   "source": [
    "len(\"\".join(words))"
   ]
  },
  {
   "cell_type": "code",
   "execution_count": 223,
   "metadata": {},
   "outputs": [
    {
     "name": "stdout",
     "output_type": "stream",
     "text": [
      "roit 4\n"
     ]
    }
   ],
   "source": [
    "longest_word = max(words, key=len)\n",
    "print(longest_word, len(longest_word))"
   ]
  },
  {
   "cell_type": "code",
   "execution_count": 224,
   "metadata": {},
   "outputs": [
    {
     "name": "stdout",
     "output_type": "stream",
     "text": [
      "27\n",
      "{'_': 0, 'a': 1, 'b': 2, 'c': 3, 'd': 4, 'e': 5, 'f': 6, 'g': 7, 'h': 8, 'i': 9, 'j': 10, 'k': 11, 'l': 12, 'm': 13, 'n': 14, 'o': 15, 'p': 16, 'q': 17, 'r': 18, 's': 19, 't': 20, 'u': 21, 'v': 22, 'w': 23, 'x': 24, 'y': 25, 'z': 26}\n",
      "{0: '_', 1: 'a', 2: 'b', 3: 'c', 4: 'd', 5: 'e', 6: 'f', 7: 'g', 8: 'h', 9: 'i', 10: 'j', 11: 'k', 12: 'l', 13: 'm', 14: 'n', 15: 'o', 16: 'p', 17: 'q', 18: 'r', 19: 's', 20: 't', 21: 'u', 22: 'v', 23: 'w', 24: 'x', 25: 'y', 26: 'z'}\n"
     ]
    }
   ],
   "source": [
    "vocab = set(\"\".join(words))\n",
    "vocab = [\"_\"] + sorted(list(vocab))\n",
    "vocab_size = len(vocab)\n",
    "print(vocab_size)\n",
    "stoi = {char: i for i, char in enumerate(vocab)}\n",
    "itos = {i: char for char, i in stoi.items()}\n",
    "print(stoi)\n",
    "print(itos)"
   ]
  },
  {
   "cell_type": "code",
   "execution_count": 229,
   "metadata": {},
   "outputs": [
    {
     "name": "stdout",
     "output_type": "stream",
     "text": [
      "4798\n"
     ]
    },
    {
     "data": {
      "text/plain": [
       "['roit',\n",
       " 'pari',\n",
       " 'zips',\n",
       " 'lena',\n",
       " 'meed',\n",
       " 'tuza',\n",
       " 'ibid',\n",
       " 'erne',\n",
       " 'hupa',\n",
       " 'acme']"
      ]
     },
     "execution_count": 229,
     "metadata": {},
     "output_type": "execute_result"
    }
   ],
   "source": [
    "# create a dataset where each character is masked with an underscore\n",
    "block_size = 4\n",
    "dataset = []\n",
    "# Truncate word to block_size or fill them with '.' if it's too short. Use '_' for the single masked character. There must only be one '_' per word.\n",
    "truncated_words = []\n",
    "for word in words:\n",
    "    # Pad shorter words with '.' to match block_size\n",
    "    # if len(word) < block_size:\n",
    "    #     word = word + \".\" * (block_size - len(word))\n",
    "\n",
    "    # Use sliding window to generate subwords\n",
    "    for i in range(len(word) - block_size + 1):\n",
    "        subword = word[i : i + block_size]\n",
    "        truncated_words.append(subword)\n",
    "\n",
    "print(len(truncated_words))\n",
    "truncated_words[:10]"
   ]
  },
  {
   "cell_type": "code",
   "execution_count": 235,
   "metadata": {},
   "outputs": [
    {
     "name": "stdout",
     "output_type": "stream",
     "text": [
      "[('_pp', 'a'), ('a__', 'p'), ('___', 'a'), ('___', 'p')]\n",
      "[('xy_', 'z'), ('x_z', 'y'), ('x__', 'z'), ('x__', 'y'), ('_yz', 'x'), ('_y_', 'z'), ('_y_', 'x'), ('__z', 'y'), ('__z', 'x'), ('___', 'z'), ('___', 'y'), ('___', 'x')]\n"
     ]
    }
   ],
   "source": [
    "def masked_words(word):\n",
    "    if not word:\n",
    "        return []\n",
    "\n",
    "    result = []\n",
    "\n",
    "    # Get unique characters in the word\n",
    "    unique_chars = list(set(word))\n",
    "\n",
    "    # Generate all possible combinations of which characters to mask\n",
    "    # For n unique characters, we have 2^n possibilities\n",
    "    for i in range(1, 2 ** len(unique_chars)):  # Start from 1 to exclude no masks\n",
    "        chars_to_mask = set()\n",
    "\n",
    "        # Determine which characters to mask based on bit pattern\n",
    "        for j in range(len(unique_chars)):\n",
    "            if i & (1 << j):\n",
    "                chars_to_mask.add(unique_chars[j])\n",
    "\n",
    "        # Create the masked string\n",
    "        masked = \"\"\n",
    "        for char in word:\n",
    "            if char in chars_to_mask:\n",
    "                masked += \"_\"\n",
    "            else:\n",
    "                masked += char\n",
    "\n",
    "        # Create a tuple for each masked character type\n",
    "        for char in chars_to_mask:\n",
    "            result.append((masked, char))\n",
    "\n",
    "    return result\n",
    "\n",
    "\n",
    "print(masked_words(\"app\"))\n",
    "print(masked_words(\"xyz\"))"
   ]
  },
  {
   "cell_type": "code",
   "execution_count": 236,
   "metadata": {},
   "outputs": [
    {
     "name": "stdout",
     "output_type": "stream",
     "text": [
      "130720\n",
      "[('r_it', 'o'), ('roi_', 't'), ('r_i_', 'o'), ('r_i_', 't'), ('_oit', 'r'), ('__it', 'o'), ('__it', 'r'), ('_oi_', 't'), ('_oi_', 'r'), ('__i_', 'o')]\n"
     ]
    }
   ],
   "source": [
    "dataset = []\n",
    "for word in truncated_words:\n",
    "    dataset.extend(masked_words(word))\n",
    "\n",
    "# print the first 10 elements of the dataset\n",
    "print(len(dataset))\n",
    "print(dataset[:10])"
   ]
  },
  {
   "cell_type": "code",
   "execution_count": 237,
   "metadata": {},
   "outputs": [
    {
     "name": "stdout",
     "output_type": "stream",
     "text": [
      "([18, 0, 9, 20], 15)\n"
     ]
    }
   ],
   "source": [
    "# convert the words to a list of ints\n",
    "integerized_dataset = []\n",
    "for word, label in dataset:\n",
    "    integerized_dataset.append(([stoi[char] for char in word], stoi[label]))\n",
    "\n",
    "print(integerized_dataset[0])"
   ]
  },
  {
   "cell_type": "code",
   "execution_count": 238,
   "metadata": {},
   "outputs": [
    {
     "name": "stdout",
     "output_type": "stream",
     "text": [
      "130720\n",
      "(tensor([[ 0,  0,  3,  0],\n",
      "        [20,  0,  0,  5],\n",
      "        [ 8,  5,  0, 16]]), tensor([21,  9,  1]))\n",
      "0\n"
     ]
    }
   ],
   "source": [
    "# create a pytorch dataset of word and label pairs\n",
    "from torch.utils.data import Dataset\n",
    "import random\n",
    "\n",
    "\n",
    "class HangmanDataset(Dataset):\n",
    "    def __init__(self, words):\n",
    "        self.features = torch.tensor([x[0] for x in words])\n",
    "        self.labels = torch.tensor([x[1] for x in words])\n",
    "\n",
    "    def __len__(self):\n",
    "        return len(self.features)\n",
    "\n",
    "    def __getitem__(self, idx):\n",
    "        return self.features[idx], self.labels[idx]\n",
    "\n",
    "\n",
    "split_idx = int(len(integerized_dataset) * 1)\n",
    "shuffled_integerized_dataset = list(integerized_dataset)\n",
    "random.shuffle(shuffled_integerized_dataset)\n",
    "train_split = shuffled_integerized_dataset[:split_idx]\n",
    "val_split = shuffled_integerized_dataset[split_idx:]\n",
    "\n",
    "train_dataset = HangmanDataset(train_split)\n",
    "val_dataset = HangmanDataset(val_split)\n",
    "\n",
    "print(len(train_dataset))\n",
    "print(train_dataset[[0, 1, 2]])\n",
    "\n",
    "print(len(val_dataset))"
   ]
  },
  {
   "cell_type": "code",
   "execution_count": 241,
   "metadata": {},
   "outputs": [
    {
     "name": "stdout",
     "output_type": "stream",
     "text": [
      "Epoch 1/3\n"
     ]
    },
    {
     "name": "stderr",
     "output_type": "stream",
     "text": [
      "Loss: 2.8335: 100%|██████████| 256/256 [00:07<00:00, 34.39it/s]\n"
     ]
    },
    {
     "name": "stdout",
     "output_type": "stream",
     "text": [
      "Epoch 2/3\n"
     ]
    },
    {
     "name": "stderr",
     "output_type": "stream",
     "text": [
      "Loss: 2.7601: 100%|██████████| 256/256 [00:05<00:00, 47.04it/s]\n"
     ]
    },
    {
     "name": "stdout",
     "output_type": "stream",
     "text": [
      "Epoch 3/3\n"
     ]
    },
    {
     "name": "stderr",
     "output_type": "stream",
     "text": [
      "Loss: 2.7268: 100%|██████████| 256/256 [00:05<00:00, 47.36it/s]\n"
     ]
    },
    {
     "data": {
      "image/png": "[encoded data removed]",
      "text/plain": [
       "<Figure size 640x480 with 1 Axes>"
      ]
     },
     "metadata": {},
     "output_type": "display_data"
    }
   ],
   "source": [
    "# Create a transformer model for the hangman game\n",
    "\n",
    "import torch\n",
    "import torch.nn as nn\n",
    "import torch.optim as optim\n",
    "import math\n",
    "from tqdm import tqdm\n",
    "\n",
    "d_model = 256\n",
    "nhead = 4\n",
    "num_layers = 2\n",
    "\n",
    "device = \"mps\" if torch.backends.mps.is_available() else \"cpu\"\n",
    "\n",
    "\n",
    "class HangmanTransformer(nn.Module):\n",
    "    def __init__(self, vocab_size, d_model, nhead, num_layers, dropout=0):\n",
    "        super(HangmanTransformer, self).__init__()\n",
    "        self.d_model = d_model\n",
    "        self.nhead = nhead\n",
    "        self.num_layers = num_layers\n",
    "        self.dropout = dropout\n",
    "\n",
    "        # Create positional encoding matrix\n",
    "        self.embedding = nn.Embedding(vocab_size, d_model)\n",
    "\n",
    "        encoder_layer = nn.TransformerEncoderLayer(\n",
    "            d_model=d_model, nhead=nhead, batch_first=True, dropout=dropout\n",
    "        )\n",
    "        self.position_embedding_table = nn.Embedding(block_size, d_model)\n",
    "        self.transformer_encoder = nn.TransformerEncoder(encoder_layer, num_layers)\n",
    "        self.ln_f = nn.LayerNorm(d_model)\n",
    "        self.fc = nn.Linear(d_model, vocab_size)\n",
    "\n",
    "    def forward(self, src):\n",
    "        src = self.embedding(src)\n",
    "        pos_emb = self.position_embedding_table(\n",
    "            torch.arange(block_size).to(device)\n",
    "        )  # (T,C)\n",
    "        src = src + pos_emb\n",
    "        output = self.transformer_encoder(src)\n",
    "        output = self.ln_f(output)\n",
    "        output = torch.mean(output, dim=1)\n",
    "        logits = self.fc(output)\n",
    "        return logits\n",
    "\n",
    "\n",
    "# create a transformer model\n",
    "model = HangmanTransformer(vocab_size, d_model, nhead, num_layers)\n",
    "\n",
    "model.to(device)\n",
    "# create a loss function\n",
    "criterion = nn.CrossEntropyLoss()\n",
    "\n",
    "# create an optimizer\n",
    "optimizer = optim.Adam(model.parameters(), lr=0.001)\n",
    "\n",
    "# train the model\n",
    "batch_size = 512\n",
    "num_epochs = 3\n",
    "\n",
    "lossi = []\n",
    "\n",
    "for epoch in range(num_epochs):\n",
    "    print(f\"Epoch {epoch+1}/{num_epochs}\")\n",
    "    for i in (pbar := tqdm(range(0, len(train_dataset), batch_size))):\n",
    "        idx = torch.randint(0, len(train_dataset), (batch_size,))\n",
    "        features, labels = train_dataset[idx]\n",
    "        features = features.to(device)\n",
    "        labels = labels.to(device)\n",
    "        # Zero the gradients\n",
    "        optimizer.zero_grad()\n",
    "\n",
    "        # Forward pass\n",
    "        logits = model(features)\n",
    "\n",
    "        labels = torch.nn.functional.one_hot(labels, num_classes=vocab_size)\n",
    "\n",
    "        # Calculate loss\n",
    "        loss = criterion(logits, labels.float())\n",
    "\n",
    "        # Backward pass\n",
    "        loss.backward()\n",
    "\n",
    "        # Update weights\n",
    "        optimizer.step()\n",
    "        pbar.set_description(f\"Loss: {loss.item():.4f}\")\n",
    "        lossi.append(loss.item())\n",
    "\n",
    "plt.plot(lossi)\n",
    "plt.show()"
   ]
  },
  {
   "cell_type": "code",
   "execution_count": 243,
   "metadata": {},
   "outputs": [
    {
     "name": "stderr",
     "output_type": "stream",
     "text": [
      "100%|██████████| 256/256 [00:01<00:00, 174.86it/s]"
     ]
    },
    {
     "name": "stdout",
     "output_type": "stream",
     "text": [
      "2.7632444072514772\n"
     ]
    },
    {
     "name": "stderr",
     "output_type": "stream",
     "text": [
      "\n"
     ]
    }
   ],
   "source": [
    "model.eval()\n",
    "with torch.no_grad():\n",
    "    losses = []\n",
    "    for i in (pbar := tqdm(range(0, len(train_dataset), batch_size))):\n",
    "        features, labels = train_dataset[i : i + batch_size]\n",
    "        features = features.to(device)\n",
    "        labels = labels.to(device)\n",
    "        logits = model(features)\n",
    "        loss = criterion(logits, labels)\n",
    "        losses.append(loss.item())\n",
    "    print(np.mean(losses))"
   ]
  },
  {
   "cell_type": "code",
   "execution_count": 248,
   "metadata": {},
   "outputs": [
    {
     "name": "stderr",
     "output_type": "stream",
     "text": [
      "Win rate: 5.36%: 100%|██████████| 4798/4798 [00:59<00:00, 80.75it/s]\n"
     ]
    }
   ],
   "source": [
    "# inference:\n",
    "\n",
    "\n",
    "def predict(model, word, max_guesses=6):\n",
    "    # print(\"word\", word)\n",
    "    guesses = []\n",
    "    model.eval()\n",
    "    with torch.no_grad():\n",
    "        while True:\n",
    "            # print(guesses)\n",
    "            masked_word = \"\".join(\n",
    "                [\"_\" if guess not in guesses else guess for guess in word]\n",
    "            )\n",
    "            # print(\"masked_word\", masked_word, guesses)\n",
    "            if masked_word == word:\n",
    "                break\n",
    "            if len(guesses) >= max_guesses:\n",
    "                break\n",
    "\n",
    "            features = torch.tensor([[stoi[c] for c in masked_word]]).to(device)\n",
    "            # print(\"features\", features)\n",
    "            logits = model.forward(features)\n",
    "            probs = torch.softmax(logits, dim=1)\n",
    "            # print(\"probs\", probs)\n",
    "            indices = torch.topk(probs, k=vocab_size - 1, dim=1).indices\n",
    "            # print(\"indices\", indices)\n",
    "            letter_guesses = [itos[i] for i in indices[0].tolist()]\n",
    "            # print(\"letter_guesses\", letter_guesses)\n",
    "            for letter_guess in letter_guesses:\n",
    "                if letter_guess not in guesses and letter_guess != \"_\":\n",
    "                    guesses.append(letter_guess)\n",
    "                    if letter_guess in word or len(guesses) == max_guesses:\n",
    "                        break\n",
    "    return masked_word, guesses\n",
    "\n",
    "\n",
    "wins = 0\n",
    "total = 0\n",
    "for word in (pbar := tqdm(words)):\n",
    "    masked_word, guesses = predict(model, word)\n",
    "    if masked_word == word:\n",
    "        wins += 1\n",
    "    total += 1\n",
    "    pbar.set_description(f\"Win rate: {wins / total * 100:.2f}%\")"
   ]
  }
 ],
 "metadata": {
  "kernelspec": {
   "display_name": ".venv",
   "language": "python",
   "name": "python3"
  },
  "language_info": {
   "codemirror_mode": {
    "name": "ipython",
    "version": 3
   },
   "file_extension": ".py",
   "mimetype": "text/x-python",
   "name": "python",
   "nbconvert_exporter": "python",
   "pygments_lexer": "ipython3",
   "version": "3.12.10"
  }
 },
 "nbformat": 4,
 "nbformat_minor": 2
}
