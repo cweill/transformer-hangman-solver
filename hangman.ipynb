{
 "cells": [
  {
   "cell_type": "code",
   "execution_count": 1,
   "metadata": {},
   "outputs": [],
   "source": [
    "import torch\n",
    "import numpy as np\n",
    "import matplotlib.pyplot as plt\n",
    "from tqdm import tqdm\n",
    "from numba import njit\n",
    "%matplotlib inline"
   ]
  },
  {
   "cell_type": "code",
   "execution_count": 12,
   "metadata": {},
   "outputs": [
    {
     "name": "stdout",
     "output_type": "stream",
     "text": [
      "224377\n"
     ]
    }
   ],
   "source": [
    "# load the data in training_dictionary.txt\n",
    "with open(\"training_dictionary.txt\", \"r\") as file:\n",
    "    all_words = file.read().splitlines()\n",
    "print(len(all_words))"
   ]
  },
  {
   "cell_type": "code",
   "execution_count": 13,
   "metadata": {},
   "outputs": [
    {
     "name": "stderr",
     "output_type": "stream",
     "text": [
      "100%|██████████| 224377/224377 [00:00<00:00, 4151288.25it/s]"
     ]
    },
    {
     "name": "stdout",
     "output_type": "stream",
     "text": [
      "count    224377.000000\n",
      "mean          9.591540\n",
      "std           2.916634\n",
      "min           1.000000\n",
      "25%           8.000000\n",
      "50%           9.000000\n",
      "75%          11.000000\n",
      "max          24.000000\n",
      "Name: word_length, dtype: float64\n"
     ]
    },
    {
     "name": "stderr",
     "output_type": "stream",
     "text": [
      "\n"
     ]
    },
    {
     "data": {
      "text/plain": [
       "array([[<Axes: title={'center': 'word_length'}>]], dtype=object)"
      ]
     },
     "execution_count": 13,
     "metadata": {},
     "output_type": "execute_result"
    },
    {
     "data": {
      "image/png": "[encoded data removed]",
      "text/plain": [
       "<Figure size 640x480 with 1 Axes>"
      ]
     },
     "metadata": {},
     "output_type": "display_data"
    }
   ],
   "source": [
    "import pandas as pd\n",
    "\n",
    "df = pd.DataFrame(\n",
    "    {\n",
    "        \"word_length\": [len(word) for word in tqdm(all_words)],\n",
    "    }\n",
    ")\n",
    "\n",
    "print(df[\"word_length\"].describe())\n",
    "\n",
    "df.hist(column=\"word_length\", bins=df[\"word_length\"].max())"
   ]
  },
  {
   "cell_type": "code",
   "execution_count": 14,
   "metadata": {},
   "outputs": [],
   "source": [
    "max_length = 25\n",
    "\n",
    "words = [word for word in all_words if len(word) <= max_length]"
   ]
  },
  {
   "cell_type": "code",
   "execution_count": 15,
   "metadata": {},
   "outputs": [
    {
     "name": "stdout",
     "output_type": "stream",
     "text": [
      "224377\n"
     ]
    },
    {
     "data": {
      "text/plain": [
       "['reperplex',\n",
       " 'dice',\n",
       " 'hemibenthic',\n",
       " 'plumatellid',\n",
       " 'delatinize',\n",
       " 'mermithization',\n",
       " 'rixatrix',\n",
       " 'preassurance',\n",
       " 'desensitize',\n",
       " 'mele']"
      ]
     },
     "execution_count": 15,
     "metadata": {},
     "output_type": "execute_result"
    }
   ],
   "source": [
    "import random\n",
    "\n",
    "print(len(words))\n",
    "random.seed(42)\n",
    "random.shuffle(words)\n",
    "words[:10]"
   ]
  },
  {
   "cell_type": "code",
   "execution_count": 16,
   "metadata": {},
   "outputs": [
    {
     "data": {
      "text/plain": [
       "2152121"
      ]
     },
     "execution_count": 16,
     "metadata": {},
     "output_type": "execute_result"
    }
   ],
   "source": [
    "len(\"\".join(words))"
   ]
  },
  {
   "cell_type": "code",
   "execution_count": 17,
   "metadata": {},
   "outputs": [
    {
     "name": "stdout",
     "output_type": "stream",
     "text": [
      "tetraiodophenolphthalein 24\n"
     ]
    }
   ],
   "source": [
    "longest_word = max(words, key=len)\n",
    "print(longest_word, len(longest_word))"
   ]
  },
  {
   "cell_type": "code",
   "execution_count": 18,
   "metadata": {},
   "outputs": [
    {
     "name": "stdout",
     "output_type": "stream",
     "text": [
      "29\n",
      "{'.': 0, '_': 1, '-': 2, 'a': 3, 'b': 4, 'c': 5, 'd': 6, 'e': 7, 'f': 8, 'g': 9, 'h': 10, 'i': 11, 'j': 12, 'k': 13, 'l': 14, 'm': 15, 'n': 16, 'o': 17, 'p': 18, 'q': 19, 'r': 20, 's': 21, 't': 22, 'u': 23, 'v': 24, 'w': 25, 'x': 26, 'y': 27, 'z': 28}\n",
      "{0: '.', 1: '_', 2: '-', 3: 'a', 4: 'b', 5: 'c', 6: 'd', 7: 'e', 8: 'f', 9: 'g', 10: 'h', 11: 'i', 12: 'j', 13: 'k', 14: 'l', 15: 'm', 16: 'n', 17: 'o', 18: 'p', 19: 'q', 20: 'r', 21: 's', 22: 't', 23: 'u', 24: 'v', 25: 'w', 26: 'x', 27: 'y', 28: 'z'}\n"
     ]
    }
   ],
   "source": [
    "vocab = set(\"\".join(words))\n",
    "vocab = [\".\", \"_\"] + sorted(list(vocab))\n",
    "vocab_size = len(vocab)\n",
    "print(vocab_size)\n",
    "stoi = {char: i for i, char in enumerate(vocab)}\n",
    "itos = {i: char for char, i in stoi.items()}\n",
    "print(stoi)\n",
    "print(itos)"
   ]
  },
  {
   "cell_type": "code",
   "execution_count": 19,
   "metadata": {},
   "outputs": [
    {
     "name": "stdout",
     "output_type": "stream",
     "text": [
      "224377\n"
     ]
    },
    {
     "data": {
      "text/plain": [
       "['reperplex................',\n",
       " 'dice.....................',\n",
       " 'hemibenthic..............',\n",
       " 'plumatellid..............',\n",
       " 'delatinize...............',\n",
       " 'mermithization...........',\n",
       " 'rixatrix.................',\n",
       " 'preassurance.............',\n",
       " 'desensitize..............',\n",
       " 'mele.....................',\n",
       " 'codfisher................',\n",
       " 'metrorrhagia.............',\n",
       " 'dispiece.................',\n",
       " 'malagigi.................',\n",
       " 'undetractingly...........',\n",
       " 'vanillal.................',\n",
       " 'dowery...................',\n",
       " 'blepharal................',\n",
       " 'osnappar.................',\n",
       " 'phoronic.................',\n",
       " 'behold...................',\n",
       " 'brigand..................',\n",
       " 'lots.....................',\n",
       " 'thingamabob..............',\n",
       " 'aureation................',\n",
       " 'phosphene................',\n",
       " 'kolach...................',\n",
       " 'raja.....................',\n",
       " 'rhipiphorid..............',\n",
       " 'unagitatedly.............']"
      ]
     },
     "execution_count": 19,
     "metadata": {},
     "output_type": "execute_result"
    }
   ],
   "source": [
    "# create a dataset where each character is masked with an underscore\n",
    "block_size = max_length\n",
    "dataset = []\n",
    "# Truncate word to block_size or fill them with '.' if it's too short. Use '_' for the single masked character. There must only be one '_' per word.\n",
    "truncated_words = []\n",
    "for word in words:\n",
    "    # Pad shorter words with '.' to match block_size\n",
    "    if len(word) < block_size:\n",
    "        word = word + \".\" * (block_size - len(word))\n",
    "\n",
    "    # Use sliding window to generate subwords\n",
    "    for i in range(len(word) - block_size + 1):\n",
    "        subword = word[i : i + block_size]\n",
    "        truncated_words.append(subword)\n",
    "\n",
    "print(len(truncated_words))\n",
    "truncated_words[:30]"
   ]
  },
  {
   "cell_type": "code",
   "execution_count": 20,
   "metadata": {},
   "outputs": [
    {
     "name": "stdout",
     "output_type": "stream",
     "text": [
      "[('a__', 'app'), ('_pp', 'app'), ('___', 'app')]\n",
      "[('a__.', 'app.'), ('_pp.', 'app.'), ('___.', 'app.')]\n",
      "[('xy_', 'xyz'), ('x_z', 'xyz'), ('x__', 'xyz'), ('_yz', 'xyz'), ('_y_', 'xyz'), ('__z', 'xyz'), ('___', 'xyz')]\n",
      "[('xy_..', 'xyz..'), ('x_z..', 'xyz..'), ('x__..', 'xyz..'), ('_yz..', 'xyz..'), ('_y_..', 'xyz..'), ('__z..', 'xyz..'), ('___..', 'xyz..')]\n"
     ]
    }
   ],
   "source": [
    "def masked_words(word: str):\n",
    "    if not word:\n",
    "        return []\n",
    "\n",
    "    result = []\n",
    "\n",
    "    # Get unique characters in the word\n",
    "    unique_chars = list(set(word) - {\".\"})\n",
    "\n",
    "    # Generate all possible combinations of which characters to mask\n",
    "    # For n unique characters, we have 2^n possibilities\n",
    "    for i in range(1, 2 ** len(unique_chars)):  # Start from 1 to exclude no masks\n",
    "        chars_to_mask = set()\n",
    "\n",
    "        # Determine which characters to mask based on bit pattern\n",
    "        for j in range(len(unique_chars)):\n",
    "            if i & (1 << j):\n",
    "                chars_to_mask.add(unique_chars[j])\n",
    "\n",
    "        # Create the masked string\n",
    "        masked = \"\"\n",
    "        for char in word:\n",
    "            if char in chars_to_mask:\n",
    "                masked += \"_\"\n",
    "            else:\n",
    "                masked += char\n",
    "\n",
    "        # Create a tuple for each masked character type\n",
    "        # for char in chars_to_mask:\n",
    "        result.append((masked, word))\n",
    "\n",
    "    return result\n",
    "\n",
    "\n",
    "print(masked_words(\"app\"))\n",
    "print(masked_words(\"app.\"))\n",
    "print(masked_words(\"xyz\"))\n",
    "print(masked_words(\"xyz..\"))"
   ]
  },
  {
   "cell_type": "code",
   "execution_count": 22,
   "metadata": {},
   "outputs": [
    {
     "name": "stdout",
     "output_type": "stream",
     "text": [
      "4690196\n",
      "[('re_er_lex................', 'reperplex................'), ('r_p_rpl_x................', 'reperplex................'), ('r___r_l_x................', 'reperplex................'), ('_epe_plex................', 'reperplex................'), ('_e_e__lex................', 'reperplex................'), ('__p__pl_x................', 'reperplex................'), ('______l_x................', 'reperplex................'), ('reperp_ex................', 'reperplex................'), ('re_er__ex................', 'reperplex................'), ('r_p_rp__x................', 'reperplex................')]\n",
      "CPU times: user 13.5 s, sys: 1.26 s, total: 14.7 s\n",
      "Wall time: 14.7 s\n"
     ]
    }
   ],
   "source": [
    "%%time\n",
    "def gen_dataset(truncated_words: list[str]):\n",
    "    dataset = []\n",
    "    for word in truncated_words:\n",
    "        dataset.extend(masked_words(word))\n",
    "    return dataset\n",
    "\n",
    "\n",
    "# dataset = list(set(dataset))\n",
    "\n",
    "# print the first 10 elements of the dataset\n",
    "dataset = gen_dataset(truncated_words[:10_000])\n",
    "print(len(dataset))\n",
    "print(dataset[:10])"
   ]
  },
  {
   "cell_type": "code",
   "execution_count": 23,
   "metadata": {},
   "outputs": [],
   "source": [
    "random.seed(42)\n",
    "random.shuffle(dataset)\n",
    "dataset = dataset[:2_000_000]"
   ]
  },
  {
   "cell_type": "code",
   "execution_count": 24,
   "metadata": {},
   "outputs": [
    {
     "name": "stdout",
     "output_type": "stream",
     "text": [
      "([1, 1, 1, 22, 1, 22, 1, 18, 7, 0, 0, 0, 0, 0, 0, 0, 0, 0, 0, 0, 0, 0, 0, 0, 0], [24, 17, 14, 22, 3, 22, 27, 18, 7, 0, 0, 0, 0, 0, 0, 0, 0, 0, 0, 0, 0, 0, 0, 0, 0])\n"
     ]
    }
   ],
   "source": [
    "%%time\n",
    "# convert the words to a list of ints\n",
    "integerized_dataset = []\n",
    "for word, label in dataset:\n",
    "    integerized_dataset.append(\n",
    "        ([stoi[char] for char in word], [stoi[char] for char in label])\n",
    "    )\n",
    "\n",
    "print(integerized_dataset[0])"
   ]
  },
  {
   "cell_type": "code",
   "execution_count": 25,
   "metadata": {},
   "outputs": [
    {
     "name": "stdout",
     "output_type": "stream",
     "text": [
      "2000000\n",
      "(tensor([[ 1,  1,  7, 18,  1,  3, 20,  1,  1,  1, 20,  1,  1, 11,  1, 20,  1,  1,\n",
      "         11,  1,  0,  0,  0,  0,  0],\n",
      "        [ 1, 20, 27,  1,  1,  1, 17,  1, 17,  1,  1,  5,  1,  1,  1, 14,  0,  0,\n",
      "          0,  0,  0,  0,  0,  0,  0],\n",
      "        [ 1,  1, 22,  1, 20,  5,  1,  1, 22,  1, 10, 23,  1,  1, 20,  1, 14,  0,\n",
      "          0,  0,  0,  0,  0,  0,  0]]), tensor([[ 4, 14,  7, 18, 10,  3, 20, 17,  5, 10, 20, 17, 15, 11,  6, 20, 17, 21,\n",
      "         11, 21,  0,  0,  0,  0,  0],\n",
      "        [22, 20, 27, 18,  3, 16, 17, 21, 17, 15,  3,  5, 11,  6,  3, 14,  0,  0,\n",
      "          0,  0,  0,  0,  0,  0,  0],\n",
      "        [11, 16, 22,  7, 20,  5, 17, 21, 22, 17, 10, 23, 15,  7, 20,  3, 14,  0,\n",
      "          0,  0,  0,  0,  0,  0,  0]]))\n",
      "0\n"
     ]
    }
   ],
   "source": [
    "# create a pytorch dataset of word and label pairs\n",
    "from torch.utils.data import Dataset\n",
    "import random\n",
    "\n",
    "\n",
    "class HangmanDataset(Dataset):\n",
    "    def __init__(self, words):\n",
    "        self.features = torch.tensor([x[0] for x in words])\n",
    "        self.labels = torch.tensor([x[1] for x in words])\n",
    "\n",
    "    def __len__(self):\n",
    "        return len(self.features)\n",
    "\n",
    "    def __getitem__(self, idx):\n",
    "        return self.features[idx], self.labels[idx]\n",
    "\n",
    "\n",
    "split_idx = int(len(integerized_dataset) * 1)\n",
    "shuffled_integerized_dataset = list(integerized_dataset)\n",
    "random.shuffle(shuffled_integerized_dataset)\n",
    "train_split = shuffled_integerized_dataset[:split_idx]\n",
    "val_split = shuffled_integerized_dataset[split_idx:]\n",
    "\n",
    "train_dataset = HangmanDataset(train_split)\n",
    "val_dataset = HangmanDataset(val_split)\n",
    "\n",
    "print(len(train_dataset))\n",
    "print(train_dataset[[0, 1, 2]])\n",
    "\n",
    "print(len(val_dataset))"
   ]
  },
  {
   "cell_type": "code",
   "execution_count": 26,
   "metadata": {},
   "outputs": [
    {
     "name": "stdout",
     "output_type": "stream",
     "text": [
      "Using device: cuda\n"
     ]
    },
    {
     "name": "stderr",
     "output_type": "stream",
     "text": [
      "Epoch 1/1 | Loss: 0.1664: 100%|██████████| 3907/3907 [01:59<00:00, 32.68it/s]\n"
     ]
    }
   ],
   "source": [
    "# Create a transformer model for the hangman game\n",
    "\n",
    "import torch\n",
    "import torch.nn as nn\n",
    "import torch.optim as optim\n",
    "import math\n",
    "from tqdm import tqdm\n",
    "\n",
    "d_model = 256\n",
    "nhead = 8\n",
    "num_layers = 3\n",
    "\n",
    "device = (\n",
    "    \"cuda\"\n",
    "    if torch.cuda.is_available()\n",
    "    else (\"mps\" if torch.backends.mps.is_available() else \"cpu\")\n",
    ")\n",
    "\n",
    "print(\"Using device:\", device)\n",
    "\n",
    "\n",
    "class HangmanTransformer(nn.Module):\n",
    "    def __init__(self, vocab_size, d_model, nhead, num_layers, dropout=0):\n",
    "        super(HangmanTransformer, self).__init__()\n",
    "        self.d_model = d_model\n",
    "        self.nhead = nhead\n",
    "        self.num_layers = num_layers\n",
    "        self.dropout = dropout\n",
    "\n",
    "        # Create positional encoding matrix\n",
    "        self.embedding = nn.Embedding(vocab_size, d_model)\n",
    "\n",
    "        encoder_layer = nn.TransformerEncoderLayer(\n",
    "            d_model=d_model, nhead=nhead, batch_first=True, dropout=dropout\n",
    "        )\n",
    "        self.position_embedding_table = nn.Embedding(block_size, d_model)\n",
    "        self.transformer_encoder = nn.TransformerEncoder(encoder_layer, num_layers)\n",
    "        self.ln_f = nn.LayerNorm(d_model)\n",
    "        self.fc = nn.Linear(d_model, vocab_size)\n",
    "\n",
    "    def forward(self, src):\n",
    "        src = self.embedding(src)\n",
    "        pos_emb = self.position_embedding_table(\n",
    "            torch.arange(block_size).to(device)\n",
    "        )  # (T,C)\n",
    "        src = src + pos_emb\n",
    "        output = self.transformer_encoder(src)\n",
    "        output = self.ln_f(output)\n",
    "        logits = self.fc(output)\n",
    "        return logits\n",
    "\n",
    "\n",
    "# create a transformer model\n",
    "model = HangmanTransformer(vocab_size, d_model, nhead, num_layers)\n",
    "\n",
    "model.to(device)\n",
    "# create a loss function\n",
    "criterion = nn.CrossEntropyLoss()\n",
    "\n",
    "# create an optimizer\n",
    "optimizer = optim.AdamW(model.parameters(), lr=0.001)\n",
    "\n",
    "# train the model\n",
    "batch_size = 512\n",
    "num_epochs = 1\n",
    "\n",
    "lossi = []\n",
    "\n",
    "for epoch in range(num_epochs):\n",
    "    for i in (pbar := tqdm(range(0, len(train_dataset), batch_size))):\n",
    "        # idx = torch.randint(0, len(train_dataset), (batch_size,))\n",
    "        features, labels = train_dataset[i : i + batch_size]\n",
    "        features = features.to(device)\n",
    "        labels = labels.to(device)\n",
    "        # Zero the gradients\n",
    "        optimizer.zero_grad()\n",
    "\n",
    "        # Forward pass\n",
    "        logits = model(features)\n",
    "\n",
    "        # Calculate loss\n",
    "        loss = criterion(logits.view(-1, vocab_size), labels.view(-1))\n",
    "\n",
    "        # Backward pass\n",
    "        loss.backward()\n",
    "\n",
    "        # Update weights\n",
    "        optimizer.step()\n",
    "        pbar.set_description(f\"Epoch {epoch+1}/{num_epochs} | Loss: {loss.item():.4f}\")\n",
    "        lossi.append(loss.item())"
   ]
  },
  {
   "cell_type": "code",
   "execution_count": 27,
   "metadata": {},
   "outputs": [
    {
     "data": {
      "image/png": "[encoded data removed]",
      "text/plain": [
       "<Figure size 640x480 with 1 Axes>"
      ]
     },
     "metadata": {},
     "output_type": "display_data"
    }
   ],
   "source": [
    "plt.plot(lossi)\n",
    "plt.show()"
   ]
  },
  {
   "cell_type": "code",
   "execution_count": 28,
   "metadata": {},
   "outputs": [
    {
     "name": "stderr",
     "output_type": "stream",
     "text": [
      "100%|██████████| 1/1 [00:00<00:00,  2.89it/s]"
     ]
    },
    {
     "name": "stdout",
     "output_type": "stream",
     "text": [
      "0.1648380309343338\n",
      "\n",
      "\n"
     ]
    },
    {
     "name": "stderr",
     "output_type": "stream",
     "text": [
      "\n"
     ]
    }
   ],
   "source": [
    "model.eval()\n",
    "val_dataset = train_dataset[:20000]\n",
    "with torch.no_grad():\n",
    "    losses = []\n",
    "    for i in (pbar := tqdm(range(0, len(val_dataset), batch_size))):\n",
    "        features, labels = val_dataset[i : i + batch_size]\n",
    "        features = features.to(device)\n",
    "        labels = labels.to(device)\n",
    "        logits = model(features)\n",
    "        loss = criterion(logits.view(-1, vocab_size), labels.view(-1))\n",
    "        losses.append(loss.item())\n",
    "    print(np.mean(losses))\n",
    "print(\"\\n\")"
   ]
  },
  {
   "cell_type": "code",
   "execution_count": 33,
   "metadata": {},
   "outputs": [
    {
     "name": "stdout",
     "output_type": "stream",
     "text": [
      "word reperplex................\n",
      "masked_word _________................ []\n",
      "most_confident_index tensor([ 9, 19, 24, 12, 21, 20, 15, 14, 13, 22, 17, 23, 11, 10, 16, 18,  6,  8,\n",
      "         0,  1,  4,  7,  3,  5,  2], device='cuda:0')\n",
      "letter_guesses ['i', 'e', 'a', 't', 'o', 'r', 'n', 'l', 'd', 'u', 'b', 'c', 'g', 's', 'm', 'y', 'h', 'p', 'k', 'w', 'f', 'x', 'v', 'z', 'q', 'j', '_', '-', '.']\n",
      "masked_word _e_e___e_................ ['i', 'e']\n",
      "most_confident_index tensor([ 1,  3,  7, 19,  9, 24, 12, 14, 13, 15, 20, 21, 22, 11, 10, 17, 23, 16,\n",
      "        18,  8,  4,  5,  2,  6,  0], device='cuda:0')\n",
      "letter_guesses ['r', 'd', 's', 'l', 'a', 't', 'n', 'w', 'c', 'p', 'y', 'm', 'f', 'x', 'g', 'b', 'k', 'v', 'i', 'h', 'o', 'e', 'u', 'j', 'z', 'q', '_', '-', '.']\n",
      "masked_word re_er__e_................ ['i', 'e', 'r']\n",
      "most_confident_index tensor([ 1,  0,  7, 24,  9, 13, 14, 12,  4, 19, 20, 22, 11, 15, 21, 17, 10, 16,\n",
      "        23, 18,  3,  8,  5,  6,  2], device='cuda:0')\n",
      "letter_guesses ['d', 'l', 's', 't', 'n', 'w', 'a', 'r', 'p', 'c', 'x', 'k', 'm', 'y', 'g', 'f', 'b', 'v', 'e', 'i', 'o', 'h', 'u', 'j', 'z', 'q', '_', '-', '.']\n",
      "masked_word re_er_le_................ ['i', 'e', 'r', 'd', 'l']\n",
      "most_confident_index tensor([ 1,  7,  0, 24,  9, 13, 12, 14, 19,  6, 20, 22, 15, 21, 11, 17, 10, 16,\n",
      "        23, 18,  4,  3,  5,  2,  8], device='cuda:0')\n",
      "letter_guesses ['a', 'g', 'p', 'i', 'f', 't', 'c', 'b', 's', 'o', 'n', 'u', 'd', 'e', 'w', 'y', 'm', 'k', 'l', 'q', 'h', 'r', 'v', 'z', 'x', 'j', '_', '.', '-']\n",
      "masked_word reperple_................ ['i', 'e', 'r', 'd', 'l', 'a', 'g', 'p']\n",
      "most_confident_index tensor([ 1,  7,  6,  0, 14, 24, 12,  9, 15, 22, 13, 21, 19, 16, 23, 20, 17, 18,\n",
      "        11, 10,  2,  4,  5,  3,  8], device='cuda:0')\n",
      "letter_guesses ['d', 's', 'x', 'w', 't', 'a', 'l', 'n', 'c', 'g', 'y', 'i', 'r', 'f', 'b', 'm', 'k', 'v', 'e', 'p', 'h', 'u', 'o', 'j', 'q', 'z', '_', '-', '.']\n",
      "masked_word reperplex................ ['i', 'e', 'r', 'd', 'l', 'a', 'g', 'p', 's', 'x']\n",
      "224377\n"
     ]
    },
    {
     "name": "stderr",
     "output_type": "stream",
     "text": [
      "Win rate: 75.00%:   0%|          | 8/5000 [00:00<01:08, 73.18it/s]"
     ]
    },
    {
     "name": "stderr",
     "output_type": "stream",
     "text": [
      "Win rate: 61.62%: 100%|██████████| 5000/5000 [01:08<00:00, 72.49it/s]\n"
     ]
    }
   ],
   "source": [
    "# inference:\n",
    "\n",
    "\n",
    "def predict(model, word, max_guesses=6, verbose=False):\n",
    "    if verbose:\n",
    "        print(\"word\", word)\n",
    "    guesses = []\n",
    "    model.eval()\n",
    "    with torch.no_grad():\n",
    "        while True:\n",
    "            # print(guesses)\n",
    "            masked_word = \"\".join(\n",
    "                [\"_\" if char != \".\" and char not in guesses else char for char in word]\n",
    "            )\n",
    "            if verbose:\n",
    "                print(\"masked_word\", masked_word, guesses)\n",
    "            if masked_word == word:\n",
    "                break\n",
    "            if len([g for g in guesses if g not in word]) >= max_guesses:\n",
    "                break\n",
    "\n",
    "            features = torch.tensor([[stoi[c] for c in masked_word]]).to(device)\n",
    "            # print(\"features\", features)\n",
    "            logits = model.forward(features)\n",
    "            probs = torch.softmax(logits, dim=2)\n",
    "            # print(\"probs\", probs)\n",
    "            # print(\"max\", torch.max(probs, dim=2).values)\n",
    "            most_confident_index = torch.topk(\n",
    "                torch.max(probs, dim=2).values, k=len(masked_word), dim=1\n",
    "            ).indices[0]\n",
    "            if verbose:\n",
    "                print(\"most_confident_index\", most_confident_index)\n",
    "            indices = torch.topk(probs, k=vocab_size, dim=2).indices\n",
    "            # print(\"indices\", indices)\n",
    "            for i in most_confident_index:\n",
    "                if masked_word[i] == \"_\":\n",
    "                    letter_guesses = [itos[j.item()] for j in indices[0, i]]\n",
    "                    break\n",
    "            if verbose:\n",
    "                print(\"letter_guesses\", letter_guesses)\n",
    "            for letter_guess in letter_guesses:\n",
    "                if letter_guess not in guesses and letter_guess not in [\".\", \"_\"]:\n",
    "                    guesses.append(letter_guess)\n",
    "                    if (\n",
    "                        letter_guess in word\n",
    "                        or len([g for g in guesses if g not in word]) == max_guesses\n",
    "                    ):\n",
    "                        break\n",
    "                    # break\n",
    "    return masked_word, guesses\n",
    "\n",
    "\n",
    "predict(model, truncated_words[0], max_guesses=6, verbose=True)\n",
    "print(len(truncated_words))\n",
    "\n",
    "wins = 0\n",
    "total = 0\n",
    "for word in (pbar := tqdm(truncated_words[:5000])):\n",
    "    masked_word, guesses = predict(model, word, max_guesses=6, verbose=False)\n",
    "    if masked_word == word:\n",
    "        wins += 1\n",
    "    total += 1\n",
    "    pbar.set_description(f\"Win rate: {wins / total * 100:.2f}%\")\n",
    "\n",
    "# Win Rates\n",
    "# 2 chars: 31.58% (133)\n",
    "# 3 chars: 24.10% (1249)\n",
    "# 4 chars: 23.34% (4798)\n",
    "# 5 chars: 37.19% (9522)\n",
    "# 6 chars: 34.19% (16763)\n",
    "# 7 chars: 43.69% (22675)\n",
    "# 8 chars: 60.68% (28512)\n",
    "# 9 chars: 74.61% (30882)"
   ]
  },
  {
   "cell_type": "code",
   "execution_count": 30,
   "metadata": {},
   "outputs": [
    {
     "data": {
      "text/html": [
       "<div>\n",
       "<style scoped>\n",
       "    .dataframe tbody tr th:only-of-type {\n",
       "        vertical-align: middle;\n",
       "    }\n",
       "\n",
       "    .dataframe tbody tr th {\n",
       "        vertical-align: top;\n",
       "    }\n",
       "\n",
       "    .dataframe thead th {\n",
       "        text-align: right;\n",
       "    }\n",
       "</style>\n",
       "<table border=\"1\" class=\"dataframe\">\n",
       "  <thead>\n",
       "    <tr style=\"text-align: right;\">\n",
       "      <th></th>\n",
       "      <th>max_length</th>\n",
       "      <th>win_rate</th>\n",
       "      <th>num_words</th>\n",
       "    </tr>\n",
       "  </thead>\n",
       "  <tbody>\n",
       "    <tr>\n",
       "      <th>0</th>\n",
       "      <td>6</td>\n",
       "      <td>40.58</td>\n",
       "      <td>32490</td>\n",
       "    </tr>\n",
       "    <tr>\n",
       "      <th>1</th>\n",
       "      <td>7</td>\n",
       "      <td>37.35</td>\n",
       "      <td>55165</td>\n",
       "    </tr>\n",
       "    <tr>\n",
       "      <th>2</th>\n",
       "      <td>9</td>\n",
       "      <td>46.20</td>\n",
       "      <td>114559</td>\n",
       "    </tr>\n",
       "    <tr>\n",
       "      <th>3</th>\n",
       "      <td>11</td>\n",
       "      <td>48.70</td>\n",
       "      <td>168974</td>\n",
       "    </tr>\n",
       "  </tbody>\n",
       "</table>\n",
       "</div>"
      ],
      "text/plain": [
       "   max_length  win_rate  num_words\n",
       "0           6     40.58      32490\n",
       "1           7     37.35      55165\n",
       "2           9     46.20     114559\n",
       "3          11     48.70     168974"
      ]
     },
     "execution_count": 30,
     "metadata": {},
     "output_type": "execute_result"
    },
    {
     "data": {
      "image/png": "[encoded data removed]",
      "text/plain": [
       "<Figure size 640x480 with 1 Axes>"
      ]
     },
     "metadata": {},
     "output_type": "display_data"
    }
   ],
   "source": [
    "windf = pd.DataFrame(\n",
    "    {\n",
    "        \"max_length\": [6, 7, 9, 11, 24],\n",
    "        \"win_rate\": [\n",
    "            40.58,\n",
    "            37.35,\n",
    "            46.20,\n",
    "            48.70,\n",
    "            61.20,\n",
    "        ],\n",
    "        \"num_words\": [\n",
    "            32490,\n",
    "            55165,\n",
    "            114559,\n",
    "            168974,\n",
    "        ],\n",
    "    }\n",
    ")\n",
    "windf.plot.bar(x=\"max_length\", y=\"win_rate\")\n",
    "windf"
   ]
  },
  {
   "cell_type": "code",
   "execution_count": 31,
   "metadata": {},
   "outputs": [
    {
     "name": "stdout",
     "output_type": "stream",
     "text": [
      "67.32690899834002\n"
     ]
    },
    {
     "data": {
      "text/html": [
       "<div>\n",
       "<style scoped>\n",
       "    .dataframe tbody tr th:only-of-type {\n",
       "        vertical-align: middle;\n",
       "    }\n",
       "\n",
       "    .dataframe tbody tr th {\n",
       "        vertical-align: top;\n",
       "    }\n",
       "\n",
       "    .dataframe thead th {\n",
       "        text-align: right;\n",
       "    }\n",
       "</style>\n",
       "<table border=\"1\" class=\"dataframe\">\n",
       "  <thead>\n",
       "    <tr style=\"text-align: right;\">\n",
       "      <th></th>\n",
       "      <th>word_length</th>\n",
       "      <th>win_rate</th>\n",
       "      <th>num_words</th>\n",
       "    </tr>\n",
       "  </thead>\n",
       "  <tbody>\n",
       "    <tr>\n",
       "      <th>0</th>\n",
       "      <td>2</td>\n",
       "      <td>31.58</td>\n",
       "      <td>133</td>\n",
       "    </tr>\n",
       "    <tr>\n",
       "      <th>1</th>\n",
       "      <td>3</td>\n",
       "      <td>24.10</td>\n",
       "      <td>1249</td>\n",
       "    </tr>\n",
       "    <tr>\n",
       "      <th>2</th>\n",
       "      <td>4</td>\n",
       "      <td>23.34</td>\n",
       "      <td>4798</td>\n",
       "    </tr>\n",
       "    <tr>\n",
       "      <th>3</th>\n",
       "      <td>5</td>\n",
       "      <td>37.19</td>\n",
       "      <td>9522</td>\n",
       "    </tr>\n",
       "    <tr>\n",
       "      <th>4</th>\n",
       "      <td>6</td>\n",
       "      <td>34.19</td>\n",
       "      <td>16763</td>\n",
       "    </tr>\n",
       "    <tr>\n",
       "      <th>5</th>\n",
       "      <td>7</td>\n",
       "      <td>43.69</td>\n",
       "      <td>22675</td>\n",
       "    </tr>\n",
       "    <tr>\n",
       "      <th>6</th>\n",
       "      <td>8</td>\n",
       "      <td>60.68</td>\n",
       "      <td>28512</td>\n",
       "    </tr>\n",
       "    <tr>\n",
       "      <th>7</th>\n",
       "      <td>9</td>\n",
       "      <td>74.61</td>\n",
       "      <td>30882</td>\n",
       "    </tr>\n",
       "    <tr>\n",
       "      <th>8</th>\n",
       "      <td>10</td>\n",
       "      <td>83.43</td>\n",
       "      <td>29520</td>\n",
       "    </tr>\n",
       "    <tr>\n",
       "      <th>9</th>\n",
       "      <td>11</td>\n",
       "      <td>89.70</td>\n",
       "      <td>24895</td>\n",
       "    </tr>\n",
       "    <tr>\n",
       "      <th>10</th>\n",
       "      <td>12</td>\n",
       "      <td>96.93</td>\n",
       "      <td>19608</td>\n",
       "    </tr>\n",
       "  </tbody>\n",
       "</table>\n",
       "</div>"
      ],
      "text/plain": [
       "    word_length  win_rate  num_words\n",
       "0             2     31.58        133\n",
       "1             3     24.10       1249\n",
       "2             4     23.34       4798\n",
       "3             5     37.19       9522\n",
       "4             6     34.19      16763\n",
       "5             7     43.69      22675\n",
       "6             8     60.68      28512\n",
       "7             9     74.61      30882\n",
       "8            10     83.43      29520\n",
       "9            11     89.70      24895\n",
       "10           12     96.93      19608"
      ]
     },
     "execution_count": 31,
     "metadata": {},
     "output_type": "execute_result"
    },
    {
     "data": {
      "image/png": "[encoded data removed]",
      "text/plain": [
       "<Figure size 640x480 with 1 Axes>"
      ]
     },
     "metadata": {},
     "output_type": "display_data"
    }
   ],
   "source": [
    "windf = pd.DataFrame(\n",
    "    {\n",
    "        \"word_length\": [2, 3, 4, 5, 6, 7, 8, 9, 10, 11, 12],\n",
    "        \"win_rate\": [\n",
    "            31.58,\n",
    "            24.10,\n",
    "            23.34,\n",
    "            37.19,\n",
    "            34.19,\n",
    "            43.69,\n",
    "            60.68,\n",
    "            74.61,\n",
    "            83.43,\n",
    "            89.70,\n",
    "            96.93,\n",
    "        ],\n",
    "        \"num_words\": [\n",
    "            133,\n",
    "            1249,\n",
    "            4798,\n",
    "            9522,\n",
    "            16763,\n",
    "            22675,\n",
    "            28512,\n",
    "            30882,\n",
    "            29520,\n",
    "            24895,\n",
    "            19608,\n",
    "        ],\n",
    "    }\n",
    ")\n",
    "print(windf[\"win_rate\"].mul(windf[\"num_words\"]).sum() / windf[\"num_words\"].sum())\n",
    "windf.plot.bar(x=\"word_length\", y=\"win_rate\")\n",
    "windf"
   ]
  }
 ],
 "metadata": {
  "kernelspec": {
   "display_name": ".venv",
   "language": "python",
   "name": "python3"
  },
  "language_info": {
   "codemirror_mode": {
    "name": "ipython",
    "version": 3
   },
   "file_extension": ".py",
   "mimetype": "text/x-python",
   "name": "python",
   "nbconvert_exporter": "python",
   "pygments_lexer": "ipython3",
   "version": "3.12.11"
  }
 },
 "nbformat": 4,
 "nbformat_minor": 2
}
